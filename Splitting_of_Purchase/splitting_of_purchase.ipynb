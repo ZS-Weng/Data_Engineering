{
 "cells": [
  {
   "cell_type": "markdown",
   "id": "d65625e0",
   "metadata": {},
   "source": [
    "## Splitting of Purchase Notebook"
   ]
  },
  {
   "cell_type": "code",
   "execution_count": 5,
   "id": "c203e21e",
   "metadata": {},
   "outputs": [],
   "source": [
    "import pandas as pd\n",
    "import numpy as np\n",
    "import os"
   ]
  },
  {
   "cell_type": "code",
   "execution_count": 6,
   "id": "d5197172",
   "metadata": {},
   "outputs": [
    {
     "data": {
      "text/plain": [
       "'C:\\\\Users\\\\wengz\\\\Desktop\\\\ZS_Github\\\\Data_Engineering\\\\Splitting of Purchase'"
      ]
     },
     "execution_count": 6,
     "metadata": {},
     "output_type": "execute_result"
    }
   ],
   "source": [
    "os.getcwd()"
   ]
  },
  {
   "cell_type": "code",
   "execution_count": 9,
   "id": "127073c4",
   "metadata": {},
   "outputs": [],
   "source": [
    "df_raw = pd.read_excel(\"./data/split_purchase_data.xlsx\")"
   ]
  },
  {
   "cell_type": "code",
   "execution_count": 11,
   "id": "17b5a144",
   "metadata": {},
   "outputs": [
    {
     "data": {
      "text/html": [
       "<div>\n",
       "<style scoped>\n",
       "    .dataframe tbody tr th:only-of-type {\n",
       "        vertical-align: middle;\n",
       "    }\n",
       "\n",
       "    .dataframe tbody tr th {\n",
       "        vertical-align: top;\n",
       "    }\n",
       "\n",
       "    .dataframe thead th {\n",
       "        text-align: right;\n",
       "    }\n",
       "</style>\n",
       "<table border=\"1\" class=\"dataframe\">\n",
       "  <thead>\n",
       "    <tr style=\"text-align: right;\">\n",
       "      <th></th>\n",
       "      <th>Purchasing Department</th>\n",
       "      <th>Purchase Requisition Number</th>\n",
       "      <th>Purchase Requisition Date</th>\n",
       "      <th>Item</th>\n",
       "      <th>Item Category</th>\n",
       "      <th>Vendor</th>\n",
       "      <th>Total Value</th>\n",
       "    </tr>\n",
       "  </thead>\n",
       "  <tbody>\n",
       "    <tr>\n",
       "      <th>0</th>\n",
       "      <td>Dept001</td>\n",
       "      <td>10001001</td>\n",
       "      <td>2022-01-12</td>\n",
       "      <td>Equipment AA</td>\n",
       "      <td>Equipment</td>\n",
       "      <td>V0001</td>\n",
       "      <td>2000</td>\n",
       "    </tr>\n",
       "    <tr>\n",
       "      <th>1</th>\n",
       "      <td>Dept001</td>\n",
       "      <td>10001002</td>\n",
       "      <td>2022-01-15</td>\n",
       "      <td>Equipment AA</td>\n",
       "      <td>Equipment</td>\n",
       "      <td>V0001</td>\n",
       "      <td>4000</td>\n",
       "    </tr>\n",
       "    <tr>\n",
       "      <th>2</th>\n",
       "      <td>Dept001</td>\n",
       "      <td>10001003</td>\n",
       "      <td>2022-01-14</td>\n",
       "      <td>Equipment AB</td>\n",
       "      <td>Equipment</td>\n",
       "      <td>V0002</td>\n",
       "      <td>3000</td>\n",
       "    </tr>\n",
       "    <tr>\n",
       "      <th>3</th>\n",
       "      <td>Dept001</td>\n",
       "      <td>10001004</td>\n",
       "      <td>2022-02-14</td>\n",
       "      <td>Equipment AB</td>\n",
       "      <td>Equipment</td>\n",
       "      <td>V0003</td>\n",
       "      <td>6000</td>\n",
       "    </tr>\n",
       "    <tr>\n",
       "      <th>4</th>\n",
       "      <td>Dept001</td>\n",
       "      <td>10001005</td>\n",
       "      <td>2022-02-15</td>\n",
       "      <td>Equipment AB</td>\n",
       "      <td>Equipment</td>\n",
       "      <td>V0004</td>\n",
       "      <td>8000</td>\n",
       "    </tr>\n",
       "    <tr>\n",
       "      <th>5</th>\n",
       "      <td>Dept002</td>\n",
       "      <td>10001006</td>\n",
       "      <td>2022-01-16</td>\n",
       "      <td>Equipment AA</td>\n",
       "      <td>Equipment</td>\n",
       "      <td>V0001</td>\n",
       "      <td>4000</td>\n",
       "    </tr>\n",
       "    <tr>\n",
       "      <th>6</th>\n",
       "      <td>Dept002</td>\n",
       "      <td>10001007</td>\n",
       "      <td>2022-01-17</td>\n",
       "      <td>Equipment AB</td>\n",
       "      <td>Equipment</td>\n",
       "      <td>V0002</td>\n",
       "      <td>3000</td>\n",
       "    </tr>\n",
       "  </tbody>\n",
       "</table>\n",
       "</div>"
      ],
      "text/plain": [
       "  Purchasing Department   Purchase Requisition Number   \\\n",
       "0                Dept001                      10001001   \n",
       "1                Dept001                      10001002   \n",
       "2                Dept001                      10001003   \n",
       "3                Dept001                      10001004   \n",
       "4                Dept001                      10001005   \n",
       "5                Dept002                      10001006   \n",
       "6                Dept002                      10001007   \n",
       "\n",
       "  Purchase Requisition Date          Item Item Category Vendor   Total Value  \n",
       "0                2022-01-12  Equipment AA    Equipment    V0001         2000  \n",
       "1                2022-01-15  Equipment AA    Equipment    V0001         4000  \n",
       "2                2022-01-14  Equipment AB    Equipment    V0002         3000  \n",
       "3                2022-02-14  Equipment AB    Equipment    V0003         6000  \n",
       "4                2022-02-15  Equipment AB    Equipment    V0004         8000  \n",
       "5                2022-01-16  Equipment AA    Equipment    V0001         4000  \n",
       "6                2022-01-17  Equipment AB    Equipment    V0002         3000  "
      ]
     },
     "execution_count": 11,
     "metadata": {},
     "output_type": "execute_result"
    }
   ],
   "source": [
    "df_raw.head(10)"
   ]
  },
  {
   "cell_type": "code",
   "execution_count": null,
   "id": "b70bb832",
   "metadata": {},
   "outputs": [],
   "source": []
  }
 ],
 "metadata": {
  "kernelspec": {
   "display_name": "Python [conda env:pytorch_env]",
   "language": "python",
   "name": "conda-env-pytorch_env-py"
  },
  "language_info": {
   "codemirror_mode": {
    "name": "ipython",
    "version": 3
   },
   "file_extension": ".py",
   "mimetype": "text/x-python",
   "name": "python",
   "nbconvert_exporter": "python",
   "pygments_lexer": "ipython3",
   "version": "3.10.4"
  },
  "toc": {
   "base_numbering": 1,
   "nav_menu": {},
   "number_sections": true,
   "sideBar": true,
   "skip_h1_title": false,
   "title_cell": "Table of Contents",
   "title_sidebar": "Contents",
   "toc_cell": false,
   "toc_position": {},
   "toc_section_display": true,
   "toc_window_display": false
  }
 },
 "nbformat": 4,
 "nbformat_minor": 5
}
