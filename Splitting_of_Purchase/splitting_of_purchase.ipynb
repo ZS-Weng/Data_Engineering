{
 "cells": [
  {
   "cell_type": "markdown",
   "metadata": {},
   "source": [
    "# This notebook shows the steps in building a splitting of purchase data pipeline"
   ]
  },
  {
   "cell_type": "code",
   "execution_count": 1,
   "metadata": {
    "id": "MDW-cIw_RevH"
   },
   "outputs": [],
   "source": [
    "import pandas as pd\n",
    "import numpy as np"
   ]
  },
  {
   "cell_type": "code",
   "execution_count": 2,
   "metadata": {
    "id": "D2aVoECPUMXF"
   },
   "outputs": [
    {
     "name": "stdout",
     "output_type": "stream",
     "text": [
      "CPU times: total: 125 ms\n",
      "Wall time: 773 ms\n"
     ]
    }
   ],
   "source": [
    "%%time\n",
    "df_raw = pd.read_excel(\"./data/split_purchase_data.xlsx\")"
   ]
  },
  {
   "cell_type": "code",
   "execution_count": 3,
   "metadata": {
    "colab": {
     "base_uri": "https://localhost:8080/",
     "height": 269
    },
    "id": "HlMDRT2wXPgO",
    "outputId": "f1f92359-52ca-407c-f4d9-9e05f7135418"
   },
   "outputs": [
    {
     "data": {
      "text/html": [
       "<div>\n",
       "<style scoped>\n",
       "    .dataframe tbody tr th:only-of-type {\n",
       "        vertical-align: middle;\n",
       "    }\n",
       "\n",
       "    .dataframe tbody tr th {\n",
       "        vertical-align: top;\n",
       "    }\n",
       "\n",
       "    .dataframe thead th {\n",
       "        text-align: right;\n",
       "    }\n",
       "</style>\n",
       "<table border=\"1\" class=\"dataframe\">\n",
       "  <thead>\n",
       "    <tr style=\"text-align: right;\">\n",
       "      <th></th>\n",
       "      <th>Purchasing Department</th>\n",
       "      <th>Purchase Order</th>\n",
       "      <th>Purchase Order Date</th>\n",
       "      <th>Item</th>\n",
       "      <th>Item Category</th>\n",
       "      <th>Vendor</th>\n",
       "      <th>Total Value</th>\n",
       "    </tr>\n",
       "  </thead>\n",
       "  <tbody>\n",
       "    <tr>\n",
       "      <th>0</th>\n",
       "      <td>Dept001</td>\n",
       "      <td>PO_10001001</td>\n",
       "      <td>2022-01-12</td>\n",
       "      <td>Equipment AA</td>\n",
       "      <td>Equipment</td>\n",
       "      <td>V0001</td>\n",
       "      <td>2000</td>\n",
       "    </tr>\n",
       "    <tr>\n",
       "      <th>1</th>\n",
       "      <td>Dept001</td>\n",
       "      <td>PO_10001002</td>\n",
       "      <td>2022-01-15</td>\n",
       "      <td>Equipment AA</td>\n",
       "      <td>Equipment</td>\n",
       "      <td>V0001</td>\n",
       "      <td>4000</td>\n",
       "    </tr>\n",
       "    <tr>\n",
       "      <th>2</th>\n",
       "      <td>Dept001</td>\n",
       "      <td>PO_10001003</td>\n",
       "      <td>2022-01-14</td>\n",
       "      <td>Equipment AB</td>\n",
       "      <td>Equipment</td>\n",
       "      <td>V0002</td>\n",
       "      <td>3000</td>\n",
       "    </tr>\n",
       "    <tr>\n",
       "      <th>3</th>\n",
       "      <td>Dept001</td>\n",
       "      <td>PO_10001004</td>\n",
       "      <td>2022-02-14</td>\n",
       "      <td>Equipment AB</td>\n",
       "      <td>Equipment</td>\n",
       "      <td>V0003</td>\n",
       "      <td>6000</td>\n",
       "    </tr>\n",
       "    <tr>\n",
       "      <th>4</th>\n",
       "      <td>Dept001</td>\n",
       "      <td>PO_10001005</td>\n",
       "      <td>2022-02-15</td>\n",
       "      <td>Equipment AB</td>\n",
       "      <td>Equipment</td>\n",
       "      <td>V0004</td>\n",
       "      <td>8000</td>\n",
       "    </tr>\n",
       "    <tr>\n",
       "      <th>5</th>\n",
       "      <td>Dept002</td>\n",
       "      <td>PO_10001006</td>\n",
       "      <td>2022-01-16</td>\n",
       "      <td>Equipment AA</td>\n",
       "      <td>Equipment</td>\n",
       "      <td>V0001</td>\n",
       "      <td>4000</td>\n",
       "    </tr>\n",
       "    <tr>\n",
       "      <th>6</th>\n",
       "      <td>Dept002</td>\n",
       "      <td>PO_10001007</td>\n",
       "      <td>2022-01-17</td>\n",
       "      <td>Equipment AB</td>\n",
       "      <td>Equipment</td>\n",
       "      <td>V0002</td>\n",
       "      <td>3000</td>\n",
       "    </tr>\n",
       "  </tbody>\n",
       "</table>\n",
       "</div>"
      ],
      "text/plain": [
       "  Purchasing Department Purchase Order Purchase Order Date          Item  \\\n",
       "0               Dept001    PO_10001001          2022-01-12  Equipment AA   \n",
       "1               Dept001    PO_10001002          2022-01-15  Equipment AA   \n",
       "2               Dept001    PO_10001003          2022-01-14  Equipment AB   \n",
       "3               Dept001    PO_10001004          2022-02-14  Equipment AB   \n",
       "4               Dept001    PO_10001005          2022-02-15  Equipment AB   \n",
       "5               Dept002    PO_10001006          2022-01-16  Equipment AA   \n",
       "6               Dept002    PO_10001007          2022-01-17  Equipment AB   \n",
       "\n",
       "  Item Category Vendor  Total Value  \n",
       "0    Equipment   V0001         2000  \n",
       "1    Equipment   V0001         4000  \n",
       "2    Equipment   V0002         3000  \n",
       "3    Equipment   V0003         6000  \n",
       "4    Equipment   V0004         8000  \n",
       "5    Equipment   V0001         4000  \n",
       "6    Equipment   V0002         3000  "
      ]
     },
     "execution_count": 3,
     "metadata": {},
     "output_type": "execute_result"
    }
   ],
   "source": [
    "df_raw.head(10)"
   ]
  },
  {
   "cell_type": "code",
   "execution_count": 4,
   "metadata": {
    "id": "iSZd2zv4ySLB"
   },
   "outputs": [
    {
     "ename": "KeyError",
     "evalue": "'Purchase Requisition Date'",
     "output_type": "error",
     "traceback": [
      "\u001b[1;31m---------------------------------------------------------------------------\u001b[0m",
      "\u001b[1;31mKeyError\u001b[0m                                  Traceback (most recent call last)",
      "File \u001b[1;32m~\\anaconda3\\envs\\pytorch_env\\lib\\site-packages\\pandas\\core\\indexes\\base.py:3629\u001b[0m, in \u001b[0;36mIndex.get_loc\u001b[1;34m(self, key, method, tolerance)\u001b[0m\n\u001b[0;32m   3628\u001b[0m \u001b[38;5;28;01mtry\u001b[39;00m:\n\u001b[1;32m-> 3629\u001b[0m     \u001b[38;5;28;01mreturn\u001b[39;00m \u001b[38;5;28;43mself\u001b[39;49m\u001b[38;5;241;43m.\u001b[39;49m\u001b[43m_engine\u001b[49m\u001b[38;5;241;43m.\u001b[39;49m\u001b[43mget_loc\u001b[49m\u001b[43m(\u001b[49m\u001b[43mcasted_key\u001b[49m\u001b[43m)\u001b[49m\n\u001b[0;32m   3630\u001b[0m \u001b[38;5;28;01mexcept\u001b[39;00m \u001b[38;5;167;01mKeyError\u001b[39;00m \u001b[38;5;28;01mas\u001b[39;00m err:\n",
      "File \u001b[1;32m~\\anaconda3\\envs\\pytorch_env\\lib\\site-packages\\pandas\\_libs\\index.pyx:136\u001b[0m, in \u001b[0;36mpandas._libs.index.IndexEngine.get_loc\u001b[1;34m()\u001b[0m\n",
      "File \u001b[1;32m~\\anaconda3\\envs\\pytorch_env\\lib\\site-packages\\pandas\\_libs\\index.pyx:163\u001b[0m, in \u001b[0;36mpandas._libs.index.IndexEngine.get_loc\u001b[1;34m()\u001b[0m\n",
      "File \u001b[1;32mpandas\\_libs\\hashtable_class_helper.pxi:5198\u001b[0m, in \u001b[0;36mpandas._libs.hashtable.PyObjectHashTable.get_item\u001b[1;34m()\u001b[0m\n",
      "File \u001b[1;32mpandas\\_libs\\hashtable_class_helper.pxi:5206\u001b[0m, in \u001b[0;36mpandas._libs.hashtable.PyObjectHashTable.get_item\u001b[1;34m()\u001b[0m\n",
      "\u001b[1;31mKeyError\u001b[0m: 'Purchase Requisition Date'",
      "\nThe above exception was the direct cause of the following exception:\n",
      "\u001b[1;31mKeyError\u001b[0m                                  Traceback (most recent call last)",
      "Input \u001b[1;32mIn [4]\u001b[0m, in \u001b[0;36m<cell line: 1>\u001b[1;34m()\u001b[0m\n\u001b[0;32m      1\u001b[0m df_raw[\u001b[38;5;124m\"\u001b[39m\u001b[38;5;124mPurchase Requisition Date\u001b[39m\u001b[38;5;124m\"\u001b[39m] \u001b[38;5;241m=\u001b[39m pd\u001b[38;5;241m.\u001b[39mto_datetime(\n\u001b[1;32m----> 2\u001b[0m     \u001b[43mdf_raw\u001b[49m\u001b[43m[\u001b[49m\u001b[38;5;124;43m\"\u001b[39;49m\u001b[38;5;124;43mPurchase Requisition Date\u001b[39;49m\u001b[38;5;124;43m\"\u001b[39;49m\u001b[43m]\u001b[49m\n\u001b[0;32m      3\u001b[0m )\n\u001b[0;32m      4\u001b[0m df_raw[\u001b[38;5;124m\"\u001b[39m\u001b[38;5;124mPurchase Requisition Number\u001b[39m\u001b[38;5;124m\"\u001b[39m] \u001b[38;5;241m=\u001b[39m df_raw[\u001b[38;5;124m\"\u001b[39m\u001b[38;5;124mPurchase Requisition Number\u001b[39m\u001b[38;5;124m\"\u001b[39m]\u001b[38;5;241m.\u001b[39mastype(\n\u001b[0;32m      5\u001b[0m     \u001b[38;5;28mstr\u001b[39m\n\u001b[0;32m      6\u001b[0m )\n",
      "File \u001b[1;32m~\\anaconda3\\envs\\pytorch_env\\lib\\site-packages\\pandas\\core\\frame.py:3505\u001b[0m, in \u001b[0;36mDataFrame.__getitem__\u001b[1;34m(self, key)\u001b[0m\n\u001b[0;32m   3503\u001b[0m \u001b[38;5;28;01mif\u001b[39;00m \u001b[38;5;28mself\u001b[39m\u001b[38;5;241m.\u001b[39mcolumns\u001b[38;5;241m.\u001b[39mnlevels \u001b[38;5;241m>\u001b[39m \u001b[38;5;241m1\u001b[39m:\n\u001b[0;32m   3504\u001b[0m     \u001b[38;5;28;01mreturn\u001b[39;00m \u001b[38;5;28mself\u001b[39m\u001b[38;5;241m.\u001b[39m_getitem_multilevel(key)\n\u001b[1;32m-> 3505\u001b[0m indexer \u001b[38;5;241m=\u001b[39m \u001b[38;5;28;43mself\u001b[39;49m\u001b[38;5;241;43m.\u001b[39;49m\u001b[43mcolumns\u001b[49m\u001b[38;5;241;43m.\u001b[39;49m\u001b[43mget_loc\u001b[49m\u001b[43m(\u001b[49m\u001b[43mkey\u001b[49m\u001b[43m)\u001b[49m\n\u001b[0;32m   3506\u001b[0m \u001b[38;5;28;01mif\u001b[39;00m is_integer(indexer):\n\u001b[0;32m   3507\u001b[0m     indexer \u001b[38;5;241m=\u001b[39m [indexer]\n",
      "File \u001b[1;32m~\\anaconda3\\envs\\pytorch_env\\lib\\site-packages\\pandas\\core\\indexes\\base.py:3631\u001b[0m, in \u001b[0;36mIndex.get_loc\u001b[1;34m(self, key, method, tolerance)\u001b[0m\n\u001b[0;32m   3629\u001b[0m     \u001b[38;5;28;01mreturn\u001b[39;00m \u001b[38;5;28mself\u001b[39m\u001b[38;5;241m.\u001b[39m_engine\u001b[38;5;241m.\u001b[39mget_loc(casted_key)\n\u001b[0;32m   3630\u001b[0m \u001b[38;5;28;01mexcept\u001b[39;00m \u001b[38;5;167;01mKeyError\u001b[39;00m \u001b[38;5;28;01mas\u001b[39;00m err:\n\u001b[1;32m-> 3631\u001b[0m     \u001b[38;5;28;01mraise\u001b[39;00m \u001b[38;5;167;01mKeyError\u001b[39;00m(key) \u001b[38;5;28;01mfrom\u001b[39;00m \u001b[38;5;21;01merr\u001b[39;00m\n\u001b[0;32m   3632\u001b[0m \u001b[38;5;28;01mexcept\u001b[39;00m \u001b[38;5;167;01mTypeError\u001b[39;00m:\n\u001b[0;32m   3633\u001b[0m     \u001b[38;5;66;03m# If we have a listlike key, _check_indexing_error will raise\u001b[39;00m\n\u001b[0;32m   3634\u001b[0m     \u001b[38;5;66;03m#  InvalidIndexError. Otherwise we fall through and re-raise\u001b[39;00m\n\u001b[0;32m   3635\u001b[0m     \u001b[38;5;66;03m#  the TypeError.\u001b[39;00m\n\u001b[0;32m   3636\u001b[0m     \u001b[38;5;28mself\u001b[39m\u001b[38;5;241m.\u001b[39m_check_indexing_error(key)\n",
      "\u001b[1;31mKeyError\u001b[0m: 'Purchase Requisition Date'"
     ]
    }
   ],
   "source": [
    "df_raw[\"Purchase Requisition Date\"] = pd.to_datetime(\n",
    "    df_raw[\"Purchase Requisition Date\"]\n",
    ")\n",
    "df_raw[\"Purchase Requisition Number\"] = df_raw[\"Purchase Requisition Number\"].astype(\n",
    "    str\n",
    ")"
   ]
  },
  {
   "cell_type": "code",
   "execution_count": null,
   "metadata": {
    "colab": {
     "base_uri": "https://localhost:8080/"
    },
    "id": "hAk0jVGw2E4O",
    "outputId": "feea7907-b3f4-4e7c-b38d-ec4bd45178de",
    "scrolled": true
   },
   "outputs": [],
   "source": [
    "df_raw.info()"
   ]
  },
  {
   "cell_type": "markdown",
   "metadata": {},
   "source": [
    "# Calculation of Split Purchase based on Item"
   ]
  },
  {
   "cell_type": "code",
   "execution_count": null,
   "metadata": {
    "id": "-yX9pM6769QJ"
   },
   "outputs": [],
   "source": [
    "item_field = \"Item\""
   ]
  },
  {
   "cell_type": "code",
   "execution_count": null,
   "metadata": {
    "id": "pYaFSuTxXRD7"
   },
   "outputs": [],
   "source": [
    "df_dept_item_sorted = df_raw.sort_values(\n",
    "    [\"Purchasing Department\", item_field, \"Purchase Requisition Date\"]\n",
    ")"
   ]
  },
  {
   "cell_type": "code",
   "execution_count": null,
   "metadata": {
    "id": "zz9wVPgxzBQa"
   },
   "outputs": [],
   "source": [
    "df_dept_item_sorted[\"Prev PR Date\"] = df_dept_item_sorted[\n",
    "    \"Purchase Requisition Date\"\n",
    "].shift()"
   ]
  },
  {
   "cell_type": "code",
   "execution_count": null,
   "metadata": {
    "id": "vi59-e-jzRAL"
   },
   "outputs": [],
   "source": [
    "df_dept_item_sorted[\"PreGroup\"] = (\n",
    "    df_dept_item_sorted[\n",
    "        [\"Purchasing Department\", item_field, \"Purchase Requisition Date\"]\n",
    "    ]\n",
    "    .groupby([\"Purchasing Department\", item_field])\n",
    "    .cumcount()\n",
    ")"
   ]
  },
  {
   "cell_type": "code",
   "execution_count": null,
   "metadata": {
    "colab": {
     "base_uri": "https://localhost:8080/",
     "height": 206
    },
    "id": "Jb8T5Y8lzs7O",
    "outputId": "1b66cbfd-7611-47fc-dc87-94ef80d7d5ac"
   },
   "outputs": [],
   "source": [
    "df_dept_item_sorted.head()"
   ]
  },
  {
   "cell_type": "code",
   "execution_count": null,
   "metadata": {
    "id": "TS9EIKVm0TmA"
   },
   "outputs": [],
   "source": [
    "mask = df_dept_item_sorted[\"PreGroup\"] == 0\n",
    "df_dept_item_sorted.loc[mask, \"Prev PR Date\"] = pd.NaT"
   ]
  },
  {
   "cell_type": "code",
   "execution_count": null,
   "metadata": {
    "id": "Xei4KVPR0ghr"
   },
   "outputs": [],
   "source": [
    "# Calculating number of days difference between adjacent records\n",
    "df_dept_item_sorted[\"Date_Diff\"] = (\n",
    "    df_dept_item_sorted[\"Purchase Requisition Date\"]\n",
    "    - df_dept_item_sorted[\"Prev PR Date\"]\n",
    ").dt.days"
   ]
  },
  {
   "cell_type": "code",
   "execution_count": null,
   "metadata": {
    "id": "TPmbNvL82Xsl"
   },
   "outputs": [],
   "source": [
    "# Set Threshold\n",
    "n = 5\n",
    "df_dept_item_sorted[\"Flag Out of Range\"] = (\n",
    "    1 - (df_dept_item_sorted[\"Date_Diff\"] <= n)\n",
    ").astype(int)"
   ]
  },
  {
   "cell_type": "code",
   "execution_count": null,
   "metadata": {
    "id": "04tqTK0n3tNP"
   },
   "outputs": [],
   "source": [
    "df_dept_item_sorted[\"Grouping\"] = df_dept_item_sorted[\"Flag Out of Range\"].cumsum()"
   ]
  },
  {
   "cell_type": "code",
   "execution_count": null,
   "metadata": {
    "colab": {
     "base_uri": "https://localhost:8080/",
     "height": 354
    },
    "id": "5k1ruj2A34Rt",
    "outputId": "b2ac822b-76b3-483b-bbe7-7bdb0d16d559"
   },
   "outputs": [],
   "source": [
    "df_dept_item_sorted.head()"
   ]
  },
  {
   "cell_type": "code",
   "execution_count": null,
   "metadata": {
    "id": "cjAvmi4n37Ag"
   },
   "outputs": [],
   "source": [
    "df_pr_count = (\n",
    "    df_dept_item_sorted[[\"Grouping\", item_field, \"Purchase Requisition Number\"]]\n",
    "    .groupby([\"Grouping\", item_field])\n",
    "    .nunique()\n",
    "    .reset_index()\n",
    ")"
   ]
  },
  {
   "cell_type": "code",
   "execution_count": null,
   "metadata": {
    "id": "hdrMPbtH70e1"
   },
   "outputs": [],
   "source": [
    "df_pr_count.columns = [\"Grouping\", item_field, \"Count PR\"]"
   ]
  },
  {
   "cell_type": "code",
   "execution_count": null,
   "metadata": {
    "id": "ZLvzq1WX7rLx"
   },
   "outputs": [],
   "source": [
    "# Identifies the groups that are valid split purchase cases\n",
    "df_split_purchase_group = df_pr_count[df_pr_count[\"Count PR\"] >= 2]"
   ]
  },
  {
   "cell_type": "code",
   "execution_count": null,
   "metadata": {
    "id": "wAzyX-oC7srQ"
   },
   "outputs": [],
   "source": [
    "# Joining of Split Purchase Groups to initial details\n",
    "df_split_purchase_details = df_split_purchase_group.merge(\n",
    "    df_dept_item_sorted, how=\"inner\", on=[\"Grouping\", item_field]\n",
    ")"
   ]
  },
  {
   "cell_type": "code",
   "execution_count": null,
   "metadata": {
    "colab": {
     "base_uri": "https://localhost:8080/",
     "height": 305
    },
    "id": "zro8SLU18VZQ",
    "outputId": "924eb863-455c-408c-9163-66d9560b2a63"
   },
   "outputs": [],
   "source": [
    "df_split_purchase_details.head()"
   ]
  },
  {
   "cell_type": "code",
   "execution_count": null,
   "metadata": {
    "id": "yj4cASzM8Y49"
   },
   "outputs": [],
   "source": [
    "df_split_purchase_details[\"Date_Diff\"] = np.where(\n",
    "    df_split_purchase_details[\"Flag Out of Range\"] == 1,\n",
    "    pd.NaT,\n",
    "    df_split_purchase_details[\"Date_Diff\"],\n",
    ")"
   ]
  },
  {
   "cell_type": "code",
   "execution_count": null,
   "metadata": {
    "id": "hNzvrPnB9arg"
   },
   "outputs": [],
   "source": [
    "df_split_purchase_details.sort_values(\n",
    "    [\"Grouping\", \"Purchase Requisition Number\"], inplace=True\n",
    ")"
   ]
  },
  {
   "cell_type": "code",
   "execution_count": null,
   "metadata": {
    "id": "JyWyDWec-Eiy"
   },
   "outputs": [],
   "source": [
    "df_split_purchase_desc = (\n",
    "    df_split_purchase_details.groupby([\"Grouping\", item_field])\n",
    "    .agg({\"Purchase Requisition Number\": \"|\".join})\n",
    "    .reset_index()\n",
    ")"
   ]
  },
  {
   "cell_type": "code",
   "execution_count": null,
   "metadata": {
    "id": "57mHN0Xm-6yJ"
   },
   "outputs": [],
   "source": [
    "df_split_purchase_desc.columns = [\"Grouping\", item_field, \"PR with similar items\"]"
   ]
  },
  {
   "cell_type": "code",
   "execution_count": null,
   "metadata": {
    "id": "XNiHWSF__M9_"
   },
   "outputs": [],
   "source": [
    "df_split_purchase_comb = df_split_purchase_details.merge(\n",
    "    df_split_purchase_desc, how=\"inner\", on=[\"Grouping\", item_field]\n",
    ")"
   ]
  },
  {
   "cell_type": "code",
   "execution_count": null,
   "metadata": {
    "colab": {
     "base_uri": "https://localhost:8080/",
     "height": 323
    },
    "id": "ckRKP3owqZGZ",
    "outputId": "80b335c2-b4d0-45ab-debc-9b39f5056aa1"
   },
   "outputs": [],
   "source": [
    "df_split_purchase_comb"
   ]
  },
  {
   "cell_type": "markdown",
   "metadata": {
    "id": "rDdqnAyfrtoK"
   },
   "source": [
    "### Derive futher prioritization based on rules\n",
    "\n",
    "- Was the threshold avoided due to the split ?\n",
    "- Are the splits belonging to the same vendor ?\n",
    "- Are the dates diff within one day ?"
   ]
  },
  {
   "cell_type": "code",
   "execution_count": null,
   "metadata": {
    "id": "qrn_QypesB4j"
   },
   "outputs": [],
   "source": [
    "df_priority_score = (\n",
    "    df_split_purchase_comb.groupby([\"Grouping\"])\n",
    "    .agg(\n",
    "        {\n",
    "            \"Total Value\": [\"min\", \"sum\"],\n",
    "            \"Date_Diff\": \"min\",\n",
    "            \"Vendor\": [\"nunique\", \"count\"],\n",
    "        }\n",
    "    )\n",
    "    .reset_index()\n",
    ")"
   ]
  },
  {
   "cell_type": "code",
   "execution_count": null,
   "metadata": {
    "id": "ZBVjt2Xpsa9v"
   },
   "outputs": [],
   "source": [
    "df_priority_score.columns = [\n",
    "    \"Grouping\",\n",
    "    \"Min_Value\",\n",
    "    \"Max_Value\",\n",
    "    \"Min_Date_Diff\",\n",
    "    \"Unique_Vendor\",\n",
    "    \"Count_Vendor\",\n",
    "]"
   ]
  },
  {
   "cell_type": "code",
   "execution_count": null,
   "metadata": {
    "id": "pOFDnOWNsbK_"
   },
   "outputs": [],
   "source": [
    "value_threshold = 5_000\n",
    "df_priority_score[\"Flag_Threshold_Crossed\"] = (\n",
    "    (df_priority_score[\"Min_Value\"] < value_threshold)\n",
    "    & (df_priority_score[\"Max_Value\"] >= value_threshold)\n",
    ").astype(int)"
   ]
  },
  {
   "cell_type": "code",
   "execution_count": null,
   "metadata": {
    "id": "w2vlmpqpvVDE"
   },
   "outputs": [],
   "source": [
    "df_priority_score[\"Flag_Same_Vendor\"] = (\n",
    "    (df_priority_score[\"Unique_Vendor\"] == df_priority_score[\"Count_Vendor\"])\n",
    ").astype(int)"
   ]
  },
  {
   "cell_type": "code",
   "execution_count": null,
   "metadata": {
    "id": "jCFBk8e9sbOQ"
   },
   "outputs": [],
   "source": [
    "days_threshold = 1\n",
    "df_priority_score[\"Flag_Min_Days\"] = (\n",
    "    df_priority_score[\"Min_Date_Diff\"] <= days_threshold\n",
    ").astype(int)"
   ]
  },
  {
   "cell_type": "code",
   "execution_count": null,
   "metadata": {
    "id": "OAE4xT5wvwTV"
   },
   "outputs": [],
   "source": [
    "df_priority_score[\"Score\"] = (\n",
    "    df_priority_score[\"Flag_Threshold_Crossed\"]\n",
    "    + df_priority_score[\"Flag_Same_Vendor\"]\n",
    "    + df_priority_score[\"Flag_Min_Days\"]\n",
    ")"
   ]
  },
  {
   "cell_type": "code",
   "execution_count": null,
   "metadata": {
    "colab": {
     "base_uri": "https://localhost:8080/",
     "height": 112
    },
    "id": "Hx1gnsT1wFqx",
    "outputId": "afc95c95-b635-4f35-d198-3cbaf4f027fc"
   },
   "outputs": [],
   "source": [
    "df_priority_score"
   ]
  },
  {
   "cell_type": "code",
   "execution_count": null,
   "metadata": {
    "id": "GKM2ODJzwH-w"
   },
   "outputs": [],
   "source": [
    "df_sop_item = df_split_purchase_comb.merge(df_priority_score, how=\"left\", on=\"Grouping\")"
   ]
  },
  {
   "cell_type": "code",
   "execution_count": null,
   "metadata": {
    "id": "SzNl7SOZ1-Pw"
   },
   "outputs": [],
   "source": [
    "df_sop_item.insert(0, \"Item Type\", f\"1_{item_field}\")"
   ]
  },
  {
   "cell_type": "code",
   "execution_count": null,
   "metadata": {
    "colab": {
     "base_uri": "https://localhost:8080/",
     "height": 372
    },
    "id": "6MH3cKP02U63",
    "outputId": "c780e4cd-e1a3-44e4-9ed0-cdcf6d476672"
   },
   "outputs": [],
   "source": [
    "df_sop_item.head()"
   ]
  },
  {
   "cell_type": "markdown",
   "metadata": {
    "id": "-OmKOrMf1Ol2"
   },
   "source": [
    "## Performing the calculations for Split Purchase based on Item Categories"
   ]
  },
  {
   "cell_type": "code",
   "execution_count": null,
   "metadata": {
    "id": "AcbGA_x81Pe1"
   },
   "outputs": [],
   "source": [
    "item_field = \"Item Category\""
   ]
  },
  {
   "cell_type": "code",
   "execution_count": null,
   "metadata": {
    "id": "K4wsNR1R1Pe2"
   },
   "outputs": [],
   "source": [
    "df_dept_item_sorted = df_raw.sort_values(\n",
    "    [\"Purchasing Department\", item_field, \"Purchase Requisition Date\"]\n",
    ")"
   ]
  },
  {
   "cell_type": "code",
   "execution_count": null,
   "metadata": {
    "id": "0NKwRYTa1Pe3"
   },
   "outputs": [],
   "source": [
    "df_dept_item_sorted[\"Prev PR Date\"] = df_dept_item_sorted[\n",
    "    \"Purchase Requisition Date\"\n",
    "].shift()"
   ]
  },
  {
   "cell_type": "code",
   "execution_count": null,
   "metadata": {
    "id": "9K6qnZ-g1Pe3"
   },
   "outputs": [],
   "source": [
    "df_dept_item_sorted[\"PreGroup\"] = (\n",
    "    df_dept_item_sorted[\n",
    "        [\"Purchasing Department\", item_field, \"Purchase Requisition Date\"]\n",
    "    ]\n",
    "    .groupby([\"Purchasing Department\", item_field])\n",
    "    .cumcount()\n",
    ")"
   ]
  },
  {
   "cell_type": "code",
   "execution_count": null,
   "metadata": {
    "colab": {
     "base_uri": "https://localhost:8080/",
     "height": 206
    },
    "id": "VdqURFdC1Pe3",
    "outputId": "2d9da5f4-0a02-42ec-d60c-c9a23fa5928f"
   },
   "outputs": [],
   "source": [
    "df_dept_item_sorted.head()"
   ]
  },
  {
   "cell_type": "code",
   "execution_count": null,
   "metadata": {
    "id": "050p9T_t1Pe4"
   },
   "outputs": [],
   "source": [
    "mask = df_dept_item_sorted[\"PreGroup\"] == 0\n",
    "df_dept_item_sorted.loc[mask, \"Prev PR Date\"] = pd.NaT"
   ]
  },
  {
   "cell_type": "code",
   "execution_count": null,
   "metadata": {
    "id": "-Qt6dZU91Pe4"
   },
   "outputs": [],
   "source": [
    "# Calculating number of days difference between adjacent records\n",
    "df_dept_item_sorted[\"Date_Diff\"] = (\n",
    "    df_dept_item_sorted[\"Purchase Requisition Date\"]\n",
    "    - df_dept_item_sorted[\"Prev PR Date\"]\n",
    ").dt.days"
   ]
  },
  {
   "cell_type": "code",
   "execution_count": null,
   "metadata": {
    "id": "ZzXr8JjM1Pe5"
   },
   "outputs": [],
   "source": [
    "# Set Threshold\n",
    "n = 5\n",
    "df_dept_item_sorted[\"Flag Out of Range\"] = (\n",
    "    1 - (df_dept_item_sorted[\"Date_Diff\"] <= n)\n",
    ").astype(int)"
   ]
  },
  {
   "cell_type": "code",
   "execution_count": null,
   "metadata": {
    "id": "a7kzyTuy1Pe5"
   },
   "outputs": [],
   "source": [
    "df_dept_item_sorted[\"Grouping\"] = df_dept_item_sorted[\"Flag Out of Range\"].cumsum()"
   ]
  },
  {
   "cell_type": "code",
   "execution_count": null,
   "metadata": {
    "colab": {
     "base_uri": "https://localhost:8080/",
     "height": 354
    },
    "id": "vBas8iag1Pe6",
    "outputId": "26c999f6-1ad1-4ded-d9e1-432c2d75add7"
   },
   "outputs": [],
   "source": [
    "df_dept_item_sorted.head()"
   ]
  },
  {
   "cell_type": "code",
   "execution_count": null,
   "metadata": {
    "id": "qOrV_Tih1Pe6"
   },
   "outputs": [],
   "source": [
    "df_pr_count = (\n",
    "    df_dept_item_sorted[[\"Grouping\", item_field, \"Purchase Requisition Number\"]]\n",
    "    .groupby([\"Grouping\", item_field])\n",
    "    .nunique()\n",
    "    .reset_index()\n",
    ")"
   ]
  },
  {
   "cell_type": "code",
   "execution_count": null,
   "metadata": {
    "id": "Vy7ZNlP51Pe6"
   },
   "outputs": [],
   "source": [
    "df_pr_count.columns = [\"Grouping\", item_field, \"Count PR\"]"
   ]
  },
  {
   "cell_type": "code",
   "execution_count": null,
   "metadata": {
    "id": "fXEVqJA91Pe7"
   },
   "outputs": [],
   "source": [
    "# Identifies the groups that are valid split purchase cases\n",
    "df_split_purchase_group = df_pr_count[df_pr_count[\"Count PR\"] >= 2]"
   ]
  },
  {
   "cell_type": "code",
   "execution_count": null,
   "metadata": {
    "id": "ucvIw0tR1Pe7"
   },
   "outputs": [],
   "source": [
    "# Joining of Split Purchase Groups to initial details\n",
    "df_split_purchase_details = df_split_purchase_group.merge(\n",
    "    df_dept_item_sorted, how=\"inner\", on=[\"Grouping\", item_field]\n",
    ")"
   ]
  },
  {
   "cell_type": "code",
   "execution_count": null,
   "metadata": {
    "colab": {
     "base_uri": "https://localhost:8080/",
     "height": 354
    },
    "id": "s7BajyFg1Pe8",
    "outputId": "7cf1abc8-46c4-4d81-aa74-8e1a3f86eb1a"
   },
   "outputs": [],
   "source": [
    "df_split_purchase_details.head()"
   ]
  },
  {
   "cell_type": "code",
   "execution_count": null,
   "metadata": {
    "id": "4EBwTEhQ1Pe8"
   },
   "outputs": [],
   "source": [
    "df_split_purchase_details[\"Date_Diff\"] = np.where(\n",
    "    df_split_purchase_details[\"Flag Out of Range\"] == 1,\n",
    "    pd.NaT,\n",
    "    df_split_purchase_details[\"Date_Diff\"],\n",
    ")"
   ]
  },
  {
   "cell_type": "code",
   "execution_count": null,
   "metadata": {
    "id": "ThJaCFor1Pe8"
   },
   "outputs": [],
   "source": [
    "df_split_purchase_details.sort_values(\n",
    "    [\"Grouping\", \"Purchase Requisition Number\"], inplace=True\n",
    ")"
   ]
  },
  {
   "cell_type": "code",
   "execution_count": null,
   "metadata": {
    "id": "WO20tA691Pe9"
   },
   "outputs": [],
   "source": [
    "df_split_purchase_desc = (\n",
    "    df_split_purchase_details.groupby([\"Grouping\", item_field])\n",
    "    .agg({\"Purchase Requisition Number\": \"|\".join})\n",
    "    .reset_index()\n",
    ")"
   ]
  },
  {
   "cell_type": "code",
   "execution_count": null,
   "metadata": {
    "id": "N1guh_MH1Pe9"
   },
   "outputs": [],
   "source": [
    "df_split_purchase_desc.columns = [\"Grouping\", item_field, \"PR with similar items\"]"
   ]
  },
  {
   "cell_type": "code",
   "execution_count": null,
   "metadata": {
    "id": "UEaQtB1q1Pe9"
   },
   "outputs": [],
   "source": [
    "df_split_purchase_comb = df_split_purchase_details.merge(\n",
    "    df_split_purchase_desc, how=\"inner\", on=[\"Grouping\", item_field]\n",
    ")"
   ]
  },
  {
   "cell_type": "code",
   "execution_count": null,
   "metadata": {
    "colab": {
     "base_uri": "https://localhost:8080/",
     "height": 486
    },
    "id": "tjYOOyLM1Pe-",
    "outputId": "37975ea1-b3f1-4c4a-f4b0-5a747c73c0c8"
   },
   "outputs": [],
   "source": [
    "df_split_purchase_comb"
   ]
  },
  {
   "cell_type": "markdown",
   "metadata": {
    "id": "OKh7ciK91PfA"
   },
   "source": [
    "### Derive futher prioritization based on rules\n",
    "\n",
    "- Was the threshold avoided due to the split ?\n",
    "- Are the splits belonging to the same vendor ?\n",
    "- Are the dates diff within one day ?"
   ]
  },
  {
   "cell_type": "code",
   "execution_count": null,
   "metadata": {
    "id": "xWkmjUvk1PfA"
   },
   "outputs": [],
   "source": [
    "df_priority_score = (\n",
    "    df_split_purchase_comb.groupby([\"Grouping\"])\n",
    "    .agg(\n",
    "        {\n",
    "            \"Total Value\": [\"min\", \"sum\"],\n",
    "            \"Date_Diff\": \"min\",\n",
    "            \"Vendor\": [\"nunique\", \"count\"],\n",
    "        }\n",
    "    )\n",
    "    .reset_index()\n",
    ")"
   ]
  },
  {
   "cell_type": "code",
   "execution_count": null,
   "metadata": {
    "id": "yER7s5eH1PfB"
   },
   "outputs": [],
   "source": [
    "df_priority_score.columns = [\n",
    "    \"Grouping\",\n",
    "    \"Min_Value\",\n",
    "    \"Max_Value\",\n",
    "    \"Min_Date_Diff\",\n",
    "    \"Unique_Vendor\",\n",
    "    \"Count_Vendor\",\n",
    "]"
   ]
  },
  {
   "cell_type": "code",
   "execution_count": null,
   "metadata": {
    "id": "m39XWNcj1PfB"
   },
   "outputs": [],
   "source": [
    "value_threshold = 5_000\n",
    "df_priority_score[\"Flag_Threshold_Crossed\"] = (\n",
    "    (df_priority_score[\"Min_Value\"] < value_threshold)\n",
    "    & (df_priority_score[\"Max_Value\"] >= value_threshold)\n",
    ").astype(int)"
   ]
  },
  {
   "cell_type": "code",
   "execution_count": null,
   "metadata": {
    "id": "_Z55iZsW1PfB"
   },
   "outputs": [],
   "source": [
    "df_priority_score[\"Flag_Same_Vendor\"] = (\n",
    "    (df_priority_score[\"Unique_Vendor\"] == df_priority_score[\"Count_Vendor\"])\n",
    ").astype(int)"
   ]
  },
  {
   "cell_type": "code",
   "execution_count": null,
   "metadata": {
    "id": "Rgjjw6eU1PfC"
   },
   "outputs": [],
   "source": [
    "days_threshold = 1\n",
    "df_priority_score[\"Flag_Min_Days\"] = (\n",
    "    df_priority_score[\"Min_Date_Diff\"] <= days_threshold\n",
    ").astype(int)"
   ]
  },
  {
   "cell_type": "code",
   "execution_count": null,
   "metadata": {
    "id": "XMJDsjko1PfC"
   },
   "outputs": [],
   "source": [
    "df_priority_score[\"Score\"] = (\n",
    "    df_priority_score[\"Flag_Threshold_Crossed\"]\n",
    "    + df_priority_score[\"Flag_Same_Vendor\"]\n",
    "    + df_priority_score[\"Flag_Min_Days\"]\n",
    ")"
   ]
  },
  {
   "cell_type": "code",
   "execution_count": null,
   "metadata": {
    "colab": {
     "base_uri": "https://localhost:8080/",
     "height": 143
    },
    "id": "X458yTQD1PfD",
    "outputId": "a1f3a955-fc89-416a-c2af-0311a3dea642"
   },
   "outputs": [],
   "source": [
    "df_priority_score"
   ]
  },
  {
   "cell_type": "code",
   "execution_count": null,
   "metadata": {
    "id": "AkBDt6IH1PfE"
   },
   "outputs": [],
   "source": [
    "df_sop_itemcat = df_split_purchase_comb.merge(\n",
    "    df_priority_score, how=\"left\", on=\"Grouping\"\n",
    ")"
   ]
  },
  {
   "cell_type": "code",
   "execution_count": null,
   "metadata": {
    "id": "Fc4MEHbv1oMP"
   },
   "outputs": [],
   "source": [
    "df_sop_itemcat.insert(0, \"Item Type\", f\"2_{item_field}\")"
   ]
  },
  {
   "cell_type": "code",
   "execution_count": null,
   "metadata": {
    "colab": {
     "base_uri": "https://localhost:8080/",
     "height": 421
    },
    "id": "ZxXa-WiT1ohY",
    "outputId": "02703759-d91a-40a7-d354-a31003bc0e75"
   },
   "outputs": [],
   "source": [
    "df_sop_itemcat.head()"
   ]
  },
  {
   "cell_type": "markdown",
   "metadata": {
    "id": "1NnGG7n92e7v"
   },
   "source": [
    "## Combine Details"
   ]
  },
  {
   "cell_type": "code",
   "execution_count": null,
   "metadata": {
    "id": "QkmEnIfk2ciM"
   },
   "outputs": [],
   "source": [
    "df_sop_comb = pd.concat([df_sop_item, df_sop_itemcat])"
   ]
  },
  {
   "cell_type": "code",
   "execution_count": null,
   "metadata": {
    "colab": {
     "base_uri": "https://localhost:8080/",
     "height": 713
    },
    "id": "llkKnv0_2n0U",
    "outputId": "9ab69f28-8411-43c4-dae8-49618f4bdd5a"
   },
   "outputs": [],
   "source": [
    "df_sop_comb"
   ]
  },
  {
   "cell_type": "code",
   "execution_count": null,
   "metadata": {
    "id": "8N-0gY6gXhDx"
   },
   "outputs": [],
   "source": [
    "# With the different methods, there will be Groupings with the exact same PR combination and items flagged, we can remove those\n",
    "df_sop_comb.sort_values([\"Grouping\", \"Item\"], inplace=True)"
   ]
  },
  {
   "cell_type": "code",
   "execution_count": null,
   "metadata": {
    "id": "q1-iQaKlXhNp"
   },
   "outputs": [],
   "source": [
    "df_sop_grouping_check = (\n",
    "    df_sop_comb.groupby([\"Grouping\", \"Item Type\", \"PR with similar items\", \"Score\"])\n",
    "    .agg({\"Item\": \"|\".join})\n",
    "    .reset_index()\n",
    ")"
   ]
  },
  {
   "cell_type": "code",
   "execution_count": null,
   "metadata": {
    "id": "KTrFhXpKZRt-"
   },
   "outputs": [],
   "source": [
    "df_sop_grouping_check.columns = [\n",
    "    \"Grouping\",\n",
    "    \"Item Type\",\n",
    "    \"PR with similar items\",\n",
    "    \"Score\",\n",
    "    \"Items in Group\",\n",
    "]"
   ]
  },
  {
   "cell_type": "code",
   "execution_count": null,
   "metadata": {
    "id": "2TlsVAtlZTGm"
   },
   "outputs": [],
   "source": [
    "df_sop_grouping_check.sort_values(\n",
    "    [\"PR with similar items\", \"Items in Group\", \"Item Type\", \"Score\"],\n",
    "    ascending=[True, True, True, False],\n",
    "    inplace=True,\n",
    ")"
   ]
  },
  {
   "cell_type": "code",
   "execution_count": null,
   "metadata": {
    "colab": {
     "base_uri": "https://localhost:8080/",
     "height": 112
    },
    "id": "oiNAnQsZZxUY",
    "outputId": "8381308e-5ab9-473a-867f-0f643df17a63"
   },
   "outputs": [],
   "source": [
    "# Identify Groups with the same PRs and Items\n",
    "df_sop_grouping_check[\n",
    "    df_sop_grouping_check.duplicated(\n",
    "        subset=[\"PR with similar items\", \"Items in Group\"], keep=False\n",
    "    )\n",
    "]"
   ]
  },
  {
   "cell_type": "code",
   "execution_count": null,
   "metadata": {
    "id": "SZo0xNESZzHz"
   },
   "outputs": [],
   "source": [
    "df_sop_grouping_unique = df_sop_grouping_check.drop_duplicates(\n",
    "    subset=[\"PR with similar items\", \"Items in Group\"], keep=\"first\"\n",
    ")\n",
    "valid_groupings = set(df_sop_grouping_unique[\"Grouping\"].tolist())"
   ]
  },
  {
   "cell_type": "code",
   "execution_count": null,
   "metadata": {
    "id": "tmqq37ULbAM3"
   },
   "outputs": [],
   "source": [
    "df_sop_comb_final = df_sop_comb[df_sop_comb[\"Grouping\"].isin(valid_groupings)]"
   ]
  },
  {
   "cell_type": "code",
   "execution_count": null,
   "metadata": {
    "colab": {
     "base_uri": "https://localhost:8080/",
     "height": 616
    },
    "id": "BLKaeSG_beZR",
    "outputId": "7cef382c-1208-4830-db38-f8fadd780700"
   },
   "outputs": [],
   "source": [
    "df_sop_comb_final"
   ]
  },
  {
   "cell_type": "code",
   "execution_count": null,
   "metadata": {
    "id": "SlpbwzL3bffr"
   },
   "outputs": [],
   "source": []
  }
 ],
 "metadata": {
  "colab": {
   "provenance": []
  },
  "kernelspec": {
   "display_name": "Python [conda env:pytorch_env]",
   "language": "python",
   "name": "conda-env-pytorch_env-py"
  },
  "language_info": {
   "codemirror_mode": {
    "name": "ipython",
    "version": 3
   },
   "file_extension": ".py",
   "mimetype": "text/x-python",
   "name": "python",
   "nbconvert_exporter": "python",
   "pygments_lexer": "ipython3",
   "version": "3.10.4"
  },
  "toc": {
   "base_numbering": 1,
   "nav_menu": {},
   "number_sections": true,
   "sideBar": true,
   "skip_h1_title": false,
   "title_cell": "Table of Contents",
   "title_sidebar": "Contents",
   "toc_cell": false,
   "toc_position": {},
   "toc_section_display": true,
   "toc_window_display": false
  }
 },
 "nbformat": 4,
 "nbformat_minor": 4
}
