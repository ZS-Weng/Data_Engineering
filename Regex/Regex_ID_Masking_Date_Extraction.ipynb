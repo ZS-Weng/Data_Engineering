{
  "nbformat": 4,
  "nbformat_minor": 0,
  "metadata": {
    "colab": {
      "provenance": [],
      "collapsed_sections": []
    },
    "kernelspec": {
      "name": "python3",
      "display_name": "Python 3"
    },
    "language_info": {
      "name": "python"
    }
  },
  "cells": [
    {
      "cell_type": "code",
      "execution_count": null,
      "metadata": {
        "id": "Ov-N8-KVbxkq"
      },
      "outputs": [],
      "source": [
        "import re\n",
        "import pandas as pd\n",
        "from datetime import datetime"
      ]
    },
    {
      "cell_type": "code",
      "source": [
        "def mask_nric(text):\n",
        "\n",
        "    nric_regex = re.compile('([STFG])\\d{4}(\\d{3}[A-Z])')\n",
        "    if re.findall('.*[STFG]\\d{4}\\d{3}[A-Z].*', text):\n",
        "        return nric_regex.sub(r'\\1XXX\\2', text)\n",
        "    else:\n",
        "        return text"
      ],
      "metadata": {
        "id": "fSTH636Fb-hp"
      },
      "execution_count": null,
      "outputs": []
    },
    {
      "cell_type": "code",
      "source": [
        "def mask_nric(text):\n",
        "\n",
        "    nric_regex = re.compile('([STFG])\\d{4}(\\d{3}[A-Z])')\n",
        "    return nric_regex.sub(r'\\1XXXX\\2', text)"
      ],
      "metadata": {
        "id": "yeEh-RCQ4NG3"
      },
      "execution_count": null,
      "outputs": []
    },
    {
      "cell_type": "code",
      "source": [
        "text = 'S8034567A was paid $100. T9254321E was paid $300'"
      ],
      "metadata": {
        "id": "k3NLVBLAb-qx"
      },
      "execution_count": null,
      "outputs": []
    },
    {
      "cell_type": "code",
      "source": [
        "mask_nric(text)"
      ],
      "metadata": {
        "colab": {
          "base_uri": "https://localhost:8080/",
          "height": 36
        },
        "id": "_wvI6Hy6b-uA",
        "outputId": "a1803a62-6e3a-47f8-fb69-d6810b3ccf83"
      },
      "execution_count": null,
      "outputs": [
        {
          "output_type": "execute_result",
          "data": {
            "text/plain": [
              "'SXXXX567A was paid $100. TXXXX321E was paid $300'"
            ],
            "application/vnd.google.colaboratory.intrinsic+json": {
              "type": "string"
            }
          },
          "metadata": {},
          "execution_count": 16
        }
      ]
    },
    {
      "cell_type": "code",
      "source": [
        "text2 = 'John was paid $100. Jane was paid $300'"
      ],
      "metadata": {
        "id": "akfU8cngb-w2"
      },
      "execution_count": null,
      "outputs": []
    },
    {
      "cell_type": "code",
      "source": [
        "mask_nric(text2)"
      ],
      "metadata": {
        "colab": {
          "base_uri": "https://localhost:8080/",
          "height": 36
        },
        "id": "6IiMSTaHb-zq",
        "outputId": "340e7add-c2ab-494c-862b-d5c85b397766"
      },
      "execution_count": null,
      "outputs": [
        {
          "output_type": "execute_result",
          "data": {
            "text/plain": [
              "'John was paid $100. Jane was paid $300'"
            ],
            "application/vnd.google.colaboratory.intrinsic+json": {
              "type": "string"
            }
          },
          "metadata": {},
          "execution_count": 18
        }
      ]
    },
    {
      "cell_type": "code",
      "source": [
        "string_date_pattern = re.compile(r'''\n",
        "(\\d{1,2})?\n",
        "[\\s-]?\n",
        "((?:(?:Jan(?:uary)?|Feb(?:ruary)?|Mar(?:ch)?|Apr(?:il)?|May|Jun(?:e)?|Jul(?:y)?|Aug(?:ust)?|Sep(?:tember)?|Oct(?:ober)?|Nov(?:ember)?|Dec(?:ember)?)))\n",
        "[\\w]?\n",
        "['\\s-]?\n",
        "['\\s-]?\n",
        "(20\\d{2}|\\d{2})\n",
        "(?:\\s|[A-Za-z]|[\\(\\)\\.\\]]|[-_/]|$)\n",
        "''', re.VERBOSE | re.IGNORECASE)"
      ],
      "metadata": {
        "id": "4J8j4oZh4Y23"
      },
      "execution_count": null,
      "outputs": []
    },
    {
      "cell_type": "code",
      "source": [
        "day_first_pattern = re.compile(r'''\n",
        "([0-3]?[0-9])\n",
        "[./]\n",
        "([01]?[0-9])\n",
        "[./]\n",
        "(20\\d{2}|\\d{2})\n",
        "(?:\\s|[A-Za-z]|[\\(\\)\\.\\]]|[-_]|$)\n",
        "''', re.VERBOSE | re.IGNORECASE)"
      ],
      "metadata": {
        "id": "etSD88kK6mkH"
      },
      "execution_count": null,
      "outputs": []
    },
    {
      "cell_type": "code",
      "source": [
        "month_first_pattern = re.compile(r'''\n",
        "([01]?[0-9])\n",
        "[./]\n",
        "([0-3]?[0-9])\n",
        "[./]\n",
        "(20\\d{2}|\\d{2})\n",
        "(?:\\s|[A-Za-z]|[\\(\\)\\.\\]]|[-_]|$)\n",
        "''', re.VERBOSE | re.IGNORECASE)"
      ],
      "metadata": {
        "id": "dnLqNSKXQWk8"
      },
      "execution_count": null,
      "outputs": []
    },
    {
      "cell_type": "code",
      "source": [
        "q_year_pattern = re.compile(r'''\n",
        "Q\n",
        "([1-4])\n",
        "[\\s-]?\n",
        "(20\\d{2}|\\d{2})\n",
        "''', re.VERBOSE | re.IGNORECASE)"
      ],
      "metadata": {
        "id": "8wdSm7po6mmw"
      },
      "execution_count": null,
      "outputs": []
    },
    {
      "cell_type": "code",
      "source": [
        "def check_string_date(compiled_pattern, text):\n",
        "\n",
        "    # List to contain output date format \n",
        "    list_output_date = []\n",
        "\n",
        "    # Use text matching to match details \n",
        "    list_dates = compiled_pattern.findall(text)\n",
        "    \n",
        "    for record in list_dates:\n",
        "        day, month, year = record\n",
        "        flag_blank_day = (len(day)==0)\n",
        "        #Putting the default date to 1 if only Month and Year details are present\n",
        "        if flag_blank_day:\n",
        "            day = \"01\"\n",
        "        if len(year) == 2:\n",
        "            year = '20' + year\n",
        "        month = month.capitalize()\n",
        "\n",
        "        str_date = ' '.join([day,month,year])\n",
        "        #Handle Scenario where the month is is 3 Letter Short Form \n",
        "        if len(month) == 3:\n",
        "            try:\n",
        "                list_output_date.append(datetime.strptime(str_date, \"%d %b %Y\"))\n",
        "            #In the event that the date is keyed in out of range \n",
        "            except ValueError:\n",
        "                str_date = ' '.join([\"01\",month,year])\n",
        "                list_output_date.append(datetime.strptime(str_date, \"%d %b %Y\"))\n",
        "\n",
        "        #Handle Scenario where the month is is in long Form \n",
        "        else:\n",
        "            try:\n",
        "                list_output_date.append(datetime.strptime(str_date, \"%d %B %Y\"))\n",
        "            #In the event that the date is keyed in out of range \n",
        "            except ValueError:\n",
        "                str_date = ' '.join([\"01\",month,year])\n",
        "                list_output_date.append(datetime.strptime(str_date, \"%d %B %Y\"))\n",
        "\n",
        "    if len(list_output_date) > 0:\n",
        "        return (list_output_date)\n",
        "    else:\n",
        "        return [pd.NaT]"
      ],
      "metadata": {
        "id": "MWJH5vux6mql"
      },
      "execution_count": null,
      "outputs": []
    },
    {
      "cell_type": "code",
      "source": [
        "def check_numeric_date(compiled_pattern, text, match_type='day_first'):\n",
        "\n",
        "    # List to contain output date format \n",
        "    list_output_date = []\n",
        "\n",
        "     # Use text matching to match details \n",
        "    list_dates = compiled_pattern.findall(text)\n",
        "\n",
        "    for record in list_dates:\n",
        "        if match_type == 'day_first':\n",
        "            day, month, year = record\n",
        "            day = int(day)\n",
        "            month = int(month)\n",
        "            if len(year) == 2:\n",
        "                year = int('20' + year)\n",
        "            else:\n",
        "                year = int(year)\n",
        "\n",
        "            try:\n",
        "                list_output_date.append(datetime(year,month,day))\n",
        "            #In the event that the date is keyed in out of range \n",
        "            except ValueError:\n",
        "                print(f\"Invalid date: {record}\")\n",
        "\n",
        "        if match_type == 'month_first':\n",
        "            day, month, year = record\n",
        "            day = int(day)\n",
        "            month = int(month)\n",
        "            if len(year) == 2:\n",
        "                year = int('20' + year)\n",
        "            else:\n",
        "                year = int(year)\n",
        "\n",
        "            try:\n",
        "                list_output_date.append(datetime(year,month,day))\n",
        "            #In the event that the date is keyed in out of range \n",
        "            except ValueError:\n",
        "                print(f\"Invalid date: {record}\")\n",
        "        \n",
        "    if len(list_output_date) > 0:\n",
        "        return (list_output_date)\n",
        "    else:\n",
        "        return [pd.NaT]"
      ],
      "metadata": {
        "id": "kjXcew-z6mx7"
      },
      "execution_count": null,
      "outputs": []
    },
    {
      "cell_type": "code",
      "source": [
        "def check_quarter_year(compiled_pattern, text):\n",
        "\n",
        "    # List to contain output date format \n",
        "    list_output_date = []\n",
        "\n",
        "    # Use text matching to match details \n",
        "    list_dates = compiled_pattern.findall(text)\n",
        "\n",
        "    for record in list_dates:\n",
        "\n",
        "        quarter, year = record\n",
        "        quarter = int(quarter)\n",
        "        #Get the starting month of the quarter\n",
        "        month = 1 + (quarter-1) * 3\n",
        "        if len(year) == 2:\n",
        "            year = int('20' + year)\n",
        "        else:\n",
        "            year = int(year)\n",
        "        \n",
        "        list_output_date.append(datetime(year,month,1))\n",
        "\n",
        "    if len(list_output_date) > 0:\n",
        "        return (list_output_date)\n",
        "    else:\n",
        "        return [pd.NaT]"
      ],
      "metadata": {
        "id": "FbLX6fbzQpND"
      },
      "execution_count": null,
      "outputs": []
    },
    {
      "cell_type": "code",
      "source": [
        "text_with_date = '30 February 2021 23 Jan 2020 is earlier than 30 February 2021'"
      ],
      "metadata": {
        "id": "cSeZRyZN6mtB"
      },
      "execution_count": null,
      "outputs": []
    },
    {
      "cell_type": "code",
      "source": [
        "string_date_pattern.findall(text_with_date)"
      ],
      "metadata": {
        "colab": {
          "base_uri": "https://localhost:8080/"
        },
        "id": "REJKM-p0CJ7q",
        "outputId": "c7d2aa8c-784c-4528-fb57-57c9999fc016"
      },
      "execution_count": null,
      "outputs": [
        {
          "output_type": "execute_result",
          "data": {
            "text/plain": [
              "[('30', 'February', '2021'), ('23', 'Jan', '2020'), ('30', 'February', '2021')]"
            ]
          },
          "metadata": {},
          "execution_count": 39
        }
      ]
    },
    {
      "cell_type": "code",
      "source": [
        "check_string_date(string_date_pattern, text_with_date)"
      ],
      "metadata": {
        "colab": {
          "base_uri": "https://localhost:8080/"
        },
        "id": "mVKZEarA6mvl",
        "outputId": "32dcd1a3-de84-46d2-adc4-a896e5f86bd2"
      },
      "execution_count": null,
      "outputs": [
        {
          "output_type": "execute_result",
          "data": {
            "text/plain": [
              "[datetime.datetime(2021, 2, 1, 0, 0),\n",
              " datetime.datetime(2020, 1, 23, 0, 0),\n",
              " datetime.datetime(2021, 2, 1, 0, 0)]"
            ]
          },
          "metadata": {},
          "execution_count": 40
        }
      ]
    },
    {
      "cell_type": "code",
      "source": [
        "check_string_date(string_date_pattern, 'Hahaha')"
      ],
      "metadata": {
        "colab": {
          "base_uri": "https://localhost:8080/"
        },
        "id": "vaZLF9dHUlRS",
        "outputId": "df0bf24f-a70e-401d-831c-2f78c9f9585b"
      },
      "execution_count": null,
      "outputs": [
        {
          "output_type": "execute_result",
          "data": {
            "text/plain": [
              "[NaT]"
            ]
          },
          "metadata": {},
          "execution_count": 59
        }
      ]
    },
    {
      "cell_type": "code",
      "source": [
        "text_numeric_date = '09/08/2020  and 22.12.22 are valid dates, 13/13/2020 is an invalid date'"
      ],
      "metadata": {
        "id": "vV4OtSIK6m0j"
      },
      "execution_count": null,
      "outputs": []
    },
    {
      "cell_type": "code",
      "source": [
        "check_numeric_date(day_first_pattern, text_numeric_date)"
      ],
      "metadata": {
        "colab": {
          "base_uri": "https://localhost:8080/"
        },
        "id": "uLiTprtjPaox",
        "outputId": "d6975b8b-447e-4e73-eb09-3fb28e658671"
      },
      "execution_count": null,
      "outputs": [
        {
          "output_type": "stream",
          "name": "stdout",
          "text": [
            "Invalid date: ('13', '13', '2020')\n"
          ]
        },
        {
          "output_type": "execute_result",
          "data": {
            "text/plain": [
              "[datetime.datetime(2020, 8, 9, 0, 0), datetime.datetime(2022, 12, 22, 0, 0)]"
            ]
          },
          "metadata": {},
          "execution_count": 53
        }
      ]
    },
    {
      "cell_type": "code",
      "source": [
        "text_quarter_date = 'Q1 2022, Q2-2021, Q32020 are all valid variations'"
      ],
      "metadata": {
        "id": "6a3TRytJPtj6"
      },
      "execution_count": null,
      "outputs": []
    },
    {
      "cell_type": "code",
      "source": [
        "check_quarter_year(q_year_pattern, text_quarter_date)"
      ],
      "metadata": {
        "colab": {
          "base_uri": "https://localhost:8080/"
        },
        "id": "ImZ6tKBHXAzC",
        "outputId": "5abe69fe-1ea0-4212-9e8b-a422c65cb750"
      },
      "execution_count": null,
      "outputs": [
        {
          "output_type": "execute_result",
          "data": {
            "text/plain": [
              "[datetime.datetime(2022, 1, 1, 0, 0),\n",
              " datetime.datetime(2021, 4, 1, 0, 0),\n",
              " datetime.datetime(2020, 7, 1, 0, 0)]"
            ]
          },
          "metadata": {},
          "execution_count": 67
        }
      ]
    },
    {
      "cell_type": "code",
      "source": [],
      "metadata": {
        "id": "onHMi8yRXQqI"
      },
      "execution_count": null,
      "outputs": []
    }
  ]
}