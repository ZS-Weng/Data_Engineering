{
 "cells": [
  {
   "cell_type": "markdown",
   "metadata": {},
   "source": [
    "The corresponding Medium article can be found at the following link: https://medium.com/@zaishanweng/applications-of-regex-and-python-in-data-transformation-for-masking-of-sensitive-information-and-1598b1f15cee"
   ]
  },
  {
   "cell_type": "code",
   "execution_count": 1,
   "metadata": {
    "id": "Ov-N8-KVbxkq"
   },
   "outputs": [],
   "source": [
    "import re\n",
    "import pandas as pd\n",
    "from datetime import datetime"
   ]
  },
  {
   "cell_type": "code",
   "execution_count": 2,
   "metadata": {
    "id": "yeEh-RCQ4NG3"
   },
   "outputs": [],
   "source": [
    "def mask_nric(text):\n",
    "\n",
    "    nric_regex = re.compile(\"([STFG])\\d{4}(\\d{3}[A-Z])\")\n",
    "    return nric_regex.sub(r\"\\1XXXX\\2\", text)"
   ]
  },
  {
   "cell_type": "code",
   "execution_count": 3,
   "metadata": {
    "id": "k3NLVBLAb-qx"
   },
   "outputs": [],
   "source": [
    "text = \"\"\"S8034567A and T9254321E are examples of Singapore National ID which will be masked. \n",
    "S11223344E is a society number format which will not be masked\"\"\""
   ]
  },
  {
   "cell_type": "code",
   "execution_count": 4,
   "metadata": {
    "colab": {
     "base_uri": "https://localhost:8080/",
     "height": 36
    },
    "id": "_wvI6Hy6b-uA",
    "outputId": "a1803a62-6e3a-47f8-fb69-d6810b3ccf83"
   },
   "outputs": [
    {
     "name": "stdout",
     "output_type": "stream",
     "text": [
      "SXXXX567A and TXXXX321E are examples of Singapore National ID which will be masked. \n",
      "S11223344E is a society number format which will not be masked\n"
     ]
    }
   ],
   "source": [
    "print(mask_nric(text))"
   ]
  },
  {
   "cell_type": "code",
   "execution_count": 5,
   "metadata": {
    "id": "4J8j4oZh4Y23"
   },
   "outputs": [],
   "source": [
    "string_date_pattern = re.compile(\n",
    "    r\"\"\"\n",
    "(\\d{1,2})?\n",
    "[\\s-]?\n",
    "((?:(?:Jan(?:uary)?|Feb(?:ruary)?|Mar(?:ch)?|Apr(?:il)?|May|Jun(?:e)?|Jul(?:y)?|Aug(?:ust)?|Sep(?:tember)?|Oct(?:ober)?|Nov(?:ember)?|Dec(?:ember)?)))\n",
    "[\\w]?\n",
    "['\\s-]?\n",
    "['\\s-]?\n",
    "(20\\d{2}|\\d{2})\n",
    "(?:\\s|[A-Za-z]|[\\(\\)\\.\\]]|[-_/]|$)\n",
    "\"\"\",\n",
    "    re.VERBOSE | re.IGNORECASE,\n",
    ")"
   ]
  },
  {
   "cell_type": "code",
   "execution_count": 6,
   "metadata": {
    "id": "etSD88kK6mkH"
   },
   "outputs": [],
   "source": [
    "day_first_pattern = re.compile(\n",
    "    r\"\"\"\n",
    "([0-3]?[0-9])\n",
    "[./]\n",
    "([01]?[0-9])\n",
    "[./]\n",
    "(20\\d{2}|\\d{2})\n",
    "(?:\\s|[A-Za-z]|[\\(\\)\\.\\]]|[-_]|$)\n",
    "\"\"\",\n",
    "    re.VERBOSE | re.IGNORECASE,\n",
    ")"
   ]
  },
  {
   "cell_type": "code",
   "execution_count": 7,
   "metadata": {
    "id": "dnLqNSKXQWk8"
   },
   "outputs": [],
   "source": [
    "month_first_pattern = re.compile(\n",
    "    r\"\"\"\n",
    "([01]?[0-9])\n",
    "[./]\n",
    "([0-3]?[0-9])\n",
    "[./]\n",
    "(20\\d{2}|\\d{2})\n",
    "(?:\\s|[A-Za-z]|[\\(\\)\\.\\]]|[-_]|$)\n",
    "\"\"\",\n",
    "    re.VERBOSE | re.IGNORECASE,\n",
    ")"
   ]
  },
  {
   "cell_type": "code",
   "execution_count": 8,
   "metadata": {
    "id": "8wdSm7po6mmw"
   },
   "outputs": [],
   "source": [
    "q_year_pattern = re.compile(\n",
    "    r\"\"\"\n",
    "Q\n",
    "([1-4])\n",
    "[\\s-]?\n",
    "(20\\d{2}|\\d{2})\n",
    "\"\"\",\n",
    "    re.VERBOSE | re.IGNORECASE,\n",
    ")"
   ]
  },
  {
   "cell_type": "code",
   "execution_count": 9,
   "metadata": {
    "id": "MWJH5vux6mql"
   },
   "outputs": [],
   "source": [
    "def check_string_date(compiled_pattern, text):\n",
    "\n",
    "    # List to contain output date format\n",
    "    list_output_date = []\n",
    "\n",
    "    # Use text matching to match details\n",
    "    list_dates = compiled_pattern.findall(text)\n",
    "\n",
    "    for record in list_dates:\n",
    "        day, month, year = record\n",
    "        flag_blank_day = len(day) == 0\n",
    "        # Putting the default date to 1 if only Month and Year details are present\n",
    "        if flag_blank_day:\n",
    "            day = \"01\"\n",
    "        if len(year) == 2:\n",
    "            year = \"20\" + year\n",
    "        month = month.capitalize()\n",
    "\n",
    "        str_date = \" \".join([day, month, year])\n",
    "        # Handle Scenario where the month is is 3 Letter Short Form\n",
    "        if len(month) == 3:\n",
    "            try:\n",
    "                list_output_date.append(datetime.strptime(str_date, \"%d %b %Y\"))\n",
    "            # In the event that the date is keyed in out of range\n",
    "            except ValueError:\n",
    "                str_date = \" \".join([\"01\", month, year])\n",
    "                list_output_date.append(datetime.strptime(str_date, \"%d %b %Y\"))\n",
    "\n",
    "        # Handle Scenario where the month is is in long Form\n",
    "        else:\n",
    "            try:\n",
    "                list_output_date.append(datetime.strptime(str_date, \"%d %B %Y\"))\n",
    "            # In the event that the date is keyed in out of range\n",
    "            except ValueError:\n",
    "                str_date = \" \".join([\"01\", month, year])\n",
    "                list_output_date.append(datetime.strptime(str_date, \"%d %B %Y\"))\n",
    "\n",
    "    if len(list_output_date) > 0:\n",
    "        return list_output_date\n",
    "    else:\n",
    "        return [pd.NaT]"
   ]
  },
  {
   "cell_type": "code",
   "execution_count": 10,
   "metadata": {
    "id": "kjXcew-z6mx7"
   },
   "outputs": [],
   "source": [
    "def check_numeric_date(compiled_pattern, text, match_type=\"day_first\"):\n",
    "\n",
    "    # List to contain output date format\n",
    "    list_output_date = []\n",
    "\n",
    "    # Use text matching to match details\n",
    "    list_dates = compiled_pattern.findall(text)\n",
    "\n",
    "    for record in list_dates:\n",
    "        if match_type == \"day_first\":\n",
    "            day, month, year = record\n",
    "            day = int(day)\n",
    "            month = int(month)\n",
    "            if len(year) == 2:\n",
    "                year = int(\"20\" + year)\n",
    "            else:\n",
    "                year = int(year)\n",
    "\n",
    "            try:\n",
    "                list_output_date.append(datetime(year, month, day))\n",
    "            # In the event that the date is keyed in out of range\n",
    "            except ValueError:\n",
    "                print(f\"Invalid date: {record}\")\n",
    "\n",
    "        if match_type == \"month_first\":\n",
    "            day, month, year = record\n",
    "            day = int(day)\n",
    "            month = int(month)\n",
    "            if len(year) == 2:\n",
    "                year = int(\"20\" + year)\n",
    "            else:\n",
    "                year = int(year)\n",
    "\n",
    "            try:\n",
    "                list_output_date.append(datetime(year, month, day))\n",
    "            # In the event that the date is keyed in out of range\n",
    "            except ValueError:\n",
    "                print(f\"Invalid date: {record}\")\n",
    "\n",
    "    if len(list_output_date) > 0:\n",
    "        return list_output_date\n",
    "    else:\n",
    "        return [pd.NaT]"
   ]
  },
  {
   "cell_type": "code",
   "execution_count": 11,
   "metadata": {
    "id": "FbLX6fbzQpND"
   },
   "outputs": [],
   "source": [
    "def check_quarter_year(compiled_pattern, text):\n",
    "\n",
    "    # List to contain output date format\n",
    "    list_output_date = []\n",
    "\n",
    "    # Use text matching to match details\n",
    "    list_dates = compiled_pattern.findall(text)\n",
    "\n",
    "    for record in list_dates:\n",
    "\n",
    "        quarter, year = record\n",
    "        quarter = int(quarter)\n",
    "        # Get the starting month of the quarter\n",
    "        month = 1 + (quarter - 1) * 3\n",
    "        if len(year) == 2:\n",
    "            year = int(\"20\" + year)\n",
    "        else:\n",
    "            year = int(year)\n",
    "\n",
    "        list_output_date.append(datetime(year, month, 1))\n",
    "\n",
    "    if len(list_output_date) > 0:\n",
    "        return list_output_date\n",
    "    else:\n",
    "        return [pd.NaT]"
   ]
  },
  {
   "cell_type": "code",
   "execution_count": 12,
   "metadata": {
    "id": "cSeZRyZN6mtB"
   },
   "outputs": [],
   "source": [
    "text_with_date = \"\"\"Both 14 Jan 22 and 23 Dec 2021 are dates which will be detected.\n",
    "30 February 2021 is an invalid date format and will be default to 1st Feb instead\"\"\""
   ]
  },
  {
   "cell_type": "code",
   "execution_count": 13,
   "metadata": {
    "colab": {
     "base_uri": "https://localhost:8080/"
    },
    "id": "mVKZEarA6mvl",
    "outputId": "32dcd1a3-de84-46d2-adc4-a896e5f86bd2",
    "scrolled": true
   },
   "outputs": [
    {
     "data": {
      "text/plain": [
       "[datetime.datetime(2022, 1, 14, 0, 0),\n",
       " datetime.datetime(2021, 12, 23, 0, 0),\n",
       " datetime.datetime(2021, 2, 1, 0, 0)]"
      ]
     },
     "execution_count": 13,
     "metadata": {},
     "output_type": "execute_result"
    }
   ],
   "source": [
    "check_string_date(string_date_pattern, text_with_date)"
   ]
  },
  {
   "cell_type": "code",
   "execution_count": 14,
   "metadata": {
    "id": "vV4OtSIK6m0j"
   },
   "outputs": [],
   "source": [
    "text_numeric_date = \"\"\"Both 09/08/2020  and 22.12.22 are valid dates.\n",
    "13/13/2020 will be detected as an invalid date\"\"\""
   ]
  },
  {
   "cell_type": "code",
   "execution_count": 15,
   "metadata": {
    "colab": {
     "base_uri": "https://localhost:8080/"
    },
    "id": "uLiTprtjPaox",
    "outputId": "d6975b8b-447e-4e73-eb09-3fb28e658671"
   },
   "outputs": [
    {
     "name": "stdout",
     "output_type": "stream",
     "text": [
      "Invalid date: ('13', '13', '2020')\n"
     ]
    },
    {
     "data": {
      "text/plain": [
       "[datetime.datetime(2020, 8, 9, 0, 0), datetime.datetime(2022, 12, 22, 0, 0)]"
      ]
     },
     "execution_count": 15,
     "metadata": {},
     "output_type": "execute_result"
    }
   ],
   "source": [
    "check_numeric_date(day_first_pattern, text_numeric_date)"
   ]
  },
  {
   "cell_type": "code",
   "execution_count": 16,
   "metadata": {
    "id": "6a3TRytJPtj6"
   },
   "outputs": [],
   "source": [
    "text_quarter_date = \"Q1 2022, Q2-2021 and Q32020 are all valid Quarter Year patterns which will be detected\""
   ]
  },
  {
   "cell_type": "code",
   "execution_count": 17,
   "metadata": {
    "colab": {
     "base_uri": "https://localhost:8080/"
    },
    "id": "ImZ6tKBHXAzC",
    "outputId": "5abe69fe-1ea0-4212-9e8b-a422c65cb750"
   },
   "outputs": [
    {
     "data": {
      "text/plain": [
       "[datetime.datetime(2022, 1, 1, 0, 0),\n",
       " datetime.datetime(2021, 4, 1, 0, 0),\n",
       " datetime.datetime(2020, 7, 1, 0, 0)]"
      ]
     },
     "execution_count": 17,
     "metadata": {},
     "output_type": "execute_result"
    }
   ],
   "source": [
    "check_quarter_year(q_year_pattern, text_quarter_date)"
   ]
  },
  {
   "cell_type": "code",
   "execution_count": null,
   "metadata": {
    "id": "onHMi8yRXQqI"
   },
   "outputs": [],
   "source": []
  }
 ],
 "metadata": {
  "colab": {
   "collapsed_sections": [],
   "provenance": []
  },
  "kernelspec": {
   "display_name": "Python 3 (ipykernel)",
   "language": "python",
   "name": "python3"
  },
  "language_info": {
   "codemirror_mode": {
    "name": "ipython",
    "version": 3
   },
   "file_extension": ".py",
   "mimetype": "text/x-python",
   "name": "python",
   "nbconvert_exporter": "python",
   "pygments_lexer": "ipython3",
   "version": "3.9.12"
  },
  "toc": {
   "base_numbering": 1,
   "nav_menu": {},
   "number_sections": true,
   "sideBar": true,
   "skip_h1_title": false,
   "title_cell": "Table of Contents",
   "title_sidebar": "Contents",
   "toc_cell": false,
   "toc_position": {},
   "toc_section_display": true,
   "toc_window_display": false
  }
 },
 "nbformat": 4,
 "nbformat_minor": 1
}
