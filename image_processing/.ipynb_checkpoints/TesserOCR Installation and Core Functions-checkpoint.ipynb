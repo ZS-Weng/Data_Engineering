{
 "cells": [
  {
   "cell_type": "markdown",
   "id": "83001494",
   "metadata": {},
   "source": [
    "## Installation of TesserOCR\n",
    "\n",
    "- Good for stand-alone development where there is no access to the internet\n",
    "- Download package from https://github.com/simonflueckiger/tesserocr-windows_build/releases"
   ]
  },
  {
   "cell_type": "code",
   "execution_count": 1,
   "id": "b54efc04",
   "metadata": {},
   "outputs": [
    {
     "name": "stdout",
     "output_type": "stream",
     "text": [
      "Looking in links: ./package\n",
      "Processing c:\\users\\wengz\\desktop\\zs_github\\data_engineering\\image_processing\\package\\tesserocr-2.5.2-cp310-cp310-win_amd64.whl\n",
      "Installing collected packages: tesserocr\n",
      "Successfully installed tesserocr-2.5.2\n"
     ]
    }
   ],
   "source": [
    "#!pip install \"./package/tesserocr-2.5.2-cp310-cp310-win_amd64.whl\" --find-links \"./package\""
   ]
  },
  {
   "cell_type": "code",
   "execution_count": 3,
   "id": "96f044b7",
   "metadata": {},
   "outputs": [
    {
     "name": "stdout",
     "output_type": "stream",
     "text": [
      "Collecting opencv-python\n",
      "  Downloading opencv_python-4.7.0.72-cp37-abi3-win_amd64.whl (38.2 MB)\n",
      "     --------------------------------------- 38.2/38.2 MB 59.5 MB/s eta 0:00:00\n",
      "Requirement already satisfied: numpy>=1.19.3 in c:\\users\\wengz\\anaconda3\\envs\\pytorch_env\\lib\\site-packages (from opencv-python) (1.23.5)\n",
      "Installing collected packages: opencv-python\n",
      "Successfully installed opencv-python-4.7.0.72\n"
     ]
    }
   ],
   "source": [
    "#!pip install opencv-python"
   ]
  },
  {
   "cell_type": "code",
   "execution_count": 2,
   "id": "edbfaa13",
   "metadata": {},
   "outputs": [
    {
     "name": "stdout",
     "output_type": "stream",
     "text": [
      "Python 3.10.9\n"
     ]
    }
   ],
   "source": [
    "!python --version"
   ]
  },
  {
   "cell_type": "markdown",
   "id": "243aa4d8",
   "metadata": {},
   "source": [
    "## Detecting Text"
   ]
  },
  {
   "cell_type": "code",
   "execution_count": null,
   "id": "a30fe3ac",
   "metadata": {},
   "outputs": [],
   "source": []
  },
  {
   "cell_type": "code",
   "execution_count": null,
   "id": "62860013",
   "metadata": {},
   "outputs": [],
   "source": []
  },
  {
   "cell_type": "code",
   "execution_count": null,
   "id": "833f1592",
   "metadata": {},
   "outputs": [],
   "source": []
  },
  {
   "cell_type": "code",
   "execution_count": null,
   "id": "d2dc7ca8",
   "metadata": {},
   "outputs": [],
   "source": []
  },
  {
   "cell_type": "code",
   "execution_count": null,
   "id": "c32cfb34",
   "metadata": {},
   "outputs": [],
   "source": []
  }
 ],
 "metadata": {
  "kernelspec": {
   "display_name": "Python [conda env:pytorch_env]",
   "language": "python",
   "name": "conda-env-pytorch_env-py"
  },
  "language_info": {
   "codemirror_mode": {
    "name": "ipython",
    "version": 3
   },
   "file_extension": ".py",
   "mimetype": "text/x-python",
   "name": "python",
   "nbconvert_exporter": "python",
   "pygments_lexer": "ipython3",
   "version": "3.10.9"
  },
  "toc": {
   "base_numbering": 1,
   "nav_menu": {},
   "number_sections": true,
   "sideBar": true,
   "skip_h1_title": false,
   "title_cell": "Table of Contents",
   "title_sidebar": "Contents",
   "toc_cell": false,
   "toc_position": {},
   "toc_section_display": true,
   "toc_window_display": false
  }
 },
 "nbformat": 4,
 "nbformat_minor": 5
}
