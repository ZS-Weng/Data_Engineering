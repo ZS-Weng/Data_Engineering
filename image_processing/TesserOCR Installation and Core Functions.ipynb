{
 "cells": [
  {
   "cell_type": "markdown",
   "id": "83001494",
   "metadata": {},
   "source": [
    "## Installation of TesserOCR\n",
    "\n",
    "- Good for stand-alone development where there is no access to the internet\n",
    "- Download package from https://github.com/simonflueckiger/tesserocr-windows_build/releases"
   ]
  },
  {
   "cell_type": "code",
   "execution_count": 2,
   "id": "b54efc04",
   "metadata": {},
   "outputs": [
    {
     "name": "stdout",
     "output_type": "stream",
     "text": [
      "Looking in links: ./package\n"
     ]
    },
    {
     "name": "stderr",
     "output_type": "stream",
     "text": [
      "ERROR: tesserocr-2.5.2-cp311-cp311-win_amd64.whl is not a supported wheel on this platform.\n"
     ]
    }
   ],
   "source": [
    "!pip install \"./package/tesserocr-2.5.2-cp311-cp311-win_amd64.whl\" --find-links \"./package\""
   ]
  },
  {
   "cell_type": "code",
   "execution_count": 4,
   "id": "edbfaa13",
   "metadata": {},
   "outputs": [
    {
     "name": "stdout",
     "output_type": "stream",
     "text": [
      "Python 3.10.4\n"
     ]
    }
   ],
   "source": [
    "!python --version"
   ]
  },
  {
   "cell_type": "code",
   "execution_count": null,
   "id": "3a987dd9",
   "metadata": {},
   "outputs": [],
   "source": []
  }
 ],
 "metadata": {
  "kernelspec": {
   "display_name": "Python [conda env:pytorch_env]",
   "language": "python",
   "name": "conda-env-pytorch_env-py"
  },
  "language_info": {
   "codemirror_mode": {
    "name": "ipython",
    "version": 3
   },
   "file_extension": ".py",
   "mimetype": "text/x-python",
   "name": "python",
   "nbconvert_exporter": "python",
   "pygments_lexer": "ipython3",
   "version": "3.10.4"
  },
  "toc": {
   "base_numbering": 1,
   "nav_menu": {},
   "number_sections": true,
   "sideBar": true,
   "skip_h1_title": false,
   "title_cell": "Table of Contents",
   "title_sidebar": "Contents",
   "toc_cell": false,
   "toc_position": {},
   "toc_section_display": true,
   "toc_window_display": false
  }
 },
 "nbformat": 4,
 "nbformat_minor": 5
}
