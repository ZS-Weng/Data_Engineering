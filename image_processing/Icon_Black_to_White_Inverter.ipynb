{
 "cells": [
  {
   "cell_type": "markdown",
   "id": "e50fbef5",
   "metadata": {},
   "source": [
    "## Invert Icon Color from Black to White maintaining transparency"
   ]
  },
  {
   "cell_type": "code",
   "execution_count": 1,
   "id": "8a158b52",
   "metadata": {},
   "outputs": [],
   "source": [
    "import os\n",
    "from PIL import Image, ImageOps\n",
    "from matplotlib.pyplot import imshow\n",
    "from pathlib import Path"
   ]
  },
  {
   "cell_type": "code",
   "execution_count": 3,
   "id": "2f3d6b01",
   "metadata": {},
   "outputs": [],
   "source": [
    "\"\"\"\n",
    "Setup Base and Process Folder\n",
    "\"\"\"\n",
    "# Enter base folder path\n",
    "base_folder = Path(\"./data/icons\")\n",
    "image_paths = Path.glob(base_folder, \"*.png\")\n",
    "processed_folder = \"./data/icons/processed/\"\n",
    "os.makedirs(processed_folder, exist_ok=True)"
   ]
  },
  {
   "cell_type": "code",
   "execution_count": 4,
   "id": "b319041e",
   "metadata": {},
   "outputs": [],
   "source": [
    "def image_invert(image_path):\n",
    "    \"\"\"\n",
    "    Perform image inversion of the colots and set transparent map\n",
    "    for black pixels\n",
    "    \"\"\"\n",
    "    image = Image.open(image_path)\n",
    "    if image.mode == \"RGBA\":\n",
    "        r, g, b, a = image.split()\n",
    "        rgb_image = Image.merge(\"RGB\", (r, g, b))\n",
    "        inverted_image = ImageOps.invert(rgb_image)\n",
    "        r2, g2, b2 = inverted_image.split()\n",
    "        final_transparent_image = Image.merge(\"RGBA\", (r2, g2, b2, a))\n",
    "        return final_transparent_image\n",
    "\n",
    "    else:\n",
    "        inverted_image = ImageOps.invert(image)\n",
    "        return inverted_image"
   ]
  },
  {
   "cell_type": "code",
   "execution_count": 5,
   "id": "aa7e74ea",
   "metadata": {},
   "outputs": [],
   "source": [
    "for image_path in image_paths:\n",
    "    inverted_image = image_invert(image_path)\n",
    "    newpath = Path.joinpath(base_folder, \"processed\", image_path.stem + \"_inverted.png\")\n",
    "    inverted_image.save(newpath)"
   ]
  },
  {
   "cell_type": "code",
   "execution_count": null,
   "id": "4395177e",
   "metadata": {},
   "outputs": [],
   "source": []
  }
 ],
 "metadata": {
  "kernelspec": {
   "display_name": "Python [conda env:pytorch_env]",
   "language": "python",
   "name": "conda-env-pytorch_env-py"
  },
  "language_info": {
   "codemirror_mode": {
    "name": "ipython",
    "version": 3
   },
   "file_extension": ".py",
   "mimetype": "text/x-python",
   "name": "python",
   "nbconvert_exporter": "python",
   "pygments_lexer": "ipython3",
   "version": "3.10.4"
  },
  "toc": {
   "base_numbering": 1,
   "nav_menu": {},
   "number_sections": true,
   "sideBar": true,
   "skip_h1_title": false,
   "title_cell": "Table of Contents",
   "title_sidebar": "Contents",
   "toc_cell": false,
   "toc_position": {},
   "toc_section_display": true,
   "toc_window_display": false
  }
 },
 "nbformat": 4,
 "nbformat_minor": 5
}
