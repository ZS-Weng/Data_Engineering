{
 "cells": [
  {
   "cell_type": "markdown",
   "metadata": {
    "id": "gayzQLQGsET3"
   },
   "source": [
    "## Data Cleaning for SAP txt data\n",
    "\n",
    "- More details can be found in my article at the link: \n",
    "https://medium.com/@zaishanweng/data-cleaning-on-sap-data-extracts-with-regex-and-python-cd2afe73be14"
   ]
  },
  {
   "cell_type": "code",
   "execution_count": 12,
   "metadata": {
    "id": "BNqEKFQGTeho"
   },
   "outputs": [],
   "source": [
    "import pandas as pd\n",
    "import re"
   ]
  },
  {
   "cell_type": "code",
   "execution_count": 13,
   "metadata": {
    "id": "mbEkexjeUE1q"
   },
   "outputs": [],
   "source": [
    "def make_data_format(datalist, column_length):\n",
    "    output_list = []\n",
    "    for string, length in zip(datalist, column_length):\n",
    "        output_string = (string + \" \" * length)[0:length]\n",
    "        output_list.append(output_string)\n",
    "    return \"|\" + \"|\".join(output_list) + \"|\""
   ]
  },
  {
   "cell_type": "code",
   "execution_count": 14,
   "metadata": {
    "id": "SUfApxTtYiro"
   },
   "outputs": [],
   "source": [
    "with open(\"data/Sample SAP Format.txt\", encoding=\"utf-8\") as f:\n",
    "    content_raw = f.read()"
   ]
  },
  {
   "cell_type": "code",
   "execution_count": 19,
   "metadata": {},
   "outputs": [
    {
     "data": {
      "text/plain": [
       "'DD.MM.YYYY           Dynamic List Display           1\\n-----------------------------------------------------\\n-----------------------------------------------------\\n|DocumentNo|Year|Itm|Clrng doc.|Text                |\\n-----------------------------------------------------\\n|10002001  |2022|001|60007000  |Item 1              |\\n|10002002  |2022|001|60007001  |Item A|B|C          |\\n|10002004  |2022|001|60007006  |Item Z    \\n         |\\n|10002003  |2022|002|60007005  |Item A|ID:01        |\\n-----------------------------------------------------\\n'"
      ]
     },
     "execution_count": 19,
     "metadata": {},
     "output_type": "execute_result"
    }
   ],
   "source": [
    "content_raw"
   ]
  },
  {
   "cell_type": "code",
   "execution_count": 15,
   "metadata": {},
   "outputs": [],
   "source": [
    "#Alternative way to read the file with CRLF (Carriage Return Line Feed intact)\n",
    "with open(\"data/Sample SAP Format.txt\", encoding=\"utf-8\", newline=\"\") as f:\n",
    "    content_raw_2 = f.read()"
   ]
  },
  {
   "cell_type": "code",
   "execution_count": 16,
   "metadata": {},
   "outputs": [
    {
     "data": {
      "text/plain": [
       "'DD.MM.YYYY           Dynamic List Display           1\\r\\n-----------------------------------------------------\\r\\n-----------------------------------------------------\\r\\n|DocumentNo|Year|Itm|Clrng doc.|Text                |\\r\\n-----------------------------------------------------\\r\\n|10002001  |2022|001|60007000  |Item 1              |\\r\\n|10002002  |2022|001|60007001  |Item A|B|C          |\\r\\n|10002004  |2022|001|60007006  |Item Z    \\r\\n         |\\r\\n|10002003  |2022|002|60007005  |Item A|ID:01        |\\r\\n-----------------------------------------------------\\r\\n'"
      ]
     },
     "execution_count": 16,
     "metadata": {},
     "output_type": "execute_result"
    }
   ],
   "source": [
    "content_raw_2"
   ]
  },
  {
   "cell_type": "code",
   "execution_count": 17,
   "metadata": {},
   "outputs": [
    {
     "data": {
      "text/plain": [
       "[]"
      ]
     },
     "execution_count": 17,
     "metadata": {},
     "output_type": "execute_result"
    }
   ],
   "source": [
    "re.findall(r\"\\r\\n\", content_raw)"
   ]
  },
  {
   "cell_type": "code",
   "execution_count": 18,
   "metadata": {},
   "outputs": [
    {
     "data": {
      "text/plain": [
       "['\\r\\n',\n",
       " '\\r\\n',\n",
       " '\\r\\n',\n",
       " '\\r\\n',\n",
       " '\\r\\n',\n",
       " '\\r\\n',\n",
       " '\\r\\n',\n",
       " '\\r\\n',\n",
       " '\\r\\n',\n",
       " '\\r\\n',\n",
       " '\\r\\n']"
      ]
     },
     "execution_count": 18,
     "metadata": {},
     "output_type": "execute_result"
    }
   ],
   "source": [
    "re.findall(r\"\\r\\n\", content_raw_2)"
   ]
  },
  {
   "cell_type": "code",
   "execution_count": 4,
   "metadata": {
    "id": "dB3s6staeSwW"
   },
   "outputs": [],
   "source": [
    "new_line_pattern = re.compile(\"([^1|-])[\\n](.)|(.)[\\n]([^|-])\")\n",
    "content_cleaned_newline = new_line_pattern.sub(r\"\\1 \\2\", content_raw)\n",
    "content_split_line = content_cleaned_newline.split(\"\\n\")"
   ]
  },
  {
   "cell_type": "code",
   "execution_count": 5,
   "metadata": {
    "colab": {
     "base_uri": "https://localhost:8080/"
    },
    "id": "dBitC5v6eUHW",
    "outputId": "31e97d63-92db-4cf1-ad58-ea9da86152e3"
   },
   "outputs": [
    {
     "data": {
      "text/plain": [
       "['DD.MM.YYYY           Dynamic List Display           1',\n",
       " '-----------------------------------------------------',\n",
       " '-----------------------------------------------------',\n",
       " '|DocumentNo|Year|Itm|Clrng doc.|Text                |',\n",
       " '-----------------------------------------------------',\n",
       " '|10002001  |2022|001|60007000  |Item 1              |',\n",
       " '|10002002  |2022|001|60007001  |Item A|B|C          |',\n",
       " '|10002004  |2022|001|60007006  |Item Z              |',\n",
       " '|10002003  |2022|002|60007005  |Item A|ID:01        |',\n",
       " '-----------------------------------------------------',\n",
       " '']"
      ]
     },
     "execution_count": 5,
     "metadata": {},
     "output_type": "execute_result"
    }
   ],
   "source": [
    "content_split_line"
   ]
  },
  {
   "cell_type": "code",
   "execution_count": 15,
   "metadata": {
    "colab": {
     "base_uri": "https://localhost:8080/"
    },
    "id": "pbDWSE89fPcY",
    "outputId": "15fe6eb0-22ac-4bef-d82a-5c7560a9ee6d"
   },
   "outputs": [
    {
     "name": "stdout",
     "output_type": "stream",
     "text": [
      "|DocumentNo|Year|Itm|Clrng doc.|Text                |\n"
     ]
    }
   ],
   "source": [
    "header_string = content_split_line[3]\n",
    "print(header_string)"
   ]
  },
  {
   "cell_type": "code",
   "execution_count": 16,
   "metadata": {
    "id": "E71clMFJhPCl"
   },
   "outputs": [],
   "source": [
    "column_header = [column.strip() for column in header_string.split(\"|\")][1:-1]"
   ]
  },
  {
   "cell_type": "code",
   "execution_count": 17,
   "metadata": {
    "colab": {
     "base_uri": "https://localhost:8080/"
    },
    "id": "sZI3vYFPhXn9",
    "outputId": "831ac1c2-20aa-4b5a-cf1b-013d52480eb9"
   },
   "outputs": [
    {
     "data": {
      "text/plain": [
       "['DocumentNo', 'Year', 'Itm', 'Clrng doc.', 'Text']"
      ]
     },
     "execution_count": 17,
     "metadata": {},
     "output_type": "execute_result"
    }
   ],
   "source": [
    "column_header"
   ]
  },
  {
   "cell_type": "code",
   "execution_count": 18,
   "metadata": {
    "id": "NWxjd64Afa5H"
   },
   "outputs": [],
   "source": [
    "list_column_width = [\n",
    "    \"(.{\" + str(len(column)) + \"})\" for column in header_string.split(\"|\")\n",
    "][1:-1]"
   ]
  },
  {
   "cell_type": "code",
   "execution_count": 19,
   "metadata": {
    "id": "ejtA_3-EgD21"
   },
   "outputs": [],
   "source": [
    "column_string_pattern = \"[|]\" + \"[|]\".join(list_column_width) + \"[|]\""
   ]
  },
  {
   "cell_type": "code",
   "execution_count": 20,
   "metadata": {
    "colab": {
     "base_uri": "https://localhost:8080/",
     "height": 35
    },
    "id": "QtFCnMRGgFEd",
    "outputId": "84b18848-9d3f-4807-8ec3-a847401658e8"
   },
   "outputs": [
    {
     "data": {
      "text/plain": [
       "'[|](.{10})[|](.{4})[|](.{3})[|](.{10})[|](.{20})[|]'"
      ]
     },
     "execution_count": 20,
     "metadata": {},
     "output_type": "execute_result"
    }
   ],
   "source": [
    "column_string_pattern"
   ]
  },
  {
   "cell_type": "code",
   "execution_count": 21,
   "metadata": {
    "id": "VYnPw4gdgxp9"
   },
   "outputs": [],
   "source": [
    "column_pattern = re.compile(column_string_pattern)"
   ]
  },
  {
   "cell_type": "code",
   "execution_count": 22,
   "metadata": {
    "id": "fT5V5TcQhtXh"
   },
   "outputs": [],
   "source": [
    "cleaned_content = [\n",
    "    [row.strip() for row in column_pattern.match(row).groups()]\n",
    "    for row in content_split_line[5:-2]\n",
    "]"
   ]
  },
  {
   "cell_type": "code",
   "execution_count": 23,
   "metadata": {
    "colab": {
     "base_uri": "https://localhost:8080/"
    },
    "id": "CGajfwtMijDd",
    "outputId": "68b18978-3a80-47ad-afd1-b03b669bd160"
   },
   "outputs": [
    {
     "data": {
      "text/plain": [
       "[['10002001', '2022', '001', '60007000', 'Item 1'],\n",
       " ['10002002', '2022', '001', '60007001', 'Item A|B|C'],\n",
       " ['10002004', '2022', '001', '60007006', 'Item Z'],\n",
       " ['10002003', '2022', '002', '60007005', 'Item A|ID:01']]"
      ]
     },
     "execution_count": 23,
     "metadata": {},
     "output_type": "execute_result"
    }
   ],
   "source": [
    "cleaned_content"
   ]
  },
  {
   "cell_type": "code",
   "execution_count": 24,
   "metadata": {
    "id": "wxsdyLDliybc"
   },
   "outputs": [],
   "source": [
    "df_clean = pd.DataFrame(cleaned_content, columns=column_header)"
   ]
  },
  {
   "cell_type": "code",
   "execution_count": 25,
   "metadata": {
    "colab": {
     "base_uri": "https://localhost:8080/",
     "height": 175
    },
    "id": "-Lj5_8z6jKKu",
    "outputId": "26979fe1-4ed7-449d-ca73-ddc16bea47dd"
   },
   "outputs": [
    {
     "data": {
      "text/html": [
       "<div>\n",
       "<style scoped>\n",
       "    .dataframe tbody tr th:only-of-type {\n",
       "        vertical-align: middle;\n",
       "    }\n",
       "\n",
       "    .dataframe tbody tr th {\n",
       "        vertical-align: top;\n",
       "    }\n",
       "\n",
       "    .dataframe thead th {\n",
       "        text-align: right;\n",
       "    }\n",
       "</style>\n",
       "<table border=\"1\" class=\"dataframe\">\n",
       "  <thead>\n",
       "    <tr style=\"text-align: right;\">\n",
       "      <th></th>\n",
       "      <th>DocumentNo</th>\n",
       "      <th>Year</th>\n",
       "      <th>Itm</th>\n",
       "      <th>Clrng doc.</th>\n",
       "      <th>Text</th>\n",
       "    </tr>\n",
       "  </thead>\n",
       "  <tbody>\n",
       "    <tr>\n",
       "      <th>0</th>\n",
       "      <td>10002001</td>\n",
       "      <td>2022</td>\n",
       "      <td>001</td>\n",
       "      <td>60007000</td>\n",
       "      <td>Item 1</td>\n",
       "    </tr>\n",
       "    <tr>\n",
       "      <th>1</th>\n",
       "      <td>10002002</td>\n",
       "      <td>2022</td>\n",
       "      <td>001</td>\n",
       "      <td>60007001</td>\n",
       "      <td>Item A|B|C</td>\n",
       "    </tr>\n",
       "    <tr>\n",
       "      <th>2</th>\n",
       "      <td>10002004</td>\n",
       "      <td>2022</td>\n",
       "      <td>001</td>\n",
       "      <td>60007006</td>\n",
       "      <td>Item Z</td>\n",
       "    </tr>\n",
       "    <tr>\n",
       "      <th>3</th>\n",
       "      <td>10002003</td>\n",
       "      <td>2022</td>\n",
       "      <td>002</td>\n",
       "      <td>60007005</td>\n",
       "      <td>Item A|ID:01</td>\n",
       "    </tr>\n",
       "  </tbody>\n",
       "</table>\n",
       "</div>"
      ],
      "text/plain": [
       "  DocumentNo  Year  Itm Clrng doc.          Text\n",
       "0   10002001  2022  001   60007000        Item 1\n",
       "1   10002002  2022  001   60007001    Item A|B|C\n",
       "2   10002004  2022  001   60007006        Item Z\n",
       "3   10002003  2022  002   60007005  Item A|ID:01"
      ]
     },
     "execution_count": 25,
     "metadata": {},
     "output_type": "execute_result"
    }
   ],
   "source": [
    "df_clean"
   ]
  }
 ],
 "metadata": {
  "colab": {
   "provenance": []
  },
  "kernelspec": {
   "display_name": "Python [conda env:pytorch_env]",
   "language": "python",
   "name": "conda-env-pytorch_env-py"
  },
  "language_info": {
   "codemirror_mode": {
    "name": "ipython",
    "version": 3
   },
   "file_extension": ".py",
   "mimetype": "text/x-python",
   "name": "python",
   "nbconvert_exporter": "python",
   "pygments_lexer": "ipython3",
   "version": "3.10.4"
  },
  "toc": {
   "base_numbering": 1,
   "nav_menu": {},
   "number_sections": true,
   "sideBar": true,
   "skip_h1_title": false,
   "title_cell": "Table of Contents",
   "title_sidebar": "Contents",
   "toc_cell": false,
   "toc_position": {},
   "toc_section_display": true,
   "toc_window_display": false
  }
 },
 "nbformat": 4,
 "nbformat_minor": 1
}
