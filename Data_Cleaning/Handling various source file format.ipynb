{
 "cells": [
  {
   "cell_type": "markdown",
   "metadata": {
    "id": "VyxKBYzV38Dp"
   },
   "source": [
    "# General Functions for handling different source file formats"
   ]
  },
  {
   "cell_type": "markdown",
   "metadata": {},
   "source": [
    "More details can be found in the Medium article: "
   ]
  },
  {
   "cell_type": "markdown",
   "metadata": {},
   "source": [
    "## Handling .xlsb format files"
   ]
  },
  {
   "cell_type": "code",
   "execution_count": 25,
   "metadata": {},
   "outputs": [],
   "source": [
    "#!pip install pyxlsb"
   ]
  },
  {
   "cell_type": "code",
   "execution_count": 26,
   "metadata": {},
   "outputs": [],
   "source": [
    "import pandas as pd"
   ]
  },
  {
   "cell_type": "code",
   "execution_count": 27,
   "metadata": {},
   "outputs": [],
   "source": [
    "df = pd.read_excel(\"./data/SAP Data Dictionary Selected Tables.xlsb\", engine=\"pyxlsb\")"
   ]
  },
  {
   "cell_type": "code",
   "execution_count": 28,
   "metadata": {},
   "outputs": [
    {
     "data": {
      "text/html": [
       "<div>\n",
       "<style scoped>\n",
       "    .dataframe tbody tr th:only-of-type {\n",
       "        vertical-align: middle;\n",
       "    }\n",
       "\n",
       "    .dataframe tbody tr th {\n",
       "        vertical-align: top;\n",
       "    }\n",
       "\n",
       "    .dataframe thead th {\n",
       "        text-align: right;\n",
       "    }\n",
       "</style>\n",
       "<table border=\"1\" class=\"dataframe\">\n",
       "  <thead>\n",
       "    <tr style=\"text-align: right;\">\n",
       "      <th></th>\n",
       "      <th>Field</th>\n",
       "      <th>Field Name</th>\n",
       "      <th>Data element</th>\n",
       "      <th>Checktable</th>\n",
       "      <th>Datatype</th>\n",
       "      <th>Length</th>\n",
       "      <th>Decimals</th>\n",
       "    </tr>\n",
       "  </thead>\n",
       "  <tbody>\n",
       "    <tr>\n",
       "      <th>0</th>\n",
       "      <td>MANDT</td>\n",
       "      <td>Client</td>\n",
       "      <td>MANDT</td>\n",
       "      <td>T000</td>\n",
       "      <td>CLNT</td>\n",
       "      <td>3</td>\n",
       "      <td>0</td>\n",
       "    </tr>\n",
       "    <tr>\n",
       "      <th>1</th>\n",
       "      <td>BUKRS</td>\n",
       "      <td>Company Code</td>\n",
       "      <td>BUKRS</td>\n",
       "      <td>T001</td>\n",
       "      <td>CHAR</td>\n",
       "      <td>4</td>\n",
       "      <td>0</td>\n",
       "    </tr>\n",
       "    <tr>\n",
       "      <th>2</th>\n",
       "      <td>BELNR</td>\n",
       "      <td>Accounting Document Number</td>\n",
       "      <td>BELNR_D</td>\n",
       "      <td>NaN</td>\n",
       "      <td>CHAR</td>\n",
       "      <td>10</td>\n",
       "      <td>0</td>\n",
       "    </tr>\n",
       "    <tr>\n",
       "      <th>3</th>\n",
       "      <td>GJAHR</td>\n",
       "      <td>Fiscal Year</td>\n",
       "      <td>GJAHR</td>\n",
       "      <td>NaN</td>\n",
       "      <td>NUMC</td>\n",
       "      <td>4</td>\n",
       "      <td>0</td>\n",
       "    </tr>\n",
       "    <tr>\n",
       "      <th>4</th>\n",
       "      <td>BLART</td>\n",
       "      <td>Document Type</td>\n",
       "      <td>BLART</td>\n",
       "      <td>T003</td>\n",
       "      <td>CHAR</td>\n",
       "      <td>2</td>\n",
       "      <td>0</td>\n",
       "    </tr>\n",
       "  </tbody>\n",
       "</table>\n",
       "</div>"
      ],
      "text/plain": [
       "   Field                  Field Name Data element Checktable Datatype  Length  \\\n",
       "0  MANDT                      Client        MANDT       T000     CLNT       3   \n",
       "1  BUKRS                Company Code        BUKRS       T001     CHAR       4   \n",
       "2  BELNR  Accounting Document Number      BELNR_D        NaN     CHAR      10   \n",
       "3  GJAHR                 Fiscal Year        GJAHR        NaN     NUMC       4   \n",
       "4  BLART               Document Type        BLART       T003     CHAR       2   \n",
       "\n",
       "   Decimals  \n",
       "0         0  \n",
       "1         0  \n",
       "2         0  \n",
       "3         0  \n",
       "4         0  "
      ]
     },
     "execution_count": 28,
     "metadata": {},
     "output_type": "execute_result"
    }
   ],
   "source": [
    "df.head()"
   ]
  },
  {
   "cell_type": "markdown",
   "metadata": {
    "id": "mPVmdLW24EHe"
   },
   "source": [
    "## csv files with encoding other than utf8"
   ]
  },
  {
   "cell_type": "code",
   "execution_count": 29,
   "metadata": {
    "colab": {
     "base_uri": "https://localhost:8080/"
    },
    "id": "umhYdnOhpgqf",
    "outputId": "1b229854-0152-41f5-999a-49cdb16371c9"
   },
   "outputs": [],
   "source": [
    "#!pip install chardet"
   ]
  },
  {
   "cell_type": "code",
   "execution_count": 30,
   "metadata": {
    "id": "-QKdUBrnq6HR"
   },
   "outputs": [],
   "source": [
    "import pandas as pd"
   ]
  },
  {
   "cell_type": "code",
   "execution_count": 31,
   "metadata": {
    "colab": {
     "base_uri": "https://localhost:8080/"
    },
    "id": "b0aYb0cfzIHi",
    "outputId": "6b98b862-40cb-48cc-f5cd-6f214356d5e3"
   },
   "outputs": [
    {
     "name": "stdout",
     "output_type": "stream",
     "text": [
      "{'encoding': 'MacRoman', 'confidence': 0.7295780722034502, 'language': ''}\n"
     ]
    }
   ],
   "source": [
    "#Use chardet to detect the encoding in the file\n",
    "\n",
    "import chardet\n",
    "\n",
    "file = \"./data/Oscars-demographics-DFE.csv\"\n",
    "with open(file, 'rb') as f:\n",
    "    encoding = chardet.detect(f.read())\n",
    "print(encoding)"
   ]
  },
  {
   "cell_type": "code",
   "execution_count": 11,
   "metadata": {
    "colab": {
     "base_uri": "https://localhost:8080/",
     "height": 243
    },
    "id": "mbibh3hvq8TN",
    "outputId": "3fa30a84-dfdd-47da-ade8-a3606b5b2ff0"
   },
   "outputs": [
    {
     "ename": "UnicodeDecodeError",
     "evalue": "'utf-8' codec can't decode byte 0xcc in position 10443: invalid continuation byte",
     "output_type": "error",
     "traceback": [
      "\u001b[1;31m---------------------------------------------------------------------------\u001b[0m",
      "\u001b[1;31mUnicodeDecodeError\u001b[0m                        Traceback (most recent call last)",
      "Input \u001b[1;32mIn [11]\u001b[0m, in \u001b[0;36m<cell line: 2>\u001b[1;34m()\u001b[0m\n\u001b[0;32m      1\u001b[0m \u001b[38;5;66;03m# There will be an error reading from file \u001b[39;00m\n\u001b[1;32m----> 2\u001b[0m df_utf8 \u001b[38;5;241m=\u001b[39m \u001b[43mpd\u001b[49m\u001b[38;5;241;43m.\u001b[39;49m\u001b[43mread_csv\u001b[49m\u001b[43m(\u001b[49m\u001b[43mfile\u001b[49m\u001b[43m)\u001b[49m\n",
      "File \u001b[1;32m~\\anaconda3\\envs\\pytorch_env\\lib\\site-packages\\pandas\\util\\_decorators.py:311\u001b[0m, in \u001b[0;36mdeprecate_nonkeyword_arguments.<locals>.decorate.<locals>.wrapper\u001b[1;34m(*args, **kwargs)\u001b[0m\n\u001b[0;32m    305\u001b[0m \u001b[38;5;28;01mif\u001b[39;00m \u001b[38;5;28mlen\u001b[39m(args) \u001b[38;5;241m>\u001b[39m num_allow_args:\n\u001b[0;32m    306\u001b[0m     warnings\u001b[38;5;241m.\u001b[39mwarn(\n\u001b[0;32m    307\u001b[0m         msg\u001b[38;5;241m.\u001b[39mformat(arguments\u001b[38;5;241m=\u001b[39marguments),\n\u001b[0;32m    308\u001b[0m         \u001b[38;5;167;01mFutureWarning\u001b[39;00m,\n\u001b[0;32m    309\u001b[0m         stacklevel\u001b[38;5;241m=\u001b[39mstacklevel,\n\u001b[0;32m    310\u001b[0m     )\n\u001b[1;32m--> 311\u001b[0m \u001b[38;5;28;01mreturn\u001b[39;00m func(\u001b[38;5;241m*\u001b[39margs, \u001b[38;5;241m*\u001b[39m\u001b[38;5;241m*\u001b[39mkwargs)\n",
      "File \u001b[1;32m~\\anaconda3\\envs\\pytorch_env\\lib\\site-packages\\pandas\\io\\parsers\\readers.py:678\u001b[0m, in \u001b[0;36mread_csv\u001b[1;34m(filepath_or_buffer, sep, delimiter, header, names, index_col, usecols, squeeze, prefix, mangle_dupe_cols, dtype, engine, converters, true_values, false_values, skipinitialspace, skiprows, skipfooter, nrows, na_values, keep_default_na, na_filter, verbose, skip_blank_lines, parse_dates, infer_datetime_format, keep_date_col, date_parser, dayfirst, cache_dates, iterator, chunksize, compression, thousands, decimal, lineterminator, quotechar, quoting, doublequote, escapechar, comment, encoding, encoding_errors, dialect, error_bad_lines, warn_bad_lines, on_bad_lines, delim_whitespace, low_memory, memory_map, float_precision, storage_options)\u001b[0m\n\u001b[0;32m    663\u001b[0m kwds_defaults \u001b[38;5;241m=\u001b[39m _refine_defaults_read(\n\u001b[0;32m    664\u001b[0m     dialect,\n\u001b[0;32m    665\u001b[0m     delimiter,\n\u001b[1;32m   (...)\u001b[0m\n\u001b[0;32m    674\u001b[0m     defaults\u001b[38;5;241m=\u001b[39m{\u001b[38;5;124m\"\u001b[39m\u001b[38;5;124mdelimiter\u001b[39m\u001b[38;5;124m\"\u001b[39m: \u001b[38;5;124m\"\u001b[39m\u001b[38;5;124m,\u001b[39m\u001b[38;5;124m\"\u001b[39m},\n\u001b[0;32m    675\u001b[0m )\n\u001b[0;32m    676\u001b[0m kwds\u001b[38;5;241m.\u001b[39mupdate(kwds_defaults)\n\u001b[1;32m--> 678\u001b[0m \u001b[38;5;28;01mreturn\u001b[39;00m \u001b[43m_read\u001b[49m\u001b[43m(\u001b[49m\u001b[43mfilepath_or_buffer\u001b[49m\u001b[43m,\u001b[49m\u001b[43m \u001b[49m\u001b[43mkwds\u001b[49m\u001b[43m)\u001b[49m\n",
      "File \u001b[1;32m~\\anaconda3\\envs\\pytorch_env\\lib\\site-packages\\pandas\\io\\parsers\\readers.py:575\u001b[0m, in \u001b[0;36m_read\u001b[1;34m(filepath_or_buffer, kwds)\u001b[0m\n\u001b[0;32m    572\u001b[0m _validate_names(kwds\u001b[38;5;241m.\u001b[39mget(\u001b[38;5;124m\"\u001b[39m\u001b[38;5;124mnames\u001b[39m\u001b[38;5;124m\"\u001b[39m, \u001b[38;5;28;01mNone\u001b[39;00m))\n\u001b[0;32m    574\u001b[0m \u001b[38;5;66;03m# Create the parser.\u001b[39;00m\n\u001b[1;32m--> 575\u001b[0m parser \u001b[38;5;241m=\u001b[39m TextFileReader(filepath_or_buffer, \u001b[38;5;241m*\u001b[39m\u001b[38;5;241m*\u001b[39mkwds)\n\u001b[0;32m    577\u001b[0m \u001b[38;5;28;01mif\u001b[39;00m chunksize \u001b[38;5;129;01mor\u001b[39;00m iterator:\n\u001b[0;32m    578\u001b[0m     \u001b[38;5;28;01mreturn\u001b[39;00m parser\n",
      "File \u001b[1;32m~\\anaconda3\\envs\\pytorch_env\\lib\\site-packages\\pandas\\io\\parsers\\readers.py:932\u001b[0m, in \u001b[0;36mTextFileReader.__init__\u001b[1;34m(self, f, engine, **kwds)\u001b[0m\n\u001b[0;32m    929\u001b[0m     \u001b[38;5;28mself\u001b[39m\u001b[38;5;241m.\u001b[39moptions[\u001b[38;5;124m\"\u001b[39m\u001b[38;5;124mhas_index_names\u001b[39m\u001b[38;5;124m\"\u001b[39m] \u001b[38;5;241m=\u001b[39m kwds[\u001b[38;5;124m\"\u001b[39m\u001b[38;5;124mhas_index_names\u001b[39m\u001b[38;5;124m\"\u001b[39m]\n\u001b[0;32m    931\u001b[0m \u001b[38;5;28mself\u001b[39m\u001b[38;5;241m.\u001b[39mhandles: IOHandles \u001b[38;5;241m|\u001b[39m \u001b[38;5;28;01mNone\u001b[39;00m \u001b[38;5;241m=\u001b[39m \u001b[38;5;28;01mNone\u001b[39;00m\n\u001b[1;32m--> 932\u001b[0m \u001b[38;5;28mself\u001b[39m\u001b[38;5;241m.\u001b[39m_engine \u001b[38;5;241m=\u001b[39m \u001b[38;5;28;43mself\u001b[39;49m\u001b[38;5;241;43m.\u001b[39;49m\u001b[43m_make_engine\u001b[49m\u001b[43m(\u001b[49m\u001b[43mf\u001b[49m\u001b[43m,\u001b[49m\u001b[43m \u001b[49m\u001b[38;5;28;43mself\u001b[39;49m\u001b[38;5;241;43m.\u001b[39;49m\u001b[43mengine\u001b[49m\u001b[43m)\u001b[49m\n",
      "File \u001b[1;32m~\\anaconda3\\envs\\pytorch_env\\lib\\site-packages\\pandas\\io\\parsers\\readers.py:1234\u001b[0m, in \u001b[0;36mTextFileReader._make_engine\u001b[1;34m(self, f, engine)\u001b[0m\n\u001b[0;32m   1231\u001b[0m     \u001b[38;5;28;01mraise\u001b[39;00m \u001b[38;5;167;01mValueError\u001b[39;00m(msg)\n\u001b[0;32m   1233\u001b[0m \u001b[38;5;28;01mtry\u001b[39;00m:\n\u001b[1;32m-> 1234\u001b[0m     \u001b[38;5;28;01mreturn\u001b[39;00m mapping[engine](f, \u001b[38;5;241m*\u001b[39m\u001b[38;5;241m*\u001b[39m\u001b[38;5;28mself\u001b[39m\u001b[38;5;241m.\u001b[39moptions)\n\u001b[0;32m   1235\u001b[0m \u001b[38;5;28;01mexcept\u001b[39;00m \u001b[38;5;167;01mException\u001b[39;00m:\n\u001b[0;32m   1236\u001b[0m     \u001b[38;5;28;01mif\u001b[39;00m \u001b[38;5;28mself\u001b[39m\u001b[38;5;241m.\u001b[39mhandles \u001b[38;5;129;01mis\u001b[39;00m \u001b[38;5;129;01mnot\u001b[39;00m \u001b[38;5;28;01mNone\u001b[39;00m:\n",
      "File \u001b[1;32m~\\anaconda3\\envs\\pytorch_env\\lib\\site-packages\\pandas\\io\\parsers\\c_parser_wrapper.py:75\u001b[0m, in \u001b[0;36mCParserWrapper.__init__\u001b[1;34m(self, src, **kwds)\u001b[0m\n\u001b[0;32m     72\u001b[0m     kwds\u001b[38;5;241m.\u001b[39mpop(key, \u001b[38;5;28;01mNone\u001b[39;00m)\n\u001b[0;32m     74\u001b[0m kwds[\u001b[38;5;124m\"\u001b[39m\u001b[38;5;124mdtype\u001b[39m\u001b[38;5;124m\"\u001b[39m] \u001b[38;5;241m=\u001b[39m ensure_dtype_objs(kwds\u001b[38;5;241m.\u001b[39mget(\u001b[38;5;124m\"\u001b[39m\u001b[38;5;124mdtype\u001b[39m\u001b[38;5;124m\"\u001b[39m, \u001b[38;5;28;01mNone\u001b[39;00m))\n\u001b[1;32m---> 75\u001b[0m \u001b[38;5;28mself\u001b[39m\u001b[38;5;241m.\u001b[39m_reader \u001b[38;5;241m=\u001b[39m parsers\u001b[38;5;241m.\u001b[39mTextReader(src, \u001b[38;5;241m*\u001b[39m\u001b[38;5;241m*\u001b[39mkwds)\n\u001b[0;32m     77\u001b[0m \u001b[38;5;28mself\u001b[39m\u001b[38;5;241m.\u001b[39munnamed_cols \u001b[38;5;241m=\u001b[39m \u001b[38;5;28mself\u001b[39m\u001b[38;5;241m.\u001b[39m_reader\u001b[38;5;241m.\u001b[39munnamed_cols\n\u001b[0;32m     79\u001b[0m \u001b[38;5;66;03m# error: Cannot determine type of 'names'\u001b[39;00m\n",
      "File \u001b[1;32m~\\anaconda3\\envs\\pytorch_env\\lib\\site-packages\\pandas\\_libs\\parsers.pyx:544\u001b[0m, in \u001b[0;36mpandas._libs.parsers.TextReader.__cinit__\u001b[1;34m()\u001b[0m\n",
      "File \u001b[1;32m~\\anaconda3\\envs\\pytorch_env\\lib\\site-packages\\pandas\\_libs\\parsers.pyx:633\u001b[0m, in \u001b[0;36mpandas._libs.parsers.TextReader._get_header\u001b[1;34m()\u001b[0m\n",
      "File \u001b[1;32m~\\anaconda3\\envs\\pytorch_env\\lib\\site-packages\\pandas\\_libs\\parsers.pyx:847\u001b[0m, in \u001b[0;36mpandas._libs.parsers.TextReader._tokenize_rows\u001b[1;34m()\u001b[0m\n",
      "File \u001b[1;32m~\\anaconda3\\envs\\pytorch_env\\lib\\site-packages\\pandas\\_libs\\parsers.pyx:1952\u001b[0m, in \u001b[0;36mpandas._libs.parsers.raise_parser_error\u001b[1;34m()\u001b[0m\n",
      "\u001b[1;31mUnicodeDecodeError\u001b[0m: 'utf-8' codec can't decode byte 0xcc in position 10443: invalid continuation byte"
     ]
    }
   ],
   "source": [
    "# There will be an error reading from file \n",
    "df_utf8 = pd.read_csv(file)"
   ]
  },
  {
   "cell_type": "code",
   "execution_count": 32,
   "metadata": {
    "colab": {
     "base_uri": "https://localhost:8080/",
     "height": 250
    },
    "id": "K6PCDIE7zIKL",
    "outputId": "bad08f36-a2d2-4daf-8322-dd5d284af223"
   },
   "outputs": [
    {
     "data": {
      "text/html": [
       "<div>\n",
       "<style scoped>\n",
       "    .dataframe tbody tr th:only-of-type {\n",
       "        vertical-align: middle;\n",
       "    }\n",
       "\n",
       "    .dataframe tbody tr th {\n",
       "        vertical-align: top;\n",
       "    }\n",
       "\n",
       "    .dataframe thead th {\n",
       "        text-align: right;\n",
       "    }\n",
       "</style>\n",
       "<table border=\"1\" class=\"dataframe\">\n",
       "  <thead>\n",
       "    <tr style=\"text-align: right;\">\n",
       "      <th></th>\n",
       "      <th>_unit_id</th>\n",
       "      <th>_golden</th>\n",
       "      <th>_unit_state</th>\n",
       "      <th>_trusted_judgments</th>\n",
       "      <th>_last_judgment_at</th>\n",
       "      <th>birthplace</th>\n",
       "      <th>birthplace:confidence</th>\n",
       "      <th>date_of_birth</th>\n",
       "      <th>date_of_birth:confidence</th>\n",
       "      <th>race_ethnicity</th>\n",
       "      <th>...</th>\n",
       "      <th>award</th>\n",
       "      <th>biourl</th>\n",
       "      <th>birthplace_gold</th>\n",
       "      <th>date_of_birth_gold</th>\n",
       "      <th>movie</th>\n",
       "      <th>person</th>\n",
       "      <th>race_ethnicity_gold</th>\n",
       "      <th>religion_gold</th>\n",
       "      <th>sexual_orientation_gold</th>\n",
       "      <th>year_of_award_gold</th>\n",
       "    </tr>\n",
       "  </thead>\n",
       "  <tbody>\n",
       "    <tr>\n",
       "      <th>0</th>\n",
       "      <td>670454353</td>\n",
       "      <td>False</td>\n",
       "      <td>finalized</td>\n",
       "      <td>3</td>\n",
       "      <td>2/10/15 3:45</td>\n",
       "      <td>Chisinau, Moldova</td>\n",
       "      <td>1.0</td>\n",
       "      <td>30-Sep-1895</td>\n",
       "      <td>1.0</td>\n",
       "      <td>White</td>\n",
       "      <td>...</td>\n",
       "      <td>Best Director</td>\n",
       "      <td>http://www.nndb.com/people/320/000043191/</td>\n",
       "      <td>NaN</td>\n",
       "      <td>NaN</td>\n",
       "      <td>Two Arabian Knights</td>\n",
       "      <td>Lewis Milestone</td>\n",
       "      <td>NaN</td>\n",
       "      <td>NaN</td>\n",
       "      <td>NaN</td>\n",
       "      <td>NaN</td>\n",
       "    </tr>\n",
       "    <tr>\n",
       "      <th>1</th>\n",
       "      <td>670454354</td>\n",
       "      <td>False</td>\n",
       "      <td>finalized</td>\n",
       "      <td>3</td>\n",
       "      <td>2/10/15 2:03</td>\n",
       "      <td>Glasgow, Scotland</td>\n",
       "      <td>1.0</td>\n",
       "      <td>2-Feb-1886</td>\n",
       "      <td>1.0</td>\n",
       "      <td>White</td>\n",
       "      <td>...</td>\n",
       "      <td>Best Director</td>\n",
       "      <td>http://www.nndb.com/people/626/000042500/</td>\n",
       "      <td>NaN</td>\n",
       "      <td>NaN</td>\n",
       "      <td>The Divine Lady</td>\n",
       "      <td>Frank Lloyd</td>\n",
       "      <td>NaN</td>\n",
       "      <td>NaN</td>\n",
       "      <td>NaN</td>\n",
       "      <td>NaN</td>\n",
       "    </tr>\n",
       "    <tr>\n",
       "      <th>2</th>\n",
       "      <td>670454355</td>\n",
       "      <td>False</td>\n",
       "      <td>finalized</td>\n",
       "      <td>3</td>\n",
       "      <td>2/10/15 2:05</td>\n",
       "      <td>Chisinau, Moldova</td>\n",
       "      <td>1.0</td>\n",
       "      <td>30-Sep-1895</td>\n",
       "      <td>1.0</td>\n",
       "      <td>White</td>\n",
       "      <td>...</td>\n",
       "      <td>Best Director</td>\n",
       "      <td>http://www.nndb.com/people/320/000043191/</td>\n",
       "      <td>NaN</td>\n",
       "      <td>NaN</td>\n",
       "      <td>All Quiet on the Western Front</td>\n",
       "      <td>Lewis Milestone</td>\n",
       "      <td>NaN</td>\n",
       "      <td>NaN</td>\n",
       "      <td>NaN</td>\n",
       "      <td>NaN</td>\n",
       "    </tr>\n",
       "    <tr>\n",
       "      <th>3</th>\n",
       "      <td>670454356</td>\n",
       "      <td>False</td>\n",
       "      <td>finalized</td>\n",
       "      <td>3</td>\n",
       "      <td>2/10/15 2:04</td>\n",
       "      <td>Chicago, Il</td>\n",
       "      <td>1.0</td>\n",
       "      <td>23-Feb-1899</td>\n",
       "      <td>1.0</td>\n",
       "      <td>White</td>\n",
       "      <td>...</td>\n",
       "      <td>Best Director</td>\n",
       "      <td>http://www.nndb.com/people/544/000041421/</td>\n",
       "      <td>NaN</td>\n",
       "      <td>NaN</td>\n",
       "      <td>Skippy</td>\n",
       "      <td>Norman Taurog</td>\n",
       "      <td>NaN</td>\n",
       "      <td>NaN</td>\n",
       "      <td>NaN</td>\n",
       "      <td>NaN</td>\n",
       "    </tr>\n",
       "    <tr>\n",
       "      <th>4</th>\n",
       "      <td>670454357</td>\n",
       "      <td>False</td>\n",
       "      <td>finalized</td>\n",
       "      <td>3</td>\n",
       "      <td>2/10/15 1:48</td>\n",
       "      <td>Salt Lake City, Ut</td>\n",
       "      <td>1.0</td>\n",
       "      <td>23-Apr-1894</td>\n",
       "      <td>1.0</td>\n",
       "      <td>White</td>\n",
       "      <td>...</td>\n",
       "      <td>Best Director</td>\n",
       "      <td>http://www.nndb.com/people/292/000044160/</td>\n",
       "      <td>NaN</td>\n",
       "      <td>NaN</td>\n",
       "      <td>Bad Girl</td>\n",
       "      <td>Frank Borzage</td>\n",
       "      <td>NaN</td>\n",
       "      <td>NaN</td>\n",
       "      <td>NaN</td>\n",
       "      <td>NaN</td>\n",
       "    </tr>\n",
       "  </tbody>\n",
       "</table>\n",
       "<p>5 rows × 27 columns</p>\n",
       "</div>"
      ],
      "text/plain": [
       "    _unit_id  _golden _unit_state  _trusted_judgments _last_judgment_at  \\\n",
       "0  670454353    False   finalized                   3      2/10/15 3:45   \n",
       "1  670454354    False   finalized                   3      2/10/15 2:03   \n",
       "2  670454355    False   finalized                   3      2/10/15 2:05   \n",
       "3  670454356    False   finalized                   3      2/10/15 2:04   \n",
       "4  670454357    False   finalized                   3      2/10/15 1:48   \n",
       "\n",
       "           birthplace  birthplace:confidence date_of_birth  \\\n",
       "0   Chisinau, Moldova                    1.0   30-Sep-1895   \n",
       "1   Glasgow, Scotland                    1.0    2-Feb-1886   \n",
       "2   Chisinau, Moldova                    1.0   30-Sep-1895   \n",
       "3         Chicago, Il                    1.0   23-Feb-1899   \n",
       "4  Salt Lake City, Ut                    1.0   23-Apr-1894   \n",
       "\n",
       "   date_of_birth:confidence race_ethnicity  ...          award  \\\n",
       "0                       1.0          White  ...  Best Director   \n",
       "1                       1.0          White  ...  Best Director   \n",
       "2                       1.0          White  ...  Best Director   \n",
       "3                       1.0          White  ...  Best Director   \n",
       "4                       1.0          White  ...  Best Director   \n",
       "\n",
       "                                      biourl  birthplace_gold  \\\n",
       "0  http://www.nndb.com/people/320/000043191/              NaN   \n",
       "1  http://www.nndb.com/people/626/000042500/              NaN   \n",
       "2  http://www.nndb.com/people/320/000043191/              NaN   \n",
       "3  http://www.nndb.com/people/544/000041421/              NaN   \n",
       "4  http://www.nndb.com/people/292/000044160/              NaN   \n",
       "\n",
       "  date_of_birth_gold                           movie           person  \\\n",
       "0                NaN             Two Arabian Knights  Lewis Milestone   \n",
       "1                NaN                 The Divine Lady      Frank Lloyd   \n",
       "2                NaN  All Quiet on the Western Front  Lewis Milestone   \n",
       "3                NaN                          Skippy    Norman Taurog   \n",
       "4                NaN                        Bad Girl    Frank Borzage   \n",
       "\n",
       "   race_ethnicity_gold religion_gold sexual_orientation_gold  \\\n",
       "0                  NaN           NaN                     NaN   \n",
       "1                  NaN           NaN                     NaN   \n",
       "2                  NaN           NaN                     NaN   \n",
       "3                  NaN           NaN                     NaN   \n",
       "4                  NaN           NaN                     NaN   \n",
       "\n",
       "  year_of_award_gold  \n",
       "0                NaN  \n",
       "1                NaN  \n",
       "2                NaN  \n",
       "3                NaN  \n",
       "4                NaN  \n",
       "\n",
       "[5 rows x 27 columns]"
      ]
     },
     "execution_count": 32,
     "metadata": {},
     "output_type": "execute_result"
    }
   ],
   "source": [
    "# Use the same method to read based on the encoding detected earlier\n",
    "df_w_encoding = pd.read_csv(file, encoding=encoding['encoding'])\n",
    "df_w_encoding.head()"
   ]
  },
  {
   "cell_type": "markdown",
   "metadata": {
    "id": "U0hL6nB-5MMQ"
   },
   "source": [
    "## Excel with multiple sheet of data \n",
    "\n",
    "- Using a Sample Data Dictionary as example where each sheet rrepresents an SAP table which contains the data definition of the fields within\n",
    "- When sheets_name = None parameter is passed in, pandas will read the data in all the sheets as a df and create a dictionary with the sheetname as key and the df as the value"
   ]
  },
  {
   "cell_type": "code",
   "execution_count": 33,
   "metadata": {
    "id": "meEgVUmozINS"
   },
   "outputs": [],
   "source": [
    "# Reading in the data\n",
    "sample_SAP_data_dict = \"./data/SAP Data Dictionary Selected Tables.xlsx\"\n",
    "data_sheet_dict = pd.read_excel(sample_SAP_data_dict, sheet_name=None)"
   ]
  },
  {
   "cell_type": "code",
   "execution_count": 34,
   "metadata": {
    "colab": {
     "base_uri": "https://localhost:8080/"
    },
    "id": "KlB4YFcYzIQw",
    "outputId": "779e5960-e8d8-4d5f-feb7-4ab7e62787c3"
   },
   "outputs": [
    {
     "name": "stdout",
     "output_type": "stream",
     "text": [
      "There are 11 sheets in the excel file\n",
      "The sheets are ['BKPF', 'BSAK', 'BSEG', 'EKPO', 'EKKO', 'EBAN', 'EKBE', 'EKKN', 'ESLL', 'ESLH', 'MAKT']\n"
     ]
    }
   ],
   "source": [
    "#Display the names of each sheet in excel\n",
    "list_sheets = list(data_sheet_dict.keys())\n",
    "print(f\"There are {len(list_sheets)} sheets in the excel file\")\n",
    "print(f\"The sheets are {list_sheets}\")"
   ]
  },
  {
   "cell_type": "code",
   "execution_count": 35,
   "metadata": {
    "colab": {
     "base_uri": "https://localhost:8080/",
     "height": 250
    },
    "id": "tMw61Zyf7Na8",
    "outputId": "07094980-b249-4337-856e-2003d597d946"
   },
   "outputs": [
    {
     "data": {
      "text/html": [
       "<div>\n",
       "<style scoped>\n",
       "    .dataframe tbody tr th:only-of-type {\n",
       "        vertical-align: middle;\n",
       "    }\n",
       "\n",
       "    .dataframe tbody tr th {\n",
       "        vertical-align: top;\n",
       "    }\n",
       "\n",
       "    .dataframe thead th {\n",
       "        text-align: right;\n",
       "    }\n",
       "</style>\n",
       "<table border=\"1\" class=\"dataframe\">\n",
       "  <thead>\n",
       "    <tr style=\"text-align: right;\">\n",
       "      <th></th>\n",
       "      <th>Field</th>\n",
       "      <th>Field Name</th>\n",
       "      <th>Data element</th>\n",
       "      <th>Checktable</th>\n",
       "      <th>Datatype</th>\n",
       "      <th>Length</th>\n",
       "      <th>Decimals</th>\n",
       "    </tr>\n",
       "  </thead>\n",
       "  <tbody>\n",
       "    <tr>\n",
       "      <th>0</th>\n",
       "      <td>MANDT</td>\n",
       "      <td>Client</td>\n",
       "      <td>MANDT</td>\n",
       "      <td>T000</td>\n",
       "      <td>CLNT</td>\n",
       "      <td>3</td>\n",
       "      <td>0</td>\n",
       "    </tr>\n",
       "    <tr>\n",
       "      <th>1</th>\n",
       "      <td>BUKRS</td>\n",
       "      <td>Company Code</td>\n",
       "      <td>BUKRS</td>\n",
       "      <td>T001</td>\n",
       "      <td>CHAR</td>\n",
       "      <td>4</td>\n",
       "      <td>0</td>\n",
       "    </tr>\n",
       "    <tr>\n",
       "      <th>2</th>\n",
       "      <td>BELNR</td>\n",
       "      <td>Accounting Document Number</td>\n",
       "      <td>BELNR_D</td>\n",
       "      <td>NaN</td>\n",
       "      <td>CHAR</td>\n",
       "      <td>10</td>\n",
       "      <td>0</td>\n",
       "    </tr>\n",
       "    <tr>\n",
       "      <th>3</th>\n",
       "      <td>GJAHR</td>\n",
       "      <td>Fiscal Year</td>\n",
       "      <td>GJAHR</td>\n",
       "      <td>NaN</td>\n",
       "      <td>NUMC</td>\n",
       "      <td>4</td>\n",
       "      <td>0</td>\n",
       "    </tr>\n",
       "    <tr>\n",
       "      <th>4</th>\n",
       "      <td>BUZEI</td>\n",
       "      <td>Number of Line Item Within Accounting Document</td>\n",
       "      <td>BUZEI</td>\n",
       "      <td>NaN</td>\n",
       "      <td>NUMC</td>\n",
       "      <td>3</td>\n",
       "      <td>0</td>\n",
       "    </tr>\n",
       "  </tbody>\n",
       "</table>\n",
       "</div>"
      ],
      "text/plain": [
       "   Field                                      Field Name Data element  \\\n",
       "0  MANDT                                          Client        MANDT   \n",
       "1  BUKRS                                    Company Code        BUKRS   \n",
       "2  BELNR                      Accounting Document Number      BELNR_D   \n",
       "3  GJAHR                                     Fiscal Year        GJAHR   \n",
       "4  BUZEI  Number of Line Item Within Accounting Document        BUZEI   \n",
       "\n",
       "  Checktable Datatype  Length  Decimals  \n",
       "0       T000     CLNT       3         0  \n",
       "1       T001     CHAR       4         0  \n",
       "2        NaN     CHAR      10         0  \n",
       "3        NaN     NUMC       4         0  \n",
       "4        NaN     NUMC       3         0  "
      ]
     },
     "execution_count": 35,
     "metadata": {},
     "output_type": "execute_result"
    }
   ],
   "source": [
    "# Each individual df is stored within the corresponding value \n",
    "data_sheet_dict['BSEG'].head()"
   ]
  },
  {
   "cell_type": "markdown",
   "metadata": {
    "id": "6tf0dk5P8YU7"
   },
   "source": [
    "One application of using the information is to create a table showing the common columns among each table where the tables are represented as rows and columns represented as columns"
   ]
  },
  {
   "cell_type": "code",
   "execution_count": 36,
   "metadata": {
    "id": "WNCpUn5w8slw"
   },
   "outputs": [],
   "source": [
    "df = data_sheet_dict['BSEG']"
   ]
  },
  {
   "cell_type": "code",
   "execution_count": 37,
   "metadata": {
    "id": "IMJoc4fH8wuq"
   },
   "outputs": [],
   "source": [
    "df['Present'] = 1\n",
    "df['SAP_Table'] = 'BSEG'"
   ]
  },
  {
   "cell_type": "code",
   "execution_count": 38,
   "metadata": {
    "colab": {
     "base_uri": "https://localhost:8080/",
     "height": 205
    },
    "id": "P-5zO-vY9EAG",
    "outputId": "4e2e35f5-11a1-4602-b205-098291de64c3"
   },
   "outputs": [
    {
     "data": {
      "text/html": [
       "<div>\n",
       "<style scoped>\n",
       "    .dataframe tbody tr th:only-of-type {\n",
       "        vertical-align: middle;\n",
       "    }\n",
       "\n",
       "    .dataframe tbody tr th {\n",
       "        vertical-align: top;\n",
       "    }\n",
       "\n",
       "    .dataframe thead th {\n",
       "        text-align: right;\n",
       "    }\n",
       "</style>\n",
       "<table border=\"1\" class=\"dataframe\">\n",
       "  <thead>\n",
       "    <tr style=\"text-align: right;\">\n",
       "      <th>Field</th>\n",
       "      <th>ABPER</th>\n",
       "      <th>ABSBT</th>\n",
       "      <th>AGZEI</th>\n",
       "      <th>ALTKT</th>\n",
       "      <th>ANBWA</th>\n",
       "      <th>ANFAE</th>\n",
       "      <th>ANFBJ</th>\n",
       "      <th>ANFBN</th>\n",
       "      <th>ANFBU</th>\n",
       "      <th>ANLN1</th>\n",
       "      <th>...</th>\n",
       "      <th>ZEKKN</th>\n",
       "      <th>ZFBDT</th>\n",
       "      <th>ZINKZ</th>\n",
       "      <th>ZLSCH</th>\n",
       "      <th>ZLSPR</th>\n",
       "      <th>ZOLLD</th>\n",
       "      <th>ZOLLT</th>\n",
       "      <th>ZTERM</th>\n",
       "      <th>ZUMSK</th>\n",
       "      <th>ZUONR</th>\n",
       "    </tr>\n",
       "    <tr>\n",
       "      <th>SAP_Table</th>\n",
       "      <th></th>\n",
       "      <th></th>\n",
       "      <th></th>\n",
       "      <th></th>\n",
       "      <th></th>\n",
       "      <th></th>\n",
       "      <th></th>\n",
       "      <th></th>\n",
       "      <th></th>\n",
       "      <th></th>\n",
       "      <th></th>\n",
       "      <th></th>\n",
       "      <th></th>\n",
       "      <th></th>\n",
       "      <th></th>\n",
       "      <th></th>\n",
       "      <th></th>\n",
       "      <th></th>\n",
       "      <th></th>\n",
       "      <th></th>\n",
       "      <th></th>\n",
       "    </tr>\n",
       "  </thead>\n",
       "  <tbody>\n",
       "    <tr>\n",
       "      <th>BSEG</th>\n",
       "      <td>1</td>\n",
       "      <td>1</td>\n",
       "      <td>1</td>\n",
       "      <td>1</td>\n",
       "      <td>1</td>\n",
       "      <td>1</td>\n",
       "      <td>1</td>\n",
       "      <td>1</td>\n",
       "      <td>1</td>\n",
       "      <td>1</td>\n",
       "      <td>...</td>\n",
       "      <td>1</td>\n",
       "      <td>1</td>\n",
       "      <td>1</td>\n",
       "      <td>1</td>\n",
       "      <td>1</td>\n",
       "      <td>1</td>\n",
       "      <td>1</td>\n",
       "      <td>1</td>\n",
       "      <td>1</td>\n",
       "      <td>1</td>\n",
       "    </tr>\n",
       "  </tbody>\n",
       "</table>\n",
       "<p>1 rows × 371 columns</p>\n",
       "</div>"
      ],
      "text/plain": [
       "Field      ABPER  ABSBT  AGZEI  ALTKT  ANBWA  ANFAE  ANFBJ  ANFBN  ANFBU  \\\n",
       "SAP_Table                                                                  \n",
       "BSEG           1      1      1      1      1      1      1      1      1   \n",
       "\n",
       "Field      ANLN1  ...  ZEKKN  ZFBDT  ZINKZ  ZLSCH  ZLSPR  ZOLLD  ZOLLT  ZTERM  \\\n",
       "SAP_Table         ...                                                           \n",
       "BSEG           1  ...      1      1      1      1      1      1      1      1   \n",
       "\n",
       "Field      ZUMSK  ZUONR  \n",
       "SAP_Table                \n",
       "BSEG           1      1  \n",
       "\n",
       "[1 rows x 371 columns]"
      ]
     },
     "execution_count": 38,
     "metadata": {},
     "output_type": "execute_result"
    }
   ],
   "source": [
    "df[['SAP_Table','Field', 'Present']].pivot_table(columns='Field',\n",
    "                                     values='Present',\n",
    "                                     index='SAP_Table')"
   ]
  },
  {
   "cell_type": "code",
   "execution_count": 39,
   "metadata": {
    "id": "3zbuCFdJ-Dn8"
   },
   "outputs": [],
   "source": [
    "def extract_columns_info(df, sheet_name, list_column_field):\n",
    "    df_temp = df.copy()\n",
    "    df_temp['SAP_Table'] = sheet_name\n",
    "    df_temp['Present'] = 1\n",
    "    columns_select = ['SAP_Table'] + list_column_field + ['Present']\n",
    "    print(columns_select)\n",
    "\n",
    "    return df_temp[columns_select].pivot_table(columns=list_column_field,\n",
    "                                     values='Present',\n",
    "                                     index=['SAP_Table'])"
   ]
  },
  {
   "cell_type": "code",
   "execution_count": 40,
   "metadata": {
    "colab": {
     "base_uri": "https://localhost:8080/"
    },
    "id": "f6AsQhvGMED4",
    "outputId": "013d4f21-1cd2-45e4-d521-3e0ed448c73e"
   },
   "outputs": [
    {
     "name": "stdout",
     "output_type": "stream",
     "text": [
      "        Field                          Field Name Data element Checktable  \\\n",
      "0       MANDT                              Client        MANDT       T000   \n",
      "1       BUKRS                        Company Code        BUKRS       T001   \n",
      "2       BELNR          Accounting Document Number      BELNR_D        NaN   \n",
      "3       GJAHR                         Fiscal Year        GJAHR        NaN   \n",
      "4       BLART                       Document Type        BLART       T003   \n",
      "..        ...                                 ...          ...        ...   \n",
      "110     KNUMV    Number of the document condition        KNUMV        NaN   \n",
      "111  OINETNUM  Exchange - netting document number   OIA_NETNUM        NaN   \n",
      "112   OINJAHR                         Fiscal Year        GJAHR        NaN   \n",
      "113    OININD    Movement-based netting indicator      OIA_NET        NaN   \n",
      "114     RECHN             Indicator: post invoice        XRECH        NaN   \n",
      "\n",
      "    Datatype  Length  Decimals  \n",
      "0       CLNT       3         0  \n",
      "1       CHAR       4         0  \n",
      "2       CHAR      10         0  \n",
      "3       NUMC       4         0  \n",
      "4       CHAR       2         0  \n",
      "..       ...     ...       ...  \n",
      "110     CHAR      10         0  \n",
      "111     CHAR      10         0  \n",
      "112     NUMC       4         0  \n",
      "113     CHAR       1         0  \n",
      "114     CHAR       1         0  \n",
      "\n",
      "[115 rows x 7 columns]\n",
      "BKPF\n",
      "['SAP_Table', 'Field', 'Present']\n",
      "        Field                             Field Name Data element Checktable  \\\n",
      "0       MANDT                                 Client        MANDT        NaN   \n",
      "1       BUKRS                           Company Code        BUKRS       LFB1   \n",
      "2       LIFNR   Account Number of Vendor or Creditor        LIFNR       LFA1   \n",
      "3       UMSKS           Special G/L Transaction Type        UMSKS        NaN   \n",
      "4       UMSKZ                  Special G/L Indicator        UMSKZ        NaN   \n",
      "..        ...                                    ...          ...        ...   \n",
      "179     BTYPE                           Payroll Type    JV_BILIND       T8JA   \n",
      "180  OIEXGNUM              Exchange agreement number   OIA_EXGNUM        NaN   \n",
      "181  OINETCYC  Netting cycle (FI blocking indicator)   OIA_NETCYC        NaN   \n",
      "182  OIEXGTYP                          Exchange type   OIA_EXGTYP        NaN   \n",
      "183  PROPMANO      Mandate, Mandate-Opening Contract  REHORECNNRM        NaN   \n",
      "\n",
      "    Datatype  Length  Decimals  \n",
      "0       CLNT       3         0  \n",
      "1       CHAR       4         0  \n",
      "2       CHAR      10         0  \n",
      "3       CHAR       1         0  \n",
      "4       CHAR       1         0  \n",
      "..       ...     ...       ...  \n",
      "179     CHAR       2         0  \n",
      "180     CHAR      10         0  \n",
      "181     CHAR       1         0  \n",
      "182     CHAR       4         0  \n",
      "183     CHAR      13         0  \n",
      "\n",
      "[184 rows x 7 columns]\n",
      "BSAK\n",
      "['SAP_Table', 'Field', 'Present']\n",
      "          Field                                      Field Name Data element  \\\n",
      "0         MANDT                                          Client        MANDT   \n",
      "1         BUKRS                                    Company Code        BUKRS   \n",
      "2         BELNR                      Accounting Document Number      BELNR_D   \n",
      "3         GJAHR                                     Fiscal Year        GJAHR   \n",
      "4         BUZEI  Number of Line Item Within Accounting Document        BUZEI   \n",
      "..          ...                                             ...          ...   \n",
      "366    OIEXGTYP                                   Exchange type   OIA_EXGTYP   \n",
      "367   OINEGPSTG           Negative posting line (exchange fees)   OIA_NGPSTL   \n",
      "368   RECID_MAN                                             NaN          NaN   \n",
      "369  OIPOSTZERO                               Post zero amounts   OIH_PSTZRO   \n",
      "370    OIINVCYC                                   Invoice cycle   OIA_INVCYC   \n",
      "\n",
      "    Checktable Datatype  Length  Decimals  Present SAP_Table  \n",
      "0         T000     CLNT       3         0        1      BSEG  \n",
      "1         T001     CHAR       4         0        1      BSEG  \n",
      "2          NaN     CHAR      10         0        1      BSEG  \n",
      "3          NaN     NUMC       4         0        1      BSEG  \n",
      "4          NaN     NUMC       3         0        1      BSEG  \n",
      "..         ...      ...     ...       ...      ...       ...  \n",
      "366        NaN     CHAR       4         0        1      BSEG  \n",
      "367        NaN     CHAR       1         0        1      BSEG  \n",
      "368        NaN     CHAR       1         0        1      BSEG  \n",
      "369        NaN     CHAR       1         0        1      BSEG  \n",
      "370     TOIA10     NUMC       1         0        1      BSEG  \n",
      "\n",
      "[371 rows x 9 columns]\n",
      "BSEG\n",
      "['SAP_Table', 'Field', 'Present']\n",
      "          Field                                         Field Name  \\\n",
      "0         MANDT                                             Client   \n",
      "1         EBELN                         Purchasing Document Number   \n",
      "2         EBELP                 Item Number of Purchasing Document   \n",
      "3         LOEKZ          Deletion Indicator in Purchasing Document   \n",
      "4         STATU                                         RFQ status   \n",
      "..          ...                                                ...   \n",
      "355   SOURCE_ID                                     Origin Profile   \n",
      "356  SOURCE_KEY                               Key in Source System   \n",
      "357    PUT_BACK  Indicator for Putting Back from Grouped PO Doc...   \n",
      "358      POL_ID                             Order List Item Number   \n",
      "359  CONS_ORDER                     Purchase Order for Consignment   \n",
      "\n",
      "              Data element        Checktable Datatype  Length  Decimals  \n",
      "0                    MANDT              T000     CLNT       3         0  \n",
      "1                    EBELN              EKKO     CHAR      10         0  \n",
      "2                    EBELP               NaN     NUMC       5         0  \n",
      "3                    ELOEK               NaN     CHAR       1         0  \n",
      "4                    ASTAT               NaN     CHAR       1         0  \n",
      "..                     ...               ...      ...     ...       ...  \n",
      "355     WRF_POHF_SOURCE_ID  WRFT_POHF_SOURCE     CHAR       3         0  \n",
      "356    WRF_POHF_SOURCE_KEY               NaN     CHAR      32         0  \n",
      "357  WRF_POHF_PUT_BACK_POG               NaN     CHAR       1         0  \n",
      "358        WRF_POHF_POL_ID               NaN     CHAR      10         0  \n",
      "359         WRF_CONS_ORDER               NaN     CHAR       1         0  \n",
      "\n",
      "[360 rows x 7 columns]\n",
      "EKPO\n",
      "['SAP_Table', 'Field', 'Present']\n",
      "               Field                                    Field Name  \\\n",
      "0              MANDT                                        Client   \n",
      "1              EBELN                    Purchasing Document Number   \n",
      "2              BUKRS                                  Company Code   \n",
      "3              BSTYP                  Purchasing Document Category   \n",
      "4              BSART                      Purchasing Document Type   \n",
      "..               ...                                           ...   \n",
      "147       OTB_REASON         Reason Indicator for OTB Check Status   \n",
      "148       CHECK_TYPE                             Type of OTB Check   \n",
      "149      CON_OTB_REQ                         OTB-Relevant Contract   \n",
      "150  CON_PREBOOK_LEV             OTB Indicator Level for Contracts   \n",
      "151    CON_DISTR_LEV  Distribution Using Target Value or Item Data   \n",
      "\n",
      "               Data element Checktable Datatype  Length  Decimals  \n",
      "0                     MANDT       T000     CLNT       3         0  \n",
      "1                     EBELN        NaN     CHAR      10         0  \n",
      "2                     BUKRS       T001     CHAR       4         0  \n",
      "3                    EBSTYP        NaN     CHAR       1         0  \n",
      "4                     ESART       T161     CHAR       4         0  \n",
      "..                      ...        ...      ...     ...       ...  \n",
      "147  WRF_POTB_STATUS_REASON        NaN     CHAR       3         0  \n",
      "148      WRF_BUDG_OTB_CHECK        NaN     CHAR       1         0  \n",
      "149        WRF_POTB_CON_REQ        NaN     CHAR       1         0  \n",
      "150  WRF_POTB_PREBOOK_LEVEL        NaN     CHAR       1         0  \n",
      "151  WRF_POTB_DISTRIB_LEVEL        NaN     CHAR       1         0  \n",
      "\n",
      "[152 rows x 7 columns]\n",
      "EKKO\n",
      "['SAP_Table', 'Field', 'Present']\n",
      "             Field                           Field Name   Data element  \\\n",
      "0            MANDT                               Client          MANDT   \n",
      "1            BANFN          Purchase Requisition Number          BANFN   \n",
      "2            BNFPO  Item Number of Purchase Requisition          BNFPO   \n",
      "3            BSART   Purchase Requisition Document Type          BBSRT   \n",
      "4            BSTYP         Purchasing Document Category          BSTYP   \n",
      "..             ...                                  ...            ...   \n",
      "162      OIO_SPROC                       Supply Process      OIO_SPROC   \n",
      "163     OIO_STATUS                  Supply chain status  OIO_SC_STATUS   \n",
      "164  OIO_REF_BANFN         Reference requisition number  OIO_REF_BANFN   \n",
      "165  OIO_REF_BNFPO           Reference requisition item  OIO_REF_BNFPO   \n",
      "166       OIO_HOLD     Indicator: Hold Delivery Onshore       OIO_HOLD   \n",
      "\n",
      "    Checktable Datatype  Length  Decimals  \n",
      "0         T000     CLNT       3         0  \n",
      "1          NaN     CHAR      10         0  \n",
      "2          NaN     NUMC       5         0  \n",
      "3         T161     CHAR       4         0  \n",
      "4          NaN     CHAR       1         0  \n",
      "..         ...      ...     ...       ...  \n",
      "162        NaN     CHAR       4         0  \n",
      "163        NaN     CHAR       1         0  \n",
      "164        NaN     CHAR      10         0  \n",
      "165        NaN     NUMC       5         0  \n",
      "166        NaN     CHAR       1         0  \n",
      "\n",
      "[167 rows x 7 columns]\n",
      "EBAN\n",
      "['SAP_Table', 'Field', 'Present']\n",
      "              Field                                         Field Name  \\\n",
      "0             MANDT                                             Client   \n",
      "1             EBELN                         Purchasing Document Number   \n",
      "2             EBELP                 Item Number of Purchasing Document   \n",
      "3             ZEKKN            Sequential Number of Account Assignment   \n",
      "4             VGABE     Transaction/event type, purchase order history   \n",
      "..              ...                                                ...   \n",
      "85       /CWM/BAMNG               Quantity in Parallel Unit of Measure   \n",
      "86       /CWM/WESBS  Goods Receipt Blocked Stock in Base/Parallel U...   \n",
      "87       /CWM/TY2TQ                   Type of Parallel Unit of Measure   \n",
      "88       /CWM/WESBB  Val. Goods Receipt Blocked Stock in Basis or P...   \n",
      "89  J_SC_DIE_COMP_F                       Depreciation completion flag   \n",
      "\n",
      "               Data element Checktable Datatype  Length  Decimals  \n",
      "0                     MANDT       T000     CLNT       3         0  \n",
      "1                     EBELN       EKKO     CHAR      10         0  \n",
      "2                     EBELP       EKPO     NUMC       5         0  \n",
      "3                    DZEKKN        NaN     NUMC       2         0  \n",
      "4                     VGABE        NaN     CHAR       1         0  \n",
      "..                      ...        ...      ...     ...       ...  \n",
      "85               /CWM/BAMNG        NaN     QUAN      13         3  \n",
      "86               /CWM/WESBS        NaN     QUAN      13         3  \n",
      "87               /CWM/TY2TQ        NaN     CHAR       1         0  \n",
      "88               /CWM/WESBB        NaN     QUAN      13         3  \n",
      "89  /SAPNEA/J_SC_DIE_COMP_F        NaN     CHAR       1         0  \n",
      "\n",
      "[90 rows x 7 columns]\n",
      "EKBE\n",
      "['SAP_Table', 'Field', 'Present']\n",
      "             Field                                         Field Name  \\\n",
      "0            MANDT                                             Client   \n",
      "1            EBELN                         Purchasing Document Number   \n",
      "2            EBELP                 Item Number of Purchasing Document   \n",
      "3            ZEKKN            Sequential Number of Account Assignment   \n",
      "4            LOEKZ  Deletion Indicator: Purchasing Document Accoun...   \n",
      "..             ...                                                ...   \n",
      "63         TCOBJNR                                      Object number   \n",
      "64   DATEOFSERVICE                                    Date of Service   \n",
      "65       NOTAXCORR       Do Not Consider Item in Input Tax Correction   \n",
      "66     DIFFOPTRATE                            Real estate option rate   \n",
      "67  HASDIFFOPTRATE                          Use Different Option Rate   \n",
      "\n",
      "            Data element Checktable Datatype  Length  Decimals  \n",
      "0                  MANDT       T000     CLNT       3         0  \n",
      "1                  EBELN       EKKO     CHAR      10         0  \n",
      "2                  EBELP       EKPO     NUMC       5         0  \n",
      "3                 DZEKKN        NaN     NUMC       2         0  \n",
      "4                  KLOEK        NaN     CHAR       1         0  \n",
      "..                   ...        ...      ...     ...       ...  \n",
      "63               J_OBJNR        NaN     CHAR      22         0  \n",
      "64           VVBEACTDATE        NaN     DATS       8         0  \n",
      "65       VVREITNOTAXCORR        NaN     CHAR       1         0  \n",
      "66              POPTSATZ        NaN      DEC       9         6  \n",
      "67  VVREITUSEDIFFOPTRATE        NaN     CHAR       1         0  \n",
      "\n",
      "[68 rows x 7 columns]\n",
      "EKKN\n",
      "['SAP_Table', 'Field', 'Present']\n",
      "            Field                              Field Name    Data element  \\\n",
      "0           MANDT                                  Client           MANDT   \n",
      "1          PACKNO                          Package number          PACKNO   \n",
      "2          INTROW                             Line Number        NUMZEILE   \n",
      "3          EXTROW                             Line Number          EXTROW   \n",
      "4             DEL                      Deletion Indicator             DEL   \n",
      "..            ...                                     ...             ...   \n",
      "107     OIO_MEINS                    Base unit of measure    OIO_RN_MEINS   \n",
      "108  OIO_RMOBSTAT                     Mobilization Status  OIO_RN_MOBSTAT   \n",
      "109  OIO_RNUMPACK                      Number of Packages  OIO_RN_NUMPACK   \n",
      "110  OIO_RVENDREF                      Vendor's Reference  OIO_RN_VENDREF   \n",
      "111    OIO_RX_PRT  Flag: is a Production Resource or Tool    OIO_RN_X_PRT   \n",
      "\n",
      "    Checktable Datatype  Length  Decimals  \n",
      "0         T000     CLNT       3         0  \n",
      "1         ESLH     NUMC      10         0  \n",
      "2          NaN     NUMC      10         0  \n",
      "3          NaN     NUMC      10         0  \n",
      "4          NaN     CHAR       1         0  \n",
      "..         ...      ...     ...       ...  \n",
      "107        NaN     UNIT       3         0  \n",
      "108        NaN     CHAR       1         0  \n",
      "109        NaN     NUMC       4         0  \n",
      "110        NaN     CHAR      20         0  \n",
      "111        NaN     CHAR       1         0  \n",
      "\n",
      "[112 rows x 7 columns]\n",
      "ESLL\n",
      "['SAP_Table', 'Field', 'Present']\n",
      "        Field                                     Field Name Data element  \\\n",
      "0       MANDT                                         Client        MANDT   \n",
      "1      PACKNO                                 Package number       PACKNO   \n",
      "2         DEL                             Deletion Indicator          DEL   \n",
      "3     FPACKNO                          Parent package number      FPACKNO   \n",
      "4     HPACKNO                         Highest package number      HPACKNO   \n",
      "5       KNUMV               Number of the document condition        KNUMV   \n",
      "6       EBELN                     Purchasing Document Number        EBELN   \n",
      "7       EBELP             Item Number of Purchasing Document        EBELP   \n",
      "8       BSTYP                   Purchasing Document Category        BSTYP   \n",
      "9       WAERS                                   Currency Key        WAERS   \n",
      "10      CUOBJ         Configuration (internal object number)        CUOBJ   \n",
      "11  SUM_NETWR                 Net Value in Document Currency        NETWR   \n",
      "12      IWEIN                                  Unit for Work        IWEIN   \n",
      "13   SUM_WORK                                  Internal Work     INT_WORK   \n",
      "14    INT_USE  Service package is used for internal services      INT_USE   \n",
      "15      WKURS                                  Exchange Rate        WKURS   \n",
      "16      VBELN         Sales and Distribution Document Number        VBELN   \n",
      "17      POSNR                 Item number of the SD document        POSNR   \n",
      "18      VBTYP                           SD document category        VBTYP   \n",
      "\n",
      "   Checktable Datatype  Length  Decimals  \n",
      "0        T000     CLNT       3         0  \n",
      "1         NaN     NUMC      10         0  \n",
      "2         NaN     CHAR       1         0  \n",
      "3        ESLH     NUMC      10         0  \n",
      "4        ESLH     NUMC      10         0  \n",
      "5         NaN     CHAR      10         0  \n",
      "6        EKKO     CHAR      10         0  \n",
      "7        EKPO     NUMC       5         0  \n",
      "8         NaN     CHAR       1         0  \n",
      "9       TCURC     CUKY       5         0  \n",
      "10        NaN     NUMC      18         0  \n",
      "11        NaN     CURR      15         2  \n",
      "12        NaN     UNIT       3         0  \n",
      "13        NaN     QUAN       8         2  \n",
      "14        NaN     CHAR       1         0  \n",
      "15        NaN      DEC       9         5  \n",
      "16       VBUK     CHAR      10         0  \n",
      "17       VBUP     NUMC       6         0  \n",
      "18        NaN     CHAR       1         0  \n",
      "ESLH\n",
      "['SAP_Table', 'Field', 'Present']\n"
     ]
    },
    {
     "name": "stdout",
     "output_type": "stream",
     "text": [
      "   Field                                         Field Name Data element  \\\n",
      "0  MANDT                                             Client        MANDT   \n",
      "1  MATNR                                    Material Number        MATNR   \n",
      "2  SPRAS                                       Language Key        SPRAS   \n",
      "3  MAKTX                  Material Description (Short Text)        MAKTX   \n",
      "4  MAKTG  Material description in upper case for matchcodes        MAKTG   \n",
      "\n",
      "  Checktable Datatype  Length  Decimals  \n",
      "0       T000     CLNT       3         0  \n",
      "1       MARA     CHAR      18         0  \n",
      "2       T002     LANG       1         0  \n",
      "3        NaN     CHAR      40         0  \n",
      "4        NaN     CHAR      40         0  \n",
      "MAKT\n",
      "['SAP_Table', 'Field', 'Present']\n"
     ]
    }
   ],
   "source": [
    "list_column_field = ['Field']\n",
    "list_df = []\n",
    "for sheet_name, df in data_sheet_dict.items():\n",
    "    print(df)\n",
    "    print(sheet_name)\n",
    "    df_processed = extract_columns_info(df,sheet_name, list_column_field)\n",
    "    list_df.append(df_processed)"
   ]
  },
  {
   "cell_type": "code",
   "execution_count": 41,
   "metadata": {
    "id": "okcPXuB8B3Hb"
   },
   "outputs": [],
   "source": [
    "df_consolidated = pd.concat(list_df)\n",
    "df_consolidated.fillna(\"\", inplace=True)"
   ]
  },
  {
   "cell_type": "code",
   "execution_count": 42,
   "metadata": {
    "colab": {
     "base_uri": "https://localhost:8080/",
     "height": 425
    },
    "id": "WAoYH5m3B7fz",
    "outputId": "e85ba136-d619-4fef-8b9f-4469e6f43f3e",
    "scrolled": true
   },
   "outputs": [
    {
     "data": {
      "text/html": [
       "<div>\n",
       "<style scoped>\n",
       "    .dataframe tbody tr th:only-of-type {\n",
       "        vertical-align: middle;\n",
       "    }\n",
       "\n",
       "    .dataframe tbody tr th {\n",
       "        vertical-align: top;\n",
       "    }\n",
       "\n",
       "    .dataframe thead th {\n",
       "        text-align: right;\n",
       "    }\n",
       "</style>\n",
       "<table border=\"1\" class=\"dataframe\">\n",
       "  <thead>\n",
       "    <tr style=\"text-align: right;\">\n",
       "      <th>Field</th>\n",
       "      <th>BELNR</th>\n",
       "      <th>BUZEI</th>\n",
       "      <th>GJAHR</th>\n",
       "      <th>EBELN</th>\n",
       "      <th>EBELP</th>\n",
       "      <th>PACKNO</th>\n",
       "      <th>INTROW</th>\n",
       "      <th>MATNR</th>\n",
       "    </tr>\n",
       "    <tr>\n",
       "      <th>SAP_Table</th>\n",
       "      <th></th>\n",
       "      <th></th>\n",
       "      <th></th>\n",
       "      <th></th>\n",
       "      <th></th>\n",
       "      <th></th>\n",
       "      <th></th>\n",
       "      <th></th>\n",
       "    </tr>\n",
       "  </thead>\n",
       "  <tbody>\n",
       "    <tr>\n",
       "      <th>BKPF</th>\n",
       "      <td>1.0</td>\n",
       "      <td></td>\n",
       "      <td>1.0</td>\n",
       "      <td></td>\n",
       "      <td></td>\n",
       "      <td></td>\n",
       "      <td></td>\n",
       "      <td></td>\n",
       "    </tr>\n",
       "    <tr>\n",
       "      <th>BSAK</th>\n",
       "      <td>1.0</td>\n",
       "      <td>1.0</td>\n",
       "      <td>1.0</td>\n",
       "      <td>1.0</td>\n",
       "      <td>1.0</td>\n",
       "      <td></td>\n",
       "      <td></td>\n",
       "      <td></td>\n",
       "    </tr>\n",
       "    <tr>\n",
       "      <th>BSEG</th>\n",
       "      <td>1.0</td>\n",
       "      <td>1.0</td>\n",
       "      <td>1.0</td>\n",
       "      <td>1.0</td>\n",
       "      <td>1.0</td>\n",
       "      <td></td>\n",
       "      <td></td>\n",
       "      <td>1.0</td>\n",
       "    </tr>\n",
       "    <tr>\n",
       "      <th>EKPO</th>\n",
       "      <td></td>\n",
       "      <td></td>\n",
       "      <td></td>\n",
       "      <td>1.0</td>\n",
       "      <td>1.0</td>\n",
       "      <td>1.0</td>\n",
       "      <td></td>\n",
       "      <td>1.0</td>\n",
       "    </tr>\n",
       "    <tr>\n",
       "      <th>EKKO</th>\n",
       "      <td></td>\n",
       "      <td></td>\n",
       "      <td></td>\n",
       "      <td>1.0</td>\n",
       "      <td></td>\n",
       "      <td></td>\n",
       "      <td></td>\n",
       "      <td></td>\n",
       "    </tr>\n",
       "    <tr>\n",
       "      <th>EBAN</th>\n",
       "      <td></td>\n",
       "      <td></td>\n",
       "      <td></td>\n",
       "      <td>1.0</td>\n",
       "      <td>1.0</td>\n",
       "      <td>1.0</td>\n",
       "      <td></td>\n",
       "      <td>1.0</td>\n",
       "    </tr>\n",
       "    <tr>\n",
       "      <th>EKBE</th>\n",
       "      <td>1.0</td>\n",
       "      <td>1.0</td>\n",
       "      <td>1.0</td>\n",
       "      <td>1.0</td>\n",
       "      <td>1.0</td>\n",
       "      <td>1.0</td>\n",
       "      <td>1.0</td>\n",
       "      <td>1.0</td>\n",
       "    </tr>\n",
       "    <tr>\n",
       "      <th>EKKN</th>\n",
       "      <td></td>\n",
       "      <td></td>\n",
       "      <td></td>\n",
       "      <td>1.0</td>\n",
       "      <td>1.0</td>\n",
       "      <td></td>\n",
       "      <td></td>\n",
       "      <td></td>\n",
       "    </tr>\n",
       "    <tr>\n",
       "      <th>ESLL</th>\n",
       "      <td>1.0</td>\n",
       "      <td></td>\n",
       "      <td></td>\n",
       "      <td></td>\n",
       "      <td></td>\n",
       "      <td>1.0</td>\n",
       "      <td>1.0</td>\n",
       "      <td></td>\n",
       "    </tr>\n",
       "    <tr>\n",
       "      <th>ESLH</th>\n",
       "      <td></td>\n",
       "      <td></td>\n",
       "      <td></td>\n",
       "      <td>1.0</td>\n",
       "      <td>1.0</td>\n",
       "      <td>1.0</td>\n",
       "      <td></td>\n",
       "      <td></td>\n",
       "    </tr>\n",
       "    <tr>\n",
       "      <th>MAKT</th>\n",
       "      <td></td>\n",
       "      <td></td>\n",
       "      <td></td>\n",
       "      <td></td>\n",
       "      <td></td>\n",
       "      <td></td>\n",
       "      <td></td>\n",
       "      <td>1.0</td>\n",
       "    </tr>\n",
       "  </tbody>\n",
       "</table>\n",
       "</div>"
      ],
      "text/plain": [
       "Field     BELNR BUZEI GJAHR EBELN EBELP PACKNO INTROW MATNR\n",
       "SAP_Table                                                  \n",
       "BKPF        1.0         1.0                                \n",
       "BSAK        1.0   1.0   1.0   1.0   1.0                    \n",
       "BSEG        1.0   1.0   1.0   1.0   1.0                 1.0\n",
       "EKPO                          1.0   1.0    1.0          1.0\n",
       "EKKO                          1.0                          \n",
       "EBAN                          1.0   1.0    1.0          1.0\n",
       "EKBE        1.0   1.0   1.0   1.0   1.0    1.0    1.0   1.0\n",
       "EKKN                          1.0   1.0                    \n",
       "ESLL        1.0                            1.0    1.0      \n",
       "ESLH                          1.0   1.0    1.0             \n",
       "MAKT                                                    1.0"
      ]
     },
     "execution_count": 42,
     "metadata": {},
     "output_type": "execute_result"
    }
   ],
   "source": [
    "columns = ['BELNR','BUZEI','GJAHR','EBELN','EBELP','PACKNO','INTROW','MATNR']\n",
    "df_consolidated.loc[:,columns]"
   ]
  },
  {
   "cell_type": "markdown",
   "metadata": {},
   "source": [
    "## Handling .txt files"
   ]
  },
  {
   "cell_type": "code",
   "execution_count": 43,
   "metadata": {
    "id": "BNqEKFQGTeho"
   },
   "outputs": [],
   "source": [
    "import pandas as pd\n",
    "import re"
   ]
  },
  {
   "cell_type": "code",
   "execution_count": 44,
   "metadata": {
    "id": "SUfApxTtYiro"
   },
   "outputs": [],
   "source": [
    "with open(\"data/Sample SAP Format.txt\", encoding=\"utf-8\") as f:\n",
    "    content_raw = f.read()"
   ]
  },
  {
   "cell_type": "code",
   "execution_count": 45,
   "metadata": {},
   "outputs": [
    {
     "data": {
      "text/plain": [
       "'DD.MM.YYYY           Dynamic List Display           1\\n-----------------------------------------------------\\n-----------------------------------------------------\\n|DocumentNo|Year|Itm|Clrng doc.|Text                |\\n-----------------------------------------------------\\n|10002001  |2022|001|60007000  |Item 1              |\\n|10002002  |2022|001|60007001  |Item A|B|C          |\\n|10002004  |2022|001|60007006  |Item Z    \\n         |\\n|10002003  |2022|002|60007005  |Item A|ID:01        |\\n-----------------------------------------------------\\n'"
      ]
     },
     "execution_count": 45,
     "metadata": {},
     "output_type": "execute_result"
    }
   ],
   "source": [
    "content_raw"
   ]
  },
  {
   "cell_type": "code",
   "execution_count": 46,
   "metadata": {},
   "outputs": [],
   "source": [
    "#Alternative way to read the file with CRLF (Carriage Return Line Feed intact)\n",
    "with open(\"data/Sample SAP Format.txt\", encoding=\"utf-8\", newline=\"\") as f:\n",
    "    content_raw_2 = f.read()"
   ]
  },
  {
   "cell_type": "code",
   "execution_count": 47,
   "metadata": {
    "scrolled": true
   },
   "outputs": [
    {
     "data": {
      "text/plain": [
       "'DD.MM.YYYY           Dynamic List Display           1\\r\\n-----------------------------------------------------\\r\\n-----------------------------------------------------\\r\\n|DocumentNo|Year|Itm|Clrng doc.|Text                |\\r\\n-----------------------------------------------------\\r\\n|10002001  |2022|001|60007000  |Item 1              |\\r\\n|10002002  |2022|001|60007001  |Item A|B|C          |\\r\\n|10002004  |2022|001|60007006  |Item Z    \\r\\n         |\\r\\n|10002003  |2022|002|60007005  |Item A|ID:01        |\\r\\n-----------------------------------------------------\\r\\n'"
      ]
     },
     "execution_count": 47,
     "metadata": {},
     "output_type": "execute_result"
    }
   ],
   "source": [
    "content_raw_2"
   ]
  },
  {
   "cell_type": "code",
   "execution_count": 48,
   "metadata": {
    "scrolled": true
   },
   "outputs": [
    {
     "data": {
      "text/plain": [
       "[]"
      ]
     },
     "execution_count": 48,
     "metadata": {},
     "output_type": "execute_result"
    }
   ],
   "source": [
    "re.findall(r\"\\r\\n\", content_raw)"
   ]
  },
  {
   "cell_type": "code",
   "execution_count": 49,
   "metadata": {
    "scrolled": false
   },
   "outputs": [
    {
     "data": {
      "text/plain": [
       "['\\r\\n',\n",
       " '\\r\\n',\n",
       " '\\r\\n',\n",
       " '\\r\\n',\n",
       " '\\r\\n',\n",
       " '\\r\\n',\n",
       " '\\r\\n',\n",
       " '\\r\\n',\n",
       " '\\r\\n',\n",
       " '\\r\\n',\n",
       " '\\r\\n']"
      ]
     },
     "execution_count": 49,
     "metadata": {},
     "output_type": "execute_result"
    }
   ],
   "source": [
    "re.findall(r\"\\r\\n\", content_raw_2)"
   ]
  },
  {
   "cell_type": "markdown",
   "metadata": {
    "id": "rG0wbNk0DhnN"
   },
   "source": [
    "## Parquet Files"
   ]
  },
  {
   "cell_type": "code",
   "execution_count": 50,
   "metadata": {},
   "outputs": [
    {
     "name": "stdout",
     "output_type": "stream",
     "text": [
      "Requirement already satisfied: pyarrow in c:\\users\\wengz\\anaconda3\\envs\\pytorch_env\\lib\\site-packages (9.0.0)\n",
      "Requirement already satisfied: numpy>=1.16.6 in c:\\users\\wengz\\anaconda3\\envs\\pytorch_env\\lib\\site-packages (from pyarrow) (1.23.2)\n"
     ]
    }
   ],
   "source": [
    "#!pip install pyarrow"
   ]
  },
  {
   "cell_type": "code",
   "execution_count": 52,
   "metadata": {},
   "outputs": [],
   "source": [
    "import pyarrow\n",
    "import pyarrow.parquet as pq"
   ]
  },
  {
   "cell_type": "code",
   "execution_count": 53,
   "metadata": {},
   "outputs": [],
   "source": [
    "df_retail_original = pd.read_excel(\"./data/Online Retail.xlsx\")"
   ]
  },
  {
   "cell_type": "code",
   "execution_count": 54,
   "metadata": {},
   "outputs": [
    {
     "name": "stdout",
     "output_type": "stream",
     "text": [
      "<class 'pandas.core.frame.DataFrame'>\n",
      "RangeIndex: 541909 entries, 0 to 541908\n",
      "Data columns (total 8 columns):\n",
      " #   Column       Non-Null Count   Dtype         \n",
      "---  ------       --------------   -----         \n",
      " 0   InvoiceNo    541909 non-null  object        \n",
      " 1   StockCode    541909 non-null  object        \n",
      " 2   Description  540455 non-null  object        \n",
      " 3   Quantity     541909 non-null  int64         \n",
      " 4   InvoiceDate  541909 non-null  datetime64[ns]\n",
      " 5   UnitPrice    541909 non-null  float64       \n",
      " 6   CustomerID   406829 non-null  float64       \n",
      " 7   Country      541909 non-null  object        \n",
      "dtypes: datetime64[ns](1), float64(2), int64(1), object(4)\n",
      "memory usage: 33.1+ MB\n"
     ]
    }
   ],
   "source": [
    "df_retail_original.info()"
   ]
  },
  {
   "cell_type": "code",
   "execution_count": 55,
   "metadata": {},
   "outputs": [
    {
     "data": {
      "text/plain": [
       "Index(['InvoiceNo', 'StockCode', 'Description', 'Quantity', 'InvoiceDate',\n",
       "       'UnitPrice', 'CustomerID', 'Country'],\n",
       "      dtype='object')"
      ]
     },
     "execution_count": 55,
     "metadata": {},
     "output_type": "execute_result"
    }
   ],
   "source": [
    "df_retail_original.columns"
   ]
  },
  {
   "cell_type": "code",
   "execution_count": 56,
   "metadata": {},
   "outputs": [],
   "source": [
    "for column in ['InvoiceNo', 'StockCode', 'Description','Country']:\n",
    "    df_retail_original[column] = df_retail_original[column].astype(str)"
   ]
  },
  {
   "cell_type": "code",
   "execution_count": 62,
   "metadata": {},
   "outputs": [
    {
     "name": "stdout",
     "output_type": "stream",
     "text": [
      "CPU times: total: 188 ms\n",
      "Wall time: 270 ms\n"
     ]
    }
   ],
   "source": [
    "%%time\n",
    "df_retail_original.to_parquet(\"./data/Online_Retail.parquet\")"
   ]
  },
  {
   "cell_type": "code",
   "execution_count": 63,
   "metadata": {},
   "outputs": [
    {
     "name": "stdout",
     "output_type": "stream",
     "text": [
      "CPU times: total: 1.86 s\n",
      "Wall time: 2.07 s\n"
     ]
    }
   ],
   "source": [
    "%%time\n",
    "df_retail_original.to_csv(\"./data/Online_Retail.csv\", index=False)"
   ]
  },
  {
   "cell_type": "code",
   "execution_count": 64,
   "metadata": {},
   "outputs": [
    {
     "name": "stdout",
     "output_type": "stream",
     "text": [
      "CPU times: total: 109 ms\n",
      "Wall time: 122 ms\n"
     ]
    }
   ],
   "source": [
    "%%time\n",
    "df_from_parquet = pq.read_pandas(\"./data/Online_Retail.parquet\").to_pandas()"
   ]
  },
  {
   "cell_type": "code",
   "execution_count": 65,
   "metadata": {},
   "outputs": [
    {
     "name": "stdout",
     "output_type": "stream",
     "text": [
      "CPU times: total: 422 ms\n",
      "Wall time: 427 ms\n"
     ]
    }
   ],
   "source": [
    "%%time\n",
    "df_from_csv = pd.read_csv(\"./data/Online_Retail.csv\")"
   ]
  },
  {
   "cell_type": "code",
   "execution_count": 66,
   "metadata": {},
   "outputs": [],
   "source": [
    "parquet_file = pq.ParquetFile(\"./data/Online_Retail.parquet\")"
   ]
  },
  {
   "cell_type": "code",
   "execution_count": 67,
   "metadata": {},
   "outputs": [
    {
     "data": {
      "text/plain": [
       "<pyarrow._parquet.FileMetaData object at 0x0000024DF8A5F510>\n",
       "  created_by: parquet-cpp-arrow version 9.0.0\n",
       "  num_columns: 8\n",
       "  num_rows: 541909\n",
       "  num_row_groups: 1\n",
       "  format_version: 2.6\n",
       "  serialized_size: 4855"
      ]
     },
     "execution_count": 67,
     "metadata": {},
     "output_type": "execute_result"
    }
   ],
   "source": [
    "parquet_file.metadata"
   ]
  },
  {
   "cell_type": "code",
   "execution_count": 68,
   "metadata": {},
   "outputs": [
    {
     "data": {
      "text/plain": [
       "<pyarrow._parquet.ParquetSchema object at 0x0000024DF13F60C0>\n",
       "required group field_id=-1 schema {\n",
       "  optional binary field_id=-1 InvoiceNo (String);\n",
       "  optional binary field_id=-1 StockCode (String);\n",
       "  optional binary field_id=-1 Description (String);\n",
       "  optional int64 field_id=-1 Quantity;\n",
       "  optional int64 field_id=-1 InvoiceDate (Timestamp(isAdjustedToUTC=false, timeUnit=microseconds, is_from_converted_type=false, force_set_converted_type=false));\n",
       "  optional double field_id=-1 UnitPrice;\n",
       "  optional double field_id=-1 CustomerID;\n",
       "  optional binary field_id=-1 Country (String);\n",
       "}"
      ]
     },
     "execution_count": 68,
     "metadata": {},
     "output_type": "execute_result"
    }
   ],
   "source": [
    "parquet_file.schema"
   ]
  },
  {
   "cell_type": "code",
   "execution_count": null,
   "metadata": {},
   "outputs": [],
   "source": []
  }
 ],
 "metadata": {
  "colab": {
   "provenance": []
  },
  "kernelspec": {
   "display_name": "Python [conda env:pytorch_env]",
   "language": "python",
   "name": "conda-env-pytorch_env-py"
  },
  "language_info": {
   "codemirror_mode": {
    "name": "ipython",
    "version": 3
   },
   "file_extension": ".py",
   "mimetype": "text/x-python",
   "name": "python",
   "nbconvert_exporter": "python",
   "pygments_lexer": "ipython3",
   "version": "3.10.4"
  },
  "toc": {
   "base_numbering": 1,
   "nav_menu": {},
   "number_sections": true,
   "sideBar": true,
   "skip_h1_title": false,
   "title_cell": "Table of Contents",
   "title_sidebar": "Contents",
   "toc_cell": false,
   "toc_position": {},
   "toc_section_display": true,
   "toc_window_display": false
  }
 },
 "nbformat": 4,
 "nbformat_minor": 1
}
