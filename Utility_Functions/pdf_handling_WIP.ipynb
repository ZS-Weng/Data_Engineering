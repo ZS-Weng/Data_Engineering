{
 "cells": [
  {
   "cell_type": "code",
   "execution_count": 1,
   "id": "c761b59e",
   "metadata": {},
   "outputs": [],
   "source": [
    "#!pip install pymupdf"
   ]
  },
  {
   "cell_type": "markdown",
   "id": "e1811bde",
   "metadata": {},
   "source": [
    "## Tutorial Link\n",
    "https://pymupdf.readthedocs.io/en/latest/tutorial.html"
   ]
  },
  {
   "cell_type": "markdown",
   "id": "532287b5",
   "metadata": {},
   "source": [
    "## meta data extraction"
   ]
  },
  {
   "cell_type": "code",
   "execution_count": 1,
   "id": "09df3ac3",
   "metadata": {},
   "outputs": [],
   "source": [
    "import fitz\n",
    "from pathlib import Path\n",
    "import os"
   ]
  },
  {
   "cell_type": "code",
   "execution_count": 2,
   "id": "27ef9751",
   "metadata": {},
   "outputs": [],
   "source": [
    "filepath = Path(\"./data/pymupdf-readthedocs-io-en-latest.pdf\")"
   ]
  },
  {
   "cell_type": "code",
   "execution_count": 3,
   "id": "d8393801",
   "metadata": {},
   "outputs": [],
   "source": [
    "doc = fitz.open(filepath)"
   ]
  },
  {
   "cell_type": "code",
   "execution_count": 4,
   "id": "c2965fba",
   "metadata": {},
   "outputs": [
    {
     "data": {
      "text/plain": [
       "{'format': 'PDF 1.5',\n",
       " 'title': 'PyMuPDF Documentation',\n",
       " 'author': 'Artifex',\n",
       " 'subject': '',\n",
       " 'keywords': '',\n",
       " 'creator': 'LaTeX with hyperref',\n",
       " 'producer': 'pdfTeX-1.40.20',\n",
       " 'creationDate': 'D:20230221083047Z',\n",
       " 'modDate': 'D:20230221083047Z',\n",
       " 'trapped': '',\n",
       " 'encryption': None}"
      ]
     },
     "execution_count": 4,
     "metadata": {},
     "output_type": "execute_result"
    }
   ],
   "source": [
    "doc.metadata"
   ]
  },
  {
   "cell_type": "code",
   "execution_count": 5,
   "id": "842eba61",
   "metadata": {},
   "outputs": [
    {
     "data": {
      "text/plain": [
       "500"
      ]
     },
     "execution_count": 5,
     "metadata": {},
     "output_type": "execute_result"
    }
   ],
   "source": [
    "doc.page_count"
   ]
  },
  {
   "cell_type": "markdown",
   "id": "7c83b43e",
   "metadata": {},
   "source": [
    "## Extracting Text Directly"
   ]
  },
  {
   "cell_type": "code",
   "execution_count": 6,
   "id": "a5929e42",
   "metadata": {},
   "outputs": [
    {
     "data": {
      "text/plain": [
       "'pymupdf-readthedocs-io-en-latest'"
      ]
     },
     "execution_count": 6,
     "metadata": {},
     "output_type": "execute_result"
    }
   ],
   "source": [
    "filepath.stem"
   ]
  },
  {
   "cell_type": "code",
   "execution_count": 7,
   "id": "170f2aca",
   "metadata": {},
   "outputs": [],
   "source": [
    "out = open(f\"./data/{filepath.stem}.txt\", \"wb\")  # open text output\n",
    "for page in doc:  # iterate the document pages\n",
    "    text = page.get_text().encode(\"utf8\")  # get plain text (is in UTF-8)\n",
    "    out.write(text)  # write text of page\n",
    "    out.write(bytes((12,)))  # write page delimiter (form feed 0x0C)\n",
    "out.close()"
   ]
  },
  {
   "cell_type": "markdown",
   "id": "515d739b",
   "metadata": {},
   "source": [
    "## Convert each page into images"
   ]
  },
  {
   "cell_type": "code",
   "execution_count": 12,
   "id": "05b1c968",
   "metadata": {},
   "outputs": [],
   "source": [
    "# Create a new folder with the file name\n",
    "os.makedirs(f\"./data/{filepath.stem}/\", exist_ok=True)\n",
    "\n",
    "#Save each page as a seperate image\n",
    "for page in doc:\n",
    "    image = page.get_pixmap()\n",
    "    image.save(f\"./data/{filepath.stem}/page_{page.number+1}.png\")"
   ]
  },
  {
   "cell_type": "code",
   "execution_count": null,
   "id": "bbfac647",
   "metadata": {},
   "outputs": [],
   "source": []
  },
  {
   "cell_type": "code",
   "execution_count": null,
   "id": "6f3520c4",
   "metadata": {},
   "outputs": [],
   "source": []
  }
 ],
 "metadata": {
  "kernelspec": {
   "display_name": "Python [conda env:pytorch_env]",
   "language": "python",
   "name": "conda-env-pytorch_env-py"
  },
  "language_info": {
   "codemirror_mode": {
    "name": "ipython",
    "version": 3
   },
   "file_extension": ".py",
   "mimetype": "text/x-python",
   "name": "python",
   "nbconvert_exporter": "python",
   "pygments_lexer": "ipython3",
   "version": "3.10.9"
  },
  "toc": {
   "base_numbering": 1,
   "nav_menu": {},
   "number_sections": true,
   "sideBar": true,
   "skip_h1_title": false,
   "title_cell": "Table of Contents",
   "title_sidebar": "Contents",
   "toc_cell": false,
   "toc_position": {},
   "toc_section_display": true,
   "toc_window_display": false
  }
 },
 "nbformat": 4,
 "nbformat_minor": 5
}
