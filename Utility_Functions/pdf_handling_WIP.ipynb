{
 "cells": [
  {
   "cell_type": "code",
   "execution_count": null,
   "id": "c761b59e",
   "metadata": {},
   "outputs": [],
   "source": [
    "#pip install pymupdf"
   ]
  },
  {
   "cell_type": "code",
   "execution_count": null,
   "id": "d658f6c5",
   "metadata": {},
   "outputs": [],
   "source": [
    "#meta data extraction"
   ]
  },
  {
   "cell_type": "code",
   "execution_count": null,
   "id": "91d42e7b",
   "metadata": {},
   "outputs": [],
   "source": [
    "#text extraction"
   ]
  },
  {
   "cell_type": "code",
   "execution_count": null,
   "id": "f28e36bd",
   "metadata": {},
   "outputs": [],
   "source": [
    "#convert into images"
   ]
  },
  {
   "cell_type": "code",
   "execution_count": null,
   "id": "05b1c968",
   "metadata": {},
   "outputs": [],
   "source": []
  },
  {
   "cell_type": "code",
   "execution_count": null,
   "id": "bbfac647",
   "metadata": {},
   "outputs": [],
   "source": []
  },
  {
   "cell_type": "code",
   "execution_count": null,
   "id": "6f3520c4",
   "metadata": {},
   "outputs": [],
   "source": []
  }
 ],
 "metadata": {
  "kernelspec": {
   "display_name": "Python [conda env:pytorch_env]",
   "language": "python",
   "name": "conda-env-pytorch_env-py"
  },
  "language_info": {
   "codemirror_mode": {
    "name": "ipython",
    "version": 3
   },
   "file_extension": ".py",
   "mimetype": "text/x-python",
   "name": "python",
   "nbconvert_exporter": "python",
   "pygments_lexer": "ipython3",
   "version": "3.10.4"
  },
  "toc": {
   "base_numbering": 1,
   "nav_menu": {},
   "number_sections": true,
   "sideBar": true,
   "skip_h1_title": false,
   "title_cell": "Table of Contents",
   "title_sidebar": "Contents",
   "toc_cell": false,
   "toc_position": {},
   "toc_section_display": true,
   "toc_window_display": false
  }
 },
 "nbformat": 4,
 "nbformat_minor": 5
}
