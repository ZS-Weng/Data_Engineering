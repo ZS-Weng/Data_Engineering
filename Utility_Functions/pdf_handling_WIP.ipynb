{
 "cells": [
  {
   "cell_type": "code",
   "execution_count": 1,
   "id": "c761b59e",
   "metadata": {},
   "outputs": [
    {
     "name": "stdout",
     "output_type": "stream",
     "text": [
      "Requirement already satisfied: pymupdf in c:\\users\\wengz\\anaconda3\\envs\\pytorch_env\\lib\\site-packages (1.20.2)\n"
     ]
    }
   ],
   "source": [
    "#!pip install pymupdf"
   ]
  },
  {
   "cell_type": "markdown",
   "id": "e1811bde",
   "metadata": {},
   "source": [
    "## Tutorial Link\n",
    "https://pymupdf.readthedocs.io/en/latest/tutorial.html"
   ]
  },
  {
   "cell_type": "markdown",
   "id": "532287b5",
   "metadata": {},
   "source": [
    "## meta data extraction"
   ]
  },
  {
   "cell_type": "code",
   "execution_count": 1,
   "id": "09df3ac3",
   "metadata": {},
   "outputs": [],
   "source": [
    "import fitz"
   ]
  },
  {
   "cell_type": "code",
   "execution_count": 2,
   "id": "d8393801",
   "metadata": {},
   "outputs": [],
   "source": [
    "doc = fitz.open(\"./data/pymupdf-readthedocs-io-en-latest.pdf\")"
   ]
  },
  {
   "cell_type": "code",
   "execution_count": 3,
   "id": "c2965fba",
   "metadata": {},
   "outputs": [
    {
     "data": {
      "text/plain": [
       "{'format': 'PDF 1.5',\n",
       " 'title': 'PyMuPDF Documentation',\n",
       " 'author': 'Artifex',\n",
       " 'subject': '',\n",
       " 'keywords': '',\n",
       " 'creator': 'LaTeX with hyperref',\n",
       " 'producer': 'pdfTeX-1.40.20',\n",
       " 'creationDate': 'D:20230221083047Z',\n",
       " 'modDate': 'D:20230221083047Z',\n",
       " 'trapped': '',\n",
       " 'encryption': None}"
      ]
     },
     "execution_count": 3,
     "metadata": {},
     "output_type": "execute_result"
    }
   ],
   "source": [
    "doc.metadata"
   ]
  },
  {
   "cell_type": "code",
   "execution_count": 4,
   "id": "842eba61",
   "metadata": {},
   "outputs": [
    {
     "data": {
      "text/plain": [
       "500"
      ]
     },
     "execution_count": 4,
     "metadata": {},
     "output_type": "execute_result"
    }
   ],
   "source": [
    "doc.page_count"
   ]
  },
  {
   "cell_type": "code",
   "execution_count": null,
   "id": "91d42e7b",
   "metadata": {},
   "outputs": [],
   "source": [
    "#text extraction"
   ]
  },
  {
   "cell_type": "code",
   "execution_count": null,
   "id": "f28e36bd",
   "metadata": {},
   "outputs": [],
   "source": [
    "#convert into images"
   ]
  },
  {
   "cell_type": "code",
   "execution_count": null,
   "id": "05b1c968",
   "metadata": {},
   "outputs": [],
   "source": []
  },
  {
   "cell_type": "code",
   "execution_count": null,
   "id": "bbfac647",
   "metadata": {},
   "outputs": [],
   "source": []
  },
  {
   "cell_type": "code",
   "execution_count": null,
   "id": "6f3520c4",
   "metadata": {},
   "outputs": [],
   "source": []
  }
 ],
 "metadata": {
  "kernelspec": {
   "display_name": "Python [conda env:pytorch_env]",
   "language": "python",
   "name": "conda-env-pytorch_env-py"
  },
  "language_info": {
   "codemirror_mode": {
    "name": "ipython",
    "version": 3
   },
   "file_extension": ".py",
   "mimetype": "text/x-python",
   "name": "python",
   "nbconvert_exporter": "python",
   "pygments_lexer": "ipython3",
   "version": "3.10.4"
  },
  "toc": {
   "base_numbering": 1,
   "nav_menu": {},
   "number_sections": true,
   "sideBar": true,
   "skip_h1_title": false,
   "title_cell": "Table of Contents",
   "title_sidebar": "Contents",
   "toc_cell": false,
   "toc_position": {},
   "toc_section_display": true,
   "toc_window_display": false
  }
 },
 "nbformat": 4,
 "nbformat_minor": 5
}
