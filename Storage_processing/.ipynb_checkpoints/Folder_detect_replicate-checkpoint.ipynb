{
 "cells": [
  {
   "cell_type": "code",
   "execution_count": 1,
   "metadata": {
    "id": "2TDOOY9lzczO"
   },
   "outputs": [],
   "source": [
    "import pandas as pd\n",
    "import numpy as np\n",
    "import os\n",
    "import shutil\n",
    "from pathlib import Path\n",
    "from datetime import datetime"
   ]
  },
  {
   "cell_type": "markdown",
   "metadata": {
    "id": "_WsPHJgzzxPR"
   },
   "source": [
    "## Folder Structure Detection\n"
   ]
  },
  {
   "cell_type": "code",
   "execution_count": null,
   "metadata": {
    "id": "icXyC98zz2Vz"
   },
   "outputs": [],
   "source": [
    "# Indicate folder to check\n",
    "folder_to_check = \"./\""
   ]
  },
  {
   "cell_type": "code",
   "execution_count": null,
   "metadata": {
    "id": "TJ3OH3c-z9FX"
   },
   "outputs": [],
   "source": [
    "list_folder_name = []\n",
    "list_subfolder_name = []\n",
    "list_filename = []\n",
    "dict_folder_name = {}\n",
    "\n",
    "for foldername, subfoldername, filename in os.walk(folder_to_check):\n",
    "    list_folder_name.append(foldername)\n",
    "    list_subfolder_name.append(subfoldername)\n",
    "    dict_folder_name[foldername] = subfoldername\n",
    "    list_filename.append(filename)"
   ]
  },
  {
   "cell_type": "code",
   "execution_count": null,
   "metadata": {
    "colab": {
     "base_uri": "https://localhost:8080/"
    },
    "id": "ckOTAS1O0jIB",
    "outputId": "1cba80fd-28cf-4f38-b729-6a753d281af6"
   },
   "outputs": [
    {
     "data": {
      "text/plain": [
       "['./',\n",
       " './.config',\n",
       " './.config/logs',\n",
       " './.config/logs/2023.01.18',\n",
       " './.config/configurations',\n",
       " './sample_data']"
      ]
     },
     "execution_count": 7,
     "metadata": {},
     "output_type": "execute_result"
    }
   ],
   "source": [
    "# List of all folders\n",
    "list_folder_name"
   ]
  },
  {
   "cell_type": "code",
   "execution_count": null,
   "metadata": {
    "colab": {
     "base_uri": "https://localhost:8080/"
    },
    "id": "y5Z6_eZa1Hgr",
    "outputId": "fb97b398-84ac-4e05-f57d-15c2de7b7ffd"
   },
   "outputs": [
    {
     "data": {
      "text/plain": [
       "['logs', 'configurations']"
      ]
     },
     "execution_count": 11,
     "metadata": {},
     "output_type": "execute_result"
    }
   ],
   "source": [
    "# Finding a list of subfolders for a given folder\n",
    "dict_folder_name.get('./.config')"
   ]
  },
  {
   "cell_type": "markdown",
   "metadata": {
    "id": "f1f2Bvpx1fvD"
   },
   "source": [
    "## Folder replication"
   ]
  },
  {
   "cell_type": "code",
   "execution_count": null,
   "metadata": {
    "id": "pDnSnwZR1VDt"
   },
   "outputs": [],
   "source": [
    "#Input destination location\n",
    "destination_location = \"\""
   ]
  },
  {
   "cell_type": "code",
   "execution_count": null,
   "metadata": {
    "id": "9JESVo9j42Bz"
   },
   "outputs": [],
   "source": []
  }
 ],
 "metadata": {
  "colab": {
   "provenance": []
  },
  "kernelspec": {
   "display_name": "Python 3 (ipykernel)",
   "language": "python",
   "name": "python3"
  },
  "language_info": {
   "codemirror_mode": {
    "name": "ipython",
    "version": 3
   },
   "file_extension": ".py",
   "mimetype": "text/x-python",
   "name": "python",
   "nbconvert_exporter": "python",
   "pygments_lexer": "ipython3",
   "version": "3.9.12"
  },
  "toc": {
   "base_numbering": 1,
   "nav_menu": {},
   "number_sections": true,
   "sideBar": true,
   "skip_h1_title": false,
   "title_cell": "Table of Contents",
   "title_sidebar": "Contents",
   "toc_cell": false,
   "toc_position": {},
   "toc_section_display": true,
   "toc_window_display": false
  }
 },
 "nbformat": 4,
 "nbformat_minor": 1
}
