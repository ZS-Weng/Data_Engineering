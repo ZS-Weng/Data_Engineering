{
  "nbformat": 4,
  "nbformat_minor": 0,
  "metadata": {
    "colab": {
      "provenance": []
    },
    "kernelspec": {
      "name": "python3",
      "display_name": "Python 3"
    },
    "language_info": {
      "name": "python"
    }
  },
  "cells": [
    {
      "cell_type": "code",
      "execution_count": null,
      "metadata": {
        "id": "2TDOOY9lzczO"
      },
      "outputs": [],
      "source": [
        "import pandas as pd\n",
        "import numpy as np\n",
        "import os\n",
        "import shutil\n",
        "from pathlib import Path\n",
        "from datetime import datetime"
      ]
    },
    {
      "cell_type": "markdown",
      "source": [
        "## Folder Structure Detection\n"
      ],
      "metadata": {
        "id": "_WsPHJgzzxPR"
      }
    },
    {
      "cell_type": "code",
      "source": [
        "# Indicate folder to check\n",
        "folder_to_check = \"./\""
      ],
      "metadata": {
        "id": "icXyC98zz2Vz"
      },
      "execution_count": null,
      "outputs": []
    },
    {
      "cell_type": "code",
      "source": [
        "list_folder_name = []\n",
        "list_subfolder_name = []\n",
        "list_filename = []\n",
        "dict_folder_name = {}\n",
        "\n",
        "for foldername, subfoldername, filename in os.walk(folder_to_check):\n",
        "    list_folder_name.append(foldername)\n",
        "    list_subfolder_name.append(subfoldername)\n",
        "    dict_folder_name[foldername] = subfoldername\n",
        "    list_filename.append(filename)"
      ],
      "metadata": {
        "id": "TJ3OH3c-z9FX"
      },
      "execution_count": null,
      "outputs": []
    },
    {
      "cell_type": "code",
      "source": [
        "# List of all folders\n",
        "list_folder_name"
      ],
      "metadata": {
        "colab": {
          "base_uri": "https://localhost:8080/"
        },
        "id": "ckOTAS1O0jIB",
        "outputId": "1cba80fd-28cf-4f38-b729-6a753d281af6"
      },
      "execution_count": null,
      "outputs": [
        {
          "output_type": "execute_result",
          "data": {
            "text/plain": [
              "['./',\n",
              " './.config',\n",
              " './.config/logs',\n",
              " './.config/logs/2023.01.18',\n",
              " './.config/configurations',\n",
              " './sample_data']"
            ]
          },
          "metadata": {},
          "execution_count": 7
        }
      ]
    },
    {
      "cell_type": "code",
      "source": [
        "# Finding a list of subfolders for a given folder\n",
        "dict_folder_name.get('./.config')"
      ],
      "metadata": {
        "colab": {
          "base_uri": "https://localhost:8080/"
        },
        "id": "y5Z6_eZa1Hgr",
        "outputId": "fb97b398-84ac-4e05-f57d-15c2de7b7ffd"
      },
      "execution_count": null,
      "outputs": [
        {
          "output_type": "execute_result",
          "data": {
            "text/plain": [
              "['logs', 'configurations']"
            ]
          },
          "metadata": {},
          "execution_count": 11
        }
      ]
    },
    {
      "cell_type": "markdown",
      "source": [
        "## Folder replication"
      ],
      "metadata": {
        "id": "f1f2Bvpx1fvD"
      }
    },
    {
      "cell_type": "code",
      "source": [
        "#Input destination location\n",
        "destination_location = \"\""
      ],
      "metadata": {
        "id": "pDnSnwZR1VDt"
      },
      "execution_count": null,
      "outputs": []
    },
    {
      "cell_type": "code",
      "source": [],
      "metadata": {
        "id": "9JESVo9j42Bz"
      },
      "execution_count": null,
      "outputs": []
    }
  ]
}